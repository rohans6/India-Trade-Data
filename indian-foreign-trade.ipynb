{
 "cells": [
  {
   "cell_type": "code",
   "execution_count": 1,
   "id": "unauthorized-prospect",
   "metadata": {
    "execution": {
     "iopub.execute_input": "2021-08-02T08:02:12.240277Z",
     "iopub.status.busy": "2021-08-02T08:02:12.235397Z",
     "iopub.status.idle": "2021-08-02T08:02:14.733099Z",
     "shell.execute_reply": "2021-08-02T08:02:14.732251Z",
     "shell.execute_reply.started": "2021-06-27T06:15:59.302501Z"
    },
    "papermill": {
     "duration": 2.534055,
     "end_time": "2021-08-02T08:02:14.733321",
     "exception": false,
     "start_time": "2021-08-02T08:02:12.199266",
     "status": "completed"
    },
    "tags": []
   },
   "outputs": [],
   "source": [
    "import pandas as pd\n",
    "import numpy as np\n",
    "import plotly.express as px\n",
    "import plotly.graph_objects as go\n",
    "import altair as alt\n",
    "alt.renderers.enable('default')\n",
    "import seaborn as sns\n",
    "import matplotlib.pyplot as plt"
   ]
  },
  {
   "cell_type": "code",
   "execution_count": 2,
   "id": "capital-contemporary",
   "metadata": {
    "execution": {
     "iopub.execute_input": "2021-08-02T08:02:14.791951Z",
     "iopub.status.busy": "2021-08-02T08:02:14.791091Z",
     "iopub.status.idle": "2021-08-02T08:02:15.280567Z",
     "shell.execute_reply": "2021-08-02T08:02:15.279935Z",
     "shell.execute_reply.started": "2021-06-27T06:16:01.741416Z"
    },
    "papermill": {
     "duration": 0.520803,
     "end_time": "2021-08-02T08:02:15.280773",
     "exception": false,
     "start_time": "2021-08-02T08:02:14.759970",
     "status": "completed"
    },
    "tags": []
   },
   "outputs": [],
   "source": [
    "import_data=pd.read_csv(\"../input/india-trade-data/2018-2010_import.csv\")\n",
    "export_data=pd.read_csv(\"../input/india-trade-data/2018-2010_export.csv\")"
   ]
  },
  {
   "cell_type": "code",
   "execution_count": 3,
   "id": "interpreted-technique",
   "metadata": {
    "execution": {
     "iopub.execute_input": "2021-08-02T08:02:15.350178Z",
     "iopub.status.busy": "2021-08-02T08:02:15.349458Z",
     "iopub.status.idle": "2021-08-02T08:02:15.374386Z",
     "shell.execute_reply": "2021-08-02T08:02:15.373845Z",
     "shell.execute_reply.started": "2021-06-27T06:16:02.160341Z"
    },
    "papermill": {
     "duration": 0.066277,
     "end_time": "2021-08-02T08:02:15.374548",
     "exception": false,
     "start_time": "2021-08-02T08:02:15.308271",
     "status": "completed"
    },
    "tags": []
   },
   "outputs": [
    {
     "data": {
      "text/html": [
       "<div>\n",
       "<style scoped>\n",
       "    .dataframe tbody tr th:only-of-type {\n",
       "        vertical-align: middle;\n",
       "    }\n",
       "\n",
       "    .dataframe tbody tr th {\n",
       "        vertical-align: top;\n",
       "    }\n",
       "\n",
       "    .dataframe thead th {\n",
       "        text-align: right;\n",
       "    }\n",
       "</style>\n",
       "<table border=\"1\" class=\"dataframe\">\n",
       "  <thead>\n",
       "    <tr style=\"text-align: right;\">\n",
       "      <th></th>\n",
       "      <th>HSCode</th>\n",
       "      <th>Commodity</th>\n",
       "      <th>value</th>\n",
       "      <th>country</th>\n",
       "      <th>year</th>\n",
       "    </tr>\n",
       "  </thead>\n",
       "  <tbody>\n",
       "    <tr>\n",
       "      <th>0</th>\n",
       "      <td>5</td>\n",
       "      <td>PRODUCTS OF ANIMAL ORIGIN, NOT ELSEWHERE SPECI...</td>\n",
       "      <td>0.00</td>\n",
       "      <td>AFGHANISTAN TIS</td>\n",
       "      <td>2018</td>\n",
       "    </tr>\n",
       "    <tr>\n",
       "      <th>1</th>\n",
       "      <td>7</td>\n",
       "      <td>EDIBLE VEGETABLES AND CERTAIN ROOTS AND TUBERS.</td>\n",
       "      <td>12.38</td>\n",
       "      <td>AFGHANISTAN TIS</td>\n",
       "      <td>2018</td>\n",
       "    </tr>\n",
       "    <tr>\n",
       "      <th>2</th>\n",
       "      <td>8</td>\n",
       "      <td>EDIBLE FRUIT AND NUTS; PEEL OR CITRUS FRUIT OR...</td>\n",
       "      <td>268.60</td>\n",
       "      <td>AFGHANISTAN TIS</td>\n",
       "      <td>2018</td>\n",
       "    </tr>\n",
       "    <tr>\n",
       "      <th>3</th>\n",
       "      <td>9</td>\n",
       "      <td>COFFEE, TEA, MATE AND SPICES.</td>\n",
       "      <td>35.48</td>\n",
       "      <td>AFGHANISTAN TIS</td>\n",
       "      <td>2018</td>\n",
       "    </tr>\n",
       "    <tr>\n",
       "      <th>4</th>\n",
       "      <td>11</td>\n",
       "      <td>PRODUCTS OF THE MILLING INDUSTRY; MALT; STARCH...</td>\n",
       "      <td>NaN</td>\n",
       "      <td>AFGHANISTAN TIS</td>\n",
       "      <td>2018</td>\n",
       "    </tr>\n",
       "  </tbody>\n",
       "</table>\n",
       "</div>"
      ],
      "text/plain": [
       "   HSCode                                          Commodity   value  \\\n",
       "0       5  PRODUCTS OF ANIMAL ORIGIN, NOT ELSEWHERE SPECI...    0.00   \n",
       "1       7    EDIBLE VEGETABLES AND CERTAIN ROOTS AND TUBERS.   12.38   \n",
       "2       8  EDIBLE FRUIT AND NUTS; PEEL OR CITRUS FRUIT OR...  268.60   \n",
       "3       9                      COFFEE, TEA, MATE AND SPICES.   35.48   \n",
       "4      11  PRODUCTS OF THE MILLING INDUSTRY; MALT; STARCH...     NaN   \n",
       "\n",
       "           country  year  \n",
       "0  AFGHANISTAN TIS  2018  \n",
       "1  AFGHANISTAN TIS  2018  \n",
       "2  AFGHANISTAN TIS  2018  \n",
       "3  AFGHANISTAN TIS  2018  \n",
       "4  AFGHANISTAN TIS  2018  "
      ]
     },
     "execution_count": 3,
     "metadata": {},
     "output_type": "execute_result"
    }
   ],
   "source": [
    "import_data.head()"
   ]
  },
  {
   "cell_type": "code",
   "execution_count": 4,
   "id": "distributed-cycling",
   "metadata": {
    "execution": {
     "iopub.execute_input": "2021-08-02T08:02:15.440856Z",
     "iopub.status.busy": "2021-08-02T08:02:15.439935Z",
     "iopub.status.idle": "2021-08-02T08:02:15.443692Z",
     "shell.execute_reply": "2021-08-02T08:02:15.444152Z",
     "shell.execute_reply.started": "2021-06-27T06:16:02.196689Z"
    },
    "papermill": {
     "duration": 0.043293,
     "end_time": "2021-08-02T08:02:15.444346",
     "exception": false,
     "start_time": "2021-08-02T08:02:15.401053",
     "status": "completed"
    },
    "tags": []
   },
   "outputs": [
    {
     "data": {
      "text/html": [
       "<div>\n",
       "<style scoped>\n",
       "    .dataframe tbody tr th:only-of-type {\n",
       "        vertical-align: middle;\n",
       "    }\n",
       "\n",
       "    .dataframe tbody tr th {\n",
       "        vertical-align: top;\n",
       "    }\n",
       "\n",
       "    .dataframe thead th {\n",
       "        text-align: right;\n",
       "    }\n",
       "</style>\n",
       "<table border=\"1\" class=\"dataframe\">\n",
       "  <thead>\n",
       "    <tr style=\"text-align: right;\">\n",
       "      <th></th>\n",
       "      <th>HSCode</th>\n",
       "      <th>Commodity</th>\n",
       "      <th>value</th>\n",
       "      <th>country</th>\n",
       "      <th>year</th>\n",
       "    </tr>\n",
       "  </thead>\n",
       "  <tbody>\n",
       "    <tr>\n",
       "      <th>0</th>\n",
       "      <td>2</td>\n",
       "      <td>MEAT AND EDIBLE MEAT OFFAL.</td>\n",
       "      <td>0.18</td>\n",
       "      <td>AFGHANISTAN TIS</td>\n",
       "      <td>2018</td>\n",
       "    </tr>\n",
       "    <tr>\n",
       "      <th>1</th>\n",
       "      <td>3</td>\n",
       "      <td>FISH AND CRUSTACEANS, MOLLUSCS AND OTHER AQUAT...</td>\n",
       "      <td>0.00</td>\n",
       "      <td>AFGHANISTAN TIS</td>\n",
       "      <td>2018</td>\n",
       "    </tr>\n",
       "    <tr>\n",
       "      <th>2</th>\n",
       "      <td>4</td>\n",
       "      <td>DAIRY PRODUCE; BIRDS' EGGS; NATURAL HONEY; EDI...</td>\n",
       "      <td>12.48</td>\n",
       "      <td>AFGHANISTAN TIS</td>\n",
       "      <td>2018</td>\n",
       "    </tr>\n",
       "    <tr>\n",
       "      <th>3</th>\n",
       "      <td>6</td>\n",
       "      <td>LIVE TREES AND OTHER PLANTS; BULBS; ROOTS AND ...</td>\n",
       "      <td>0.00</td>\n",
       "      <td>AFGHANISTAN TIS</td>\n",
       "      <td>2018</td>\n",
       "    </tr>\n",
       "    <tr>\n",
       "      <th>4</th>\n",
       "      <td>7</td>\n",
       "      <td>EDIBLE VEGETABLES AND CERTAIN ROOTS AND TUBERS.</td>\n",
       "      <td>1.89</td>\n",
       "      <td>AFGHANISTAN TIS</td>\n",
       "      <td>2018</td>\n",
       "    </tr>\n",
       "  </tbody>\n",
       "</table>\n",
       "</div>"
      ],
      "text/plain": [
       "   HSCode                                          Commodity  value  \\\n",
       "0       2                        MEAT AND EDIBLE MEAT OFFAL.   0.18   \n",
       "1       3  FISH AND CRUSTACEANS, MOLLUSCS AND OTHER AQUAT...   0.00   \n",
       "2       4  DAIRY PRODUCE; BIRDS' EGGS; NATURAL HONEY; EDI...  12.48   \n",
       "3       6  LIVE TREES AND OTHER PLANTS; BULBS; ROOTS AND ...   0.00   \n",
       "4       7    EDIBLE VEGETABLES AND CERTAIN ROOTS AND TUBERS.   1.89   \n",
       "\n",
       "           country  year  \n",
       "0  AFGHANISTAN TIS  2018  \n",
       "1  AFGHANISTAN TIS  2018  \n",
       "2  AFGHANISTAN TIS  2018  \n",
       "3  AFGHANISTAN TIS  2018  \n",
       "4  AFGHANISTAN TIS  2018  "
      ]
     },
     "execution_count": 4,
     "metadata": {},
     "output_type": "execute_result"
    }
   ],
   "source": [
    "export_data.head()"
   ]
  },
  {
   "cell_type": "markdown",
   "id": "progressive-adobe",
   "metadata": {
    "papermill": {
     "duration": 0.026261,
     "end_time": "2021-08-02T08:02:15.497096",
     "exception": false,
     "start_time": "2021-08-02T08:02:15.470835",
     "status": "completed"
    },
    "tags": []
   },
   "source": [
    "* HSCode:- The Harmonized System is a standardized numerical method of classifying traded products. It is used by customs authorities around the world to identify products when assessing duties and taxes and for gathering statistics. \n",
    "\n",
    "* Commodity:- Name of commodity as per HS2\n",
    "\n",
    "* value:-  Value of Export or Import according to dataframes\n",
    "\n",
    "* country:- Country of Export or Import acccording to dataframes\n",
    "\n",
    "* year:-   Year of Import or Export"
   ]
  },
  {
   "cell_type": "code",
   "execution_count": 5,
   "id": "relative-remove",
   "metadata": {
    "execution": {
     "iopub.execute_input": "2021-08-02T08:02:15.553776Z",
     "iopub.status.busy": "2021-08-02T08:02:15.552849Z",
     "iopub.status.idle": "2021-08-02T08:02:15.590686Z",
     "shell.execute_reply": "2021-08-02T08:02:15.591220Z",
     "shell.execute_reply.started": "2021-06-27T06:16:02.210401Z"
    },
    "papermill": {
     "duration": 0.067777,
     "end_time": "2021-08-02T08:02:15.591433",
     "exception": false,
     "start_time": "2021-08-02T08:02:15.523656",
     "status": "completed"
    },
    "tags": []
   },
   "outputs": [
    {
     "name": "stdout",
     "output_type": "stream",
     "text": [
      "<class 'pandas.core.frame.DataFrame'>\n",
      "RangeIndex: 76124 entries, 0 to 76123\n",
      "Data columns (total 5 columns):\n",
      " #   Column     Non-Null Count  Dtype  \n",
      "---  ------     --------------  -----  \n",
      " 0   HSCode     76124 non-null  int64  \n",
      " 1   Commodity  76124 non-null  object \n",
      " 2   value      64536 non-null  float64\n",
      " 3   country    76124 non-null  object \n",
      " 4   year       76124 non-null  int64  \n",
      "dtypes: float64(1), int64(2), object(2)\n",
      "memory usage: 2.9+ MB\n"
     ]
    }
   ],
   "source": [
    "import_data.info()"
   ]
  },
  {
   "cell_type": "code",
   "execution_count": 6,
   "id": "copyrighted-communications",
   "metadata": {
    "execution": {
     "iopub.execute_input": "2021-08-02T08:02:15.649076Z",
     "iopub.status.busy": "2021-08-02T08:02:15.648130Z",
     "iopub.status.idle": "2021-08-02T08:02:15.691301Z",
     "shell.execute_reply": "2021-08-02T08:02:15.690677Z",
     "shell.execute_reply.started": "2021-06-27T06:16:02.254371Z"
    },
    "papermill": {
     "duration": 0.073256,
     "end_time": "2021-08-02T08:02:15.691471",
     "exception": false,
     "start_time": "2021-08-02T08:02:15.618215",
     "status": "completed"
    },
    "tags": []
   },
   "outputs": [
    {
     "name": "stdout",
     "output_type": "stream",
     "text": [
      "<class 'pandas.core.frame.DataFrame'>\n",
      "RangeIndex: 137023 entries, 0 to 137022\n",
      "Data columns (total 5 columns):\n",
      " #   Column     Non-Null Count   Dtype  \n",
      "---  ------     --------------   -----  \n",
      " 0   HSCode     137023 non-null  int64  \n",
      " 1   Commodity  137023 non-null  object \n",
      " 2   value      122985 non-null  float64\n",
      " 3   country    137023 non-null  object \n",
      " 4   year       137023 non-null  int64  \n",
      "dtypes: float64(1), int64(2), object(2)\n",
      "memory usage: 5.2+ MB\n"
     ]
    }
   ],
   "source": [
    "export_data.info()"
   ]
  },
  {
   "cell_type": "markdown",
   "id": "alleged-landing",
   "metadata": {
    "papermill": {
     "duration": 0.027291,
     "end_time": "2021-08-02T08:02:15.746631",
     "exception": false,
     "start_time": "2021-08-02T08:02:15.719340",
     "status": "completed"
    },
    "tags": []
   },
   "source": [
    "*  Both Export and Import Data-Frames have NAN values in the value column and count of NAN values is also less so dropping all rows which contain NAN value"
   ]
  },
  {
   "cell_type": "code",
   "execution_count": 7,
   "id": "manual-passing",
   "metadata": {
    "execution": {
     "iopub.execute_input": "2021-08-02T08:02:15.823311Z",
     "iopub.status.busy": "2021-08-02T08:02:15.808011Z",
     "iopub.status.idle": "2021-08-02T08:02:15.897452Z",
     "shell.execute_reply": "2021-08-02T08:02:15.896867Z",
     "shell.execute_reply.started": "2021-06-27T06:16:02.297651Z"
    },
    "papermill": {
     "duration": 0.123212,
     "end_time": "2021-08-02T08:02:15.897594",
     "exception": false,
     "start_time": "2021-08-02T08:02:15.774382",
     "status": "completed"
    },
    "tags": []
   },
   "outputs": [],
   "source": [
    "import_data=import_data.dropna()\n",
    "export_data=export_data.dropna()"
   ]
  },
  {
   "cell_type": "code",
   "execution_count": 8,
   "id": "complex-royalty",
   "metadata": {
    "execution": {
     "iopub.execute_input": "2021-08-02T08:02:15.962528Z",
     "iopub.status.busy": "2021-08-02T08:02:15.961815Z",
     "iopub.status.idle": "2021-08-02T08:02:15.993136Z",
     "shell.execute_reply": "2021-08-02T08:02:15.992594Z",
     "shell.execute_reply.started": "2021-06-27T06:16:02.38223Z"
    },
    "papermill": {
     "duration": 0.068361,
     "end_time": "2021-08-02T08:02:15.993294",
     "exception": false,
     "start_time": "2021-08-02T08:02:15.924933",
     "status": "completed"
    },
    "tags": []
   },
   "outputs": [
    {
     "name": "stdout",
     "output_type": "stream",
     "text": [
      "No of Unique Import Commodities from 2010 to 2018 = 98\n",
      "No of Unique Export Commodities from 2010 to 2018 = 98\n"
     ]
    }
   ],
   "source": [
    "unique_import_commodities=import_data.Commodity.unique().tolist()\n",
    "unique_export_commodities=export_data.Commodity.unique().tolist()\n",
    "print(\"No of Unique Import Commodities from 2010 to 2018 =\",len(unique_import_commodities))\n",
    "print(\"No of Unique Export Commodities from 2010 to 2018 =\",len(unique_export_commodities))"
   ]
  },
  {
   "cell_type": "code",
   "execution_count": 9,
   "id": "governmental-dominican",
   "metadata": {
    "execution": {
     "iopub.execute_input": "2021-08-02T08:02:16.060118Z",
     "iopub.status.busy": "2021-08-02T08:02:16.059066Z",
     "iopub.status.idle": "2021-08-02T08:02:16.076632Z",
     "shell.execute_reply": "2021-08-02T08:02:16.075780Z",
     "shell.execute_reply.started": "2021-06-27T06:16:02.418252Z"
    },
    "papermill": {
     "duration": 0.056097,
     "end_time": "2021-08-02T08:02:16.076850",
     "exception": false,
     "start_time": "2021-08-02T08:02:16.020753",
     "status": "completed"
    },
    "tags": []
   },
   "outputs": [
    {
     "name": "stdout",
     "output_type": "stream",
     "text": [
      "No of Countries from which Commodities are imported from 2010 to 2018= 241\n",
      "No of Countries to   which Commodities are exported from 2010 to 2018= 248\n"
     ]
    }
   ],
   "source": [
    "unique_import_countries=import_data.country.unique().tolist()\n",
    "unique_export_countries=export_data.country.unique().tolist()\n",
    "print(\"No of Countries from which Commodities are imported from 2010 to 2018=\",len(unique_import_countries))\n",
    "print(\"No of Countries to   which Commodities are exported from 2010 to 2018=\",len(unique_export_countries))"
   ]
  },
  {
   "cell_type": "code",
   "execution_count": 10,
   "id": "coupled-reservoir",
   "metadata": {
    "execution": {
     "iopub.execute_input": "2021-08-02T08:02:16.151707Z",
     "iopub.status.busy": "2021-08-02T08:02:16.150622Z",
     "iopub.status.idle": "2021-08-02T08:02:16.192762Z",
     "shell.execute_reply": "2021-08-02T08:02:16.192058Z",
     "shell.execute_reply.started": "2021-06-27T06:16:02.439444Z"
    },
    "papermill": {
     "duration": 0.085582,
     "end_time": "2021-08-02T08:02:16.192925",
     "exception": false,
     "start_time": "2021-08-02T08:02:16.107343",
     "status": "completed"
    },
    "tags": []
   },
   "outputs": [
    {
     "data": {
      "text/html": [
       "<div>\n",
       "<style scoped>\n",
       "    .dataframe tbody tr th:only-of-type {\n",
       "        vertical-align: middle;\n",
       "    }\n",
       "\n",
       "    .dataframe tbody tr th {\n",
       "        vertical-align: top;\n",
       "    }\n",
       "\n",
       "    .dataframe thead th {\n",
       "        text-align: right;\n",
       "    }\n",
       "</style>\n",
       "<table border=\"1\" class=\"dataframe\">\n",
       "  <thead>\n",
       "    <tr style=\"text-align: right;\">\n",
       "      <th></th>\n",
       "      <th>year</th>\n",
       "      <th>Import</th>\n",
       "      <th>Export</th>\n",
       "      <th>Growth in Import</th>\n",
       "      <th>Growth in Export</th>\n",
       "      <th>Deficit</th>\n",
       "    </tr>\n",
       "  </thead>\n",
       "  <tbody>\n",
       "    <tr>\n",
       "      <th>0</th>\n",
       "      <td>2010</td>\n",
       "      <td>369762.25</td>\n",
       "      <td>249801.18</td>\n",
       "      <td>0.000000</td>\n",
       "      <td>0.000000</td>\n",
       "      <td>-119961.07</td>\n",
       "    </tr>\n",
       "    <tr>\n",
       "      <th>1</th>\n",
       "      <td>2011</td>\n",
       "      <td>489311.81</td>\n",
       "      <td>305948.28</td>\n",
       "      <td>0.323315</td>\n",
       "      <td>0.224767</td>\n",
       "      <td>-183363.53</td>\n",
       "    </tr>\n",
       "    <tr>\n",
       "      <th>2</th>\n",
       "      <td>2012</td>\n",
       "      <td>490730.07</td>\n",
       "      <td>300384.32</td>\n",
       "      <td>0.002898</td>\n",
       "      <td>-0.018186</td>\n",
       "      <td>-190345.75</td>\n",
       "    </tr>\n",
       "    <tr>\n",
       "      <th>3</th>\n",
       "      <td>2013</td>\n",
       "      <td>450192.99</td>\n",
       "      <td>314388.61</td>\n",
       "      <td>-0.082606</td>\n",
       "      <td>0.046621</td>\n",
       "      <td>-135804.38</td>\n",
       "    </tr>\n",
       "    <tr>\n",
       "      <th>4</th>\n",
       "      <td>2014</td>\n",
       "      <td>448026.63</td>\n",
       "      <td>310321.02</td>\n",
       "      <td>-0.004812</td>\n",
       "      <td>-0.012938</td>\n",
       "      <td>-137705.61</td>\n",
       "    </tr>\n",
       "    <tr>\n",
       "      <th>5</th>\n",
       "      <td>2015</td>\n",
       "      <td>412537.53</td>\n",
       "      <td>262274.30</td>\n",
       "      <td>-0.079212</td>\n",
       "      <td>-0.154829</td>\n",
       "      <td>-150263.23</td>\n",
       "    </tr>\n",
       "    <tr>\n",
       "      <th>6</th>\n",
       "      <td>2016</td>\n",
       "      <td>384350.29</td>\n",
       "      <td>275835.27</td>\n",
       "      <td>-0.068326</td>\n",
       "      <td>0.051705</td>\n",
       "      <td>-108515.02</td>\n",
       "    </tr>\n",
       "    <tr>\n",
       "      <th>7</th>\n",
       "      <td>2017</td>\n",
       "      <td>465574.02</td>\n",
       "      <td>303507.85</td>\n",
       "      <td>0.211327</td>\n",
       "      <td>0.100323</td>\n",
       "      <td>-162066.17</td>\n",
       "    </tr>\n",
       "    <tr>\n",
       "      <th>8</th>\n",
       "      <td>2018</td>\n",
       "      <td>514071.33</td>\n",
       "      <td>330058.64</td>\n",
       "      <td>0.104167</td>\n",
       "      <td>0.087480</td>\n",
       "      <td>-184012.69</td>\n",
       "    </tr>\n",
       "  </tbody>\n",
       "</table>\n",
       "</div>"
      ],
      "text/plain": [
       "   year     Import     Export  Growth in Import  Growth in Export    Deficit\n",
       "0  2010  369762.25  249801.18          0.000000          0.000000 -119961.07\n",
       "1  2011  489311.81  305948.28          0.323315          0.224767 -183363.53\n",
       "2  2012  490730.07  300384.32          0.002898         -0.018186 -190345.75\n",
       "3  2013  450192.99  314388.61         -0.082606          0.046621 -135804.38\n",
       "4  2014  448026.63  310321.02         -0.004812         -0.012938 -137705.61\n",
       "5  2015  412537.53  262274.30         -0.079212         -0.154829 -150263.23\n",
       "6  2016  384350.29  275835.27         -0.068326          0.051705 -108515.02\n",
       "7  2017  465574.02  303507.85          0.211327          0.100323 -162066.17\n",
       "8  2018  514071.33  330058.64          0.104167          0.087480 -184012.69"
      ]
     },
     "execution_count": 10,
     "metadata": {},
     "output_type": "execute_result"
    }
   ],
   "source": [
    "i=import_data.groupby('year',as_index=False).agg({\"value\":\"sum\"}).rename(columns={'value':'Import'})\n",
    "e=export_data.groupby('year',as_index=False).agg({\"value\":\"sum\"}).rename(columns={'value':'Export'})\n",
    "df=pd.merge(i,e,on='year')\n",
    "df['Growth in Import']=df.set_index('year')['Import'].pct_change().values\n",
    "df['Growth in Export']=df.set_index('year')['Export'].pct_change().values\n",
    "df['Deficit']=df['Export']-df['Import']\n",
    "df['Growth in Import'].fillna(0,inplace=True)\n",
    "df['Growth in Export'].fillna(0,inplace=True)\n",
    "df"
   ]
  },
  {
   "cell_type": "code",
   "execution_count": 11,
   "id": "great-genome",
   "metadata": {
    "execution": {
     "iopub.execute_input": "2021-08-02T08:02:16.259200Z",
     "iopub.status.busy": "2021-08-02T08:02:16.258344Z",
     "iopub.status.idle": "2021-08-02T08:02:16.401963Z",
     "shell.execute_reply": "2021-08-02T08:02:16.401382Z",
     "shell.execute_reply.started": "2021-06-27T06:16:02.487653Z"
    },
    "papermill": {
     "duration": 0.179986,
     "end_time": "2021-08-02T08:02:16.402128",
     "exception": false,
     "start_time": "2021-08-02T08:02:16.222142",
     "status": "completed"
    },
    "tags": []
   },
   "outputs": [
    {
     "data": {
      "text/html": [
       "        <script type=\"text/javascript\">\n",
       "        window.PlotlyConfig = {MathJaxConfig: 'local'};\n",
       "        if (window.MathJax) {MathJax.Hub.Config({SVG: {font: \"STIX-Web\"}});}\n",
       "        if (typeof require !== 'undefined') {\n",
       "        require.undef(\"plotly\");\n",
       "        requirejs.config({\n",
       "            paths: {\n",
       "                'plotly': ['https://cdn.plot.ly/plotly-latest.min']\n",
       "            }\n",
       "        });\n",
       "        require(['plotly'], function(Plotly) {\n",
       "            window._Plotly = Plotly;\n",
       "        });\n",
       "        }\n",
       "        </script>\n",
       "        "
      ]
     },
     "metadata": {},
     "output_type": "display_data"
    },
    {
     "data": {
      "text/html": [
       "<div>                            <div id=\"7b87163c-b13b-43c3-8ea0-9b1fc602cf92\" class=\"plotly-graph-div\" style=\"height:525px; width:100%;\"></div>            <script type=\"text/javascript\">                require([\"plotly\"], function(Plotly) {                    window.PLOTLYENV=window.PLOTLYENV || {};                                    if (document.getElementById(\"7b87163c-b13b-43c3-8ea0-9b1fc602cf92\")) {                    Plotly.newPlot(                        \"7b87163c-b13b-43c3-8ea0-9b1fc602cf92\",                        [{\"marker\": {\"color\": \"#50D3E3\"}, \"name\": \"Import\", \"type\": \"bar\", \"x\": [2010, 2011, 2012, 2013, 2014, 2015, 2016, 2017, 2018], \"y\": [369762.2500000019, 489311.8100000057, 490730.070000005, 450192.9900000038, 448026.63000000425, 412537.53000000434, 384350.29000000155, 465574.020000006, 514071.3300000072]}, {\"marker\": {\"color\": \"#FF3900\"}, \"name\": \"Export\", \"type\": \"bar\", \"x\": [2010, 2011, 2012, 2013, 2014, 2015, 2016, 2017, 2018], \"y\": [249801.17999999932, 305948.28000000224, 300384.3200000004, 314388.6100000009, 310321.020000002, 262274.30000000016, 275835.2699999999, 303507.8500000001, 330058.6400000003]}],                        {\"template\": {\"data\": {\"bar\": [{\"error_x\": {\"color\": \"#2a3f5f\"}, \"error_y\": {\"color\": \"#2a3f5f\"}, \"marker\": {\"line\": {\"color\": \"#E5ECF6\", \"width\": 0.5}}, \"type\": \"bar\"}], \"barpolar\": [{\"marker\": {\"line\": {\"color\": \"#E5ECF6\", \"width\": 0.5}}, \"type\": \"barpolar\"}], \"carpet\": [{\"aaxis\": {\"endlinecolor\": \"#2a3f5f\", \"gridcolor\": \"white\", \"linecolor\": \"white\", \"minorgridcolor\": \"white\", \"startlinecolor\": \"#2a3f5f\"}, \"baxis\": {\"endlinecolor\": \"#2a3f5f\", \"gridcolor\": \"white\", \"linecolor\": \"white\", \"minorgridcolor\": \"white\", \"startlinecolor\": \"#2a3f5f\"}, \"type\": \"carpet\"}], \"choropleth\": [{\"colorbar\": {\"outlinewidth\": 0, \"ticks\": \"\"}, \"type\": \"choropleth\"}], \"contour\": [{\"colorbar\": {\"outlinewidth\": 0, \"ticks\": \"\"}, \"colorscale\": [[0.0, \"#0d0887\"], [0.1111111111111111, \"#46039f\"], [0.2222222222222222, \"#7201a8\"], [0.3333333333333333, \"#9c179e\"], [0.4444444444444444, \"#bd3786\"], [0.5555555555555556, \"#d8576b\"], [0.6666666666666666, \"#ed7953\"], [0.7777777777777778, \"#fb9f3a\"], [0.8888888888888888, \"#fdca26\"], [1.0, \"#f0f921\"]], \"type\": \"contour\"}], \"contourcarpet\": [{\"colorbar\": {\"outlinewidth\": 0, \"ticks\": \"\"}, \"type\": \"contourcarpet\"}], \"heatmap\": [{\"colorbar\": {\"outlinewidth\": 0, \"ticks\": \"\"}, \"colorscale\": [[0.0, \"#0d0887\"], [0.1111111111111111, \"#46039f\"], [0.2222222222222222, \"#7201a8\"], [0.3333333333333333, \"#9c179e\"], [0.4444444444444444, \"#bd3786\"], [0.5555555555555556, \"#d8576b\"], [0.6666666666666666, \"#ed7953\"], [0.7777777777777778, \"#fb9f3a\"], [0.8888888888888888, \"#fdca26\"], [1.0, \"#f0f921\"]], \"type\": \"heatmap\"}], \"heatmapgl\": [{\"colorbar\": {\"outlinewidth\": 0, \"ticks\": \"\"}, \"colorscale\": [[0.0, \"#0d0887\"], [0.1111111111111111, \"#46039f\"], [0.2222222222222222, \"#7201a8\"], [0.3333333333333333, \"#9c179e\"], [0.4444444444444444, \"#bd3786\"], [0.5555555555555556, \"#d8576b\"], [0.6666666666666666, \"#ed7953\"], [0.7777777777777778, \"#fb9f3a\"], [0.8888888888888888, \"#fdca26\"], [1.0, \"#f0f921\"]], \"type\": \"heatmapgl\"}], \"histogram\": [{\"marker\": {\"colorbar\": {\"outlinewidth\": 0, \"ticks\": \"\"}}, \"type\": \"histogram\"}], \"histogram2d\": [{\"colorbar\": {\"outlinewidth\": 0, \"ticks\": \"\"}, \"colorscale\": [[0.0, \"#0d0887\"], [0.1111111111111111, \"#46039f\"], [0.2222222222222222, \"#7201a8\"], [0.3333333333333333, \"#9c179e\"], [0.4444444444444444, \"#bd3786\"], [0.5555555555555556, \"#d8576b\"], [0.6666666666666666, \"#ed7953\"], [0.7777777777777778, \"#fb9f3a\"], [0.8888888888888888, \"#fdca26\"], [1.0, \"#f0f921\"]], \"type\": \"histogram2d\"}], \"histogram2dcontour\": [{\"colorbar\": {\"outlinewidth\": 0, \"ticks\": \"\"}, \"colorscale\": [[0.0, \"#0d0887\"], [0.1111111111111111, \"#46039f\"], [0.2222222222222222, \"#7201a8\"], [0.3333333333333333, \"#9c179e\"], [0.4444444444444444, \"#bd3786\"], [0.5555555555555556, \"#d8576b\"], [0.6666666666666666, \"#ed7953\"], [0.7777777777777778, \"#fb9f3a\"], [0.8888888888888888, \"#fdca26\"], [1.0, \"#f0f921\"]], \"type\": \"histogram2dcontour\"}], \"mesh3d\": [{\"colorbar\": {\"outlinewidth\": 0, \"ticks\": \"\"}, \"type\": \"mesh3d\"}], \"parcoords\": [{\"line\": {\"colorbar\": {\"outlinewidth\": 0, \"ticks\": \"\"}}, \"type\": \"parcoords\"}], \"pie\": [{\"automargin\": true, \"type\": \"pie\"}], \"scatter\": [{\"marker\": {\"colorbar\": {\"outlinewidth\": 0, \"ticks\": \"\"}}, \"type\": \"scatter\"}], \"scatter3d\": [{\"line\": {\"colorbar\": {\"outlinewidth\": 0, \"ticks\": \"\"}}, \"marker\": {\"colorbar\": {\"outlinewidth\": 0, \"ticks\": \"\"}}, \"type\": \"scatter3d\"}], \"scattercarpet\": [{\"marker\": {\"colorbar\": {\"outlinewidth\": 0, \"ticks\": \"\"}}, \"type\": \"scattercarpet\"}], \"scattergeo\": [{\"marker\": {\"colorbar\": {\"outlinewidth\": 0, \"ticks\": \"\"}}, \"type\": \"scattergeo\"}], \"scattergl\": [{\"marker\": {\"colorbar\": {\"outlinewidth\": 0, \"ticks\": \"\"}}, \"type\": \"scattergl\"}], \"scattermapbox\": [{\"marker\": {\"colorbar\": {\"outlinewidth\": 0, \"ticks\": \"\"}}, \"type\": \"scattermapbox\"}], \"scatterpolar\": [{\"marker\": {\"colorbar\": {\"outlinewidth\": 0, \"ticks\": \"\"}}, \"type\": \"scatterpolar\"}], \"scatterpolargl\": [{\"marker\": {\"colorbar\": {\"outlinewidth\": 0, \"ticks\": \"\"}}, \"type\": \"scatterpolargl\"}], \"scatterternary\": [{\"marker\": {\"colorbar\": {\"outlinewidth\": 0, \"ticks\": \"\"}}, \"type\": \"scatterternary\"}], \"surface\": [{\"colorbar\": {\"outlinewidth\": 0, \"ticks\": \"\"}, \"colorscale\": [[0.0, \"#0d0887\"], [0.1111111111111111, \"#46039f\"], [0.2222222222222222, \"#7201a8\"], [0.3333333333333333, \"#9c179e\"], [0.4444444444444444, \"#bd3786\"], [0.5555555555555556, \"#d8576b\"], [0.6666666666666666, \"#ed7953\"], [0.7777777777777778, \"#fb9f3a\"], [0.8888888888888888, \"#fdca26\"], [1.0, \"#f0f921\"]], \"type\": \"surface\"}], \"table\": [{\"cells\": {\"fill\": {\"color\": \"#EBF0F8\"}, \"line\": {\"color\": \"white\"}}, \"header\": {\"fill\": {\"color\": \"#C8D4E3\"}, \"line\": {\"color\": \"white\"}}, \"type\": \"table\"}]}, \"layout\": {\"annotationdefaults\": {\"arrowcolor\": \"#2a3f5f\", \"arrowhead\": 0, \"arrowwidth\": 1}, \"autotypenumbers\": \"strict\", \"coloraxis\": {\"colorbar\": {\"outlinewidth\": 0, \"ticks\": \"\"}}, \"colorscale\": {\"diverging\": [[0, \"#8e0152\"], [0.1, \"#c51b7d\"], [0.2, \"#de77ae\"], [0.3, \"#f1b6da\"], [0.4, \"#fde0ef\"], [0.5, \"#f7f7f7\"], [0.6, \"#e6f5d0\"], [0.7, \"#b8e186\"], [0.8, \"#7fbc41\"], [0.9, \"#4d9221\"], [1, \"#276419\"]], \"sequential\": [[0.0, \"#0d0887\"], [0.1111111111111111, \"#46039f\"], [0.2222222222222222, \"#7201a8\"], [0.3333333333333333, \"#9c179e\"], [0.4444444444444444, \"#bd3786\"], [0.5555555555555556, \"#d8576b\"], [0.6666666666666666, \"#ed7953\"], [0.7777777777777778, \"#fb9f3a\"], [0.8888888888888888, \"#fdca26\"], [1.0, \"#f0f921\"]], \"sequentialminus\": [[0.0, \"#0d0887\"], [0.1111111111111111, \"#46039f\"], [0.2222222222222222, \"#7201a8\"], [0.3333333333333333, \"#9c179e\"], [0.4444444444444444, \"#bd3786\"], [0.5555555555555556, \"#d8576b\"], [0.6666666666666666, \"#ed7953\"], [0.7777777777777778, \"#fb9f3a\"], [0.8888888888888888, \"#fdca26\"], [1.0, \"#f0f921\"]]}, \"colorway\": [\"#636efa\", \"#EF553B\", \"#00cc96\", \"#ab63fa\", \"#FFA15A\", \"#19d3f3\", \"#FF6692\", \"#B6E880\", \"#FF97FF\", \"#FECB52\"], \"font\": {\"color\": \"#2a3f5f\"}, \"geo\": {\"bgcolor\": \"white\", \"lakecolor\": \"white\", \"landcolor\": \"#E5ECF6\", \"showlakes\": true, \"showland\": true, \"subunitcolor\": \"white\"}, \"hoverlabel\": {\"align\": \"left\"}, \"hovermode\": \"closest\", \"mapbox\": {\"style\": \"light\"}, \"paper_bgcolor\": \"white\", \"plot_bgcolor\": \"#E5ECF6\", \"polar\": {\"angularaxis\": {\"gridcolor\": \"white\", \"linecolor\": \"white\", \"ticks\": \"\"}, \"bgcolor\": \"#E5ECF6\", \"radialaxis\": {\"gridcolor\": \"white\", \"linecolor\": \"white\", \"ticks\": \"\"}}, \"scene\": {\"xaxis\": {\"backgroundcolor\": \"#E5ECF6\", \"gridcolor\": \"white\", \"gridwidth\": 2, \"linecolor\": \"white\", \"showbackground\": true, \"ticks\": \"\", \"zerolinecolor\": \"white\"}, \"yaxis\": {\"backgroundcolor\": \"#E5ECF6\", \"gridcolor\": \"white\", \"gridwidth\": 2, \"linecolor\": \"white\", \"showbackground\": true, \"ticks\": \"\", \"zerolinecolor\": \"white\"}, \"zaxis\": {\"backgroundcolor\": \"#E5ECF6\", \"gridcolor\": \"white\", \"gridwidth\": 2, \"linecolor\": \"white\", \"showbackground\": true, \"ticks\": \"\", \"zerolinecolor\": \"white\"}}, \"shapedefaults\": {\"line\": {\"color\": \"#2a3f5f\"}}, \"ternary\": {\"aaxis\": {\"gridcolor\": \"white\", \"linecolor\": \"white\", \"ticks\": \"\"}, \"baxis\": {\"gridcolor\": \"white\", \"linecolor\": \"white\", \"ticks\": \"\"}, \"bgcolor\": \"#E5ECF6\", \"caxis\": {\"gridcolor\": \"white\", \"linecolor\": \"white\", \"ticks\": \"\"}}, \"title\": {\"x\": 0.05}, \"xaxis\": {\"automargin\": true, \"gridcolor\": \"white\", \"linecolor\": \"white\", \"ticks\": \"\", \"title\": {\"standoff\": 15}, \"zerolinecolor\": \"white\", \"zerolinewidth\": 2}, \"yaxis\": {\"automargin\": true, \"gridcolor\": \"white\", \"linecolor\": \"white\", \"ticks\": \"\", \"title\": {\"standoff\": 15}, \"zerolinecolor\": \"white\", \"zerolinewidth\": 2}}}, \"title\": {\"text\": \"Grouped Bar Plot of Import and Export from 2010 to 2018\"}, \"xaxis\": {\"title\": {\"text\": \"Year\"}}, \"yaxis\": {\"title\": {\"text\": \"Value\"}}},                        {\"responsive\": true}                    ).then(function(){\n",
       "                            \n",
       "var gd = document.getElementById('7b87163c-b13b-43c3-8ea0-9b1fc602cf92');\n",
       "var x = new MutationObserver(function (mutations, observer) {{\n",
       "        var display = window.getComputedStyle(gd).display;\n",
       "        if (!display || display === 'none') {{\n",
       "            console.log([gd, 'removed!']);\n",
       "            Plotly.purge(gd);\n",
       "            observer.disconnect();\n",
       "        }}\n",
       "}});\n",
       "\n",
       "// Listen for the removal of the full notebook cells\n",
       "var notebookContainer = gd.closest('#notebook-container');\n",
       "if (notebookContainer) {{\n",
       "    x.observe(notebookContainer, {childList: true});\n",
       "}}\n",
       "\n",
       "// Listen for the clearing of the current output cell\n",
       "var outputEl = gd.closest('.output');\n",
       "if (outputEl) {{\n",
       "    x.observe(outputEl, {childList: true});\n",
       "}}\n",
       "\n",
       "                        })                };                });            </script>        </div>"
      ]
     },
     "metadata": {},
     "output_type": "display_data"
    }
   ],
   "source": [
    "fig=go.Figure(data=([go.Bar(x=df.year,y=df.Import,name='Import',marker={\"color\":\"#50D3E3\"}),go.Bar(x=df.year,y=df.Export,marker={\"color\":\"#FF3900\"},name=\"Export\")]))\n",
    "fig.update_layout(title=\"Grouped Bar Plot of Import and Export from 2010 to 2018\",xaxis_title=\"Year\",yaxis_title=\"Value\")\n",
    "fig.show()"
   ]
  },
  {
   "cell_type": "code",
   "execution_count": 12,
   "id": "nuclear-velvet",
   "metadata": {
    "execution": {
     "iopub.execute_input": "2021-08-02T08:02:16.469280Z",
     "iopub.status.busy": "2021-08-02T08:02:16.468511Z",
     "iopub.status.idle": "2021-08-02T08:02:16.500904Z",
     "shell.execute_reply": "2021-08-02T08:02:16.500400Z",
     "shell.execute_reply.started": "2021-06-27T06:16:02.619555Z"
    },
    "papermill": {
     "duration": 0.068873,
     "end_time": "2021-08-02T08:02:16.501044",
     "exception": false,
     "start_time": "2021-08-02T08:02:16.432171",
     "status": "completed"
    },
    "tags": []
   },
   "outputs": [
    {
     "data": {
      "text/html": [
       "<div>                            <div id=\"230dd6e5-9eaf-45bb-8312-9a60db9cd6ff\" class=\"plotly-graph-div\" style=\"height:525px; width:100%;\"></div>            <script type=\"text/javascript\">                require([\"plotly\"], function(Plotly) {                    window.PLOTLYENV=window.PLOTLYENV || {};                                    if (document.getElementById(\"230dd6e5-9eaf-45bb-8312-9a60db9cd6ff\")) {                    Plotly.newPlot(                        \"230dd6e5-9eaf-45bb-8312-9a60db9cd6ff\",                        [{\"marker\": {\"color\": \"#99CB00\"}, \"name\": \"Import\", \"type\": \"scatter\", \"x\": [2010, 2011, 2012, 2013, 2014, 2015, 2016, 2017, 2018], \"y\": [0.0, 0.3233146704402712, 0.0028984789882740003, -0.08260565732195879, -0.004812069597084356, -0.07921203255261766, -0.06832648656233165, 0.21132735453381368, 0.10416670156981822]}, {\"marker\": {\"color\": \"#F3B524\"}, \"name\": \"Export\", \"type\": \"scatter\", \"x\": [2010, 2011, 2012, 2013, 2014, 2015, 2016, 2017, 2018], \"y\": [0.0, 0.224767152821308, -0.01818594959906883, 0.04662124174790638, -0.012938095944375672, -0.15482908634420423, 0.051705294800137525, 0.1003228484885208, 0.08747974722894392]}],                        {\"template\": {\"data\": {\"bar\": [{\"error_x\": {\"color\": \"#2a3f5f\"}, \"error_y\": {\"color\": \"#2a3f5f\"}, \"marker\": {\"line\": {\"color\": \"#E5ECF6\", \"width\": 0.5}}, \"type\": \"bar\"}], \"barpolar\": [{\"marker\": {\"line\": {\"color\": \"#E5ECF6\", \"width\": 0.5}}, \"type\": \"barpolar\"}], \"carpet\": [{\"aaxis\": {\"endlinecolor\": \"#2a3f5f\", \"gridcolor\": \"white\", \"linecolor\": \"white\", \"minorgridcolor\": \"white\", \"startlinecolor\": \"#2a3f5f\"}, \"baxis\": {\"endlinecolor\": \"#2a3f5f\", \"gridcolor\": \"white\", \"linecolor\": \"white\", \"minorgridcolor\": \"white\", \"startlinecolor\": \"#2a3f5f\"}, \"type\": \"carpet\"}], \"choropleth\": [{\"colorbar\": {\"outlinewidth\": 0, \"ticks\": \"\"}, \"type\": \"choropleth\"}], \"contour\": [{\"colorbar\": {\"outlinewidth\": 0, \"ticks\": \"\"}, \"colorscale\": [[0.0, \"#0d0887\"], [0.1111111111111111, \"#46039f\"], [0.2222222222222222, \"#7201a8\"], [0.3333333333333333, \"#9c179e\"], [0.4444444444444444, \"#bd3786\"], [0.5555555555555556, \"#d8576b\"], [0.6666666666666666, \"#ed7953\"], [0.7777777777777778, \"#fb9f3a\"], [0.8888888888888888, \"#fdca26\"], [1.0, \"#f0f921\"]], \"type\": \"contour\"}], \"contourcarpet\": [{\"colorbar\": {\"outlinewidth\": 0, \"ticks\": \"\"}, \"type\": \"contourcarpet\"}], \"heatmap\": [{\"colorbar\": {\"outlinewidth\": 0, \"ticks\": \"\"}, \"colorscale\": [[0.0, \"#0d0887\"], [0.1111111111111111, \"#46039f\"], [0.2222222222222222, \"#7201a8\"], [0.3333333333333333, \"#9c179e\"], [0.4444444444444444, \"#bd3786\"], [0.5555555555555556, \"#d8576b\"], [0.6666666666666666, \"#ed7953\"], [0.7777777777777778, \"#fb9f3a\"], [0.8888888888888888, \"#fdca26\"], [1.0, \"#f0f921\"]], \"type\": \"heatmap\"}], \"heatmapgl\": [{\"colorbar\": {\"outlinewidth\": 0, \"ticks\": \"\"}, \"colorscale\": [[0.0, \"#0d0887\"], [0.1111111111111111, \"#46039f\"], [0.2222222222222222, \"#7201a8\"], [0.3333333333333333, \"#9c179e\"], [0.4444444444444444, \"#bd3786\"], [0.5555555555555556, \"#d8576b\"], [0.6666666666666666, \"#ed7953\"], [0.7777777777777778, \"#fb9f3a\"], [0.8888888888888888, \"#fdca26\"], [1.0, \"#f0f921\"]], \"type\": \"heatmapgl\"}], \"histogram\": [{\"marker\": {\"colorbar\": {\"outlinewidth\": 0, \"ticks\": \"\"}}, \"type\": \"histogram\"}], \"histogram2d\": [{\"colorbar\": {\"outlinewidth\": 0, \"ticks\": \"\"}, \"colorscale\": [[0.0, \"#0d0887\"], [0.1111111111111111, \"#46039f\"], [0.2222222222222222, \"#7201a8\"], [0.3333333333333333, \"#9c179e\"], [0.4444444444444444, \"#bd3786\"], [0.5555555555555556, \"#d8576b\"], [0.6666666666666666, \"#ed7953\"], [0.7777777777777778, \"#fb9f3a\"], [0.8888888888888888, \"#fdca26\"], [1.0, \"#f0f921\"]], \"type\": \"histogram2d\"}], \"histogram2dcontour\": [{\"colorbar\": {\"outlinewidth\": 0, \"ticks\": \"\"}, \"colorscale\": [[0.0, \"#0d0887\"], [0.1111111111111111, \"#46039f\"], [0.2222222222222222, \"#7201a8\"], [0.3333333333333333, \"#9c179e\"], [0.4444444444444444, \"#bd3786\"], [0.5555555555555556, \"#d8576b\"], [0.6666666666666666, \"#ed7953\"], [0.7777777777777778, \"#fb9f3a\"], [0.8888888888888888, \"#fdca26\"], [1.0, \"#f0f921\"]], \"type\": \"histogram2dcontour\"}], \"mesh3d\": [{\"colorbar\": {\"outlinewidth\": 0, \"ticks\": \"\"}, \"type\": \"mesh3d\"}], \"parcoords\": [{\"line\": {\"colorbar\": {\"outlinewidth\": 0, \"ticks\": \"\"}}, \"type\": \"parcoords\"}], \"pie\": [{\"automargin\": true, \"type\": \"pie\"}], \"scatter\": [{\"marker\": {\"colorbar\": {\"outlinewidth\": 0, \"ticks\": \"\"}}, \"type\": \"scatter\"}], \"scatter3d\": [{\"line\": {\"colorbar\": {\"outlinewidth\": 0, \"ticks\": \"\"}}, \"marker\": {\"colorbar\": {\"outlinewidth\": 0, \"ticks\": \"\"}}, \"type\": \"scatter3d\"}], \"scattercarpet\": [{\"marker\": {\"colorbar\": {\"outlinewidth\": 0, \"ticks\": \"\"}}, \"type\": \"scattercarpet\"}], \"scattergeo\": [{\"marker\": {\"colorbar\": {\"outlinewidth\": 0, \"ticks\": \"\"}}, \"type\": \"scattergeo\"}], \"scattergl\": [{\"marker\": {\"colorbar\": {\"outlinewidth\": 0, \"ticks\": \"\"}}, \"type\": \"scattergl\"}], \"scattermapbox\": [{\"marker\": {\"colorbar\": {\"outlinewidth\": 0, \"ticks\": \"\"}}, \"type\": \"scattermapbox\"}], \"scatterpolar\": [{\"marker\": {\"colorbar\": {\"outlinewidth\": 0, \"ticks\": \"\"}}, \"type\": \"scatterpolar\"}], \"scatterpolargl\": [{\"marker\": {\"colorbar\": {\"outlinewidth\": 0, \"ticks\": \"\"}}, \"type\": \"scatterpolargl\"}], \"scatterternary\": [{\"marker\": {\"colorbar\": {\"outlinewidth\": 0, \"ticks\": \"\"}}, \"type\": \"scatterternary\"}], \"surface\": [{\"colorbar\": {\"outlinewidth\": 0, \"ticks\": \"\"}, \"colorscale\": [[0.0, \"#0d0887\"], [0.1111111111111111, \"#46039f\"], [0.2222222222222222, \"#7201a8\"], [0.3333333333333333, \"#9c179e\"], [0.4444444444444444, \"#bd3786\"], [0.5555555555555556, \"#d8576b\"], [0.6666666666666666, \"#ed7953\"], [0.7777777777777778, \"#fb9f3a\"], [0.8888888888888888, \"#fdca26\"], [1.0, \"#f0f921\"]], \"type\": \"surface\"}], \"table\": [{\"cells\": {\"fill\": {\"color\": \"#EBF0F8\"}, \"line\": {\"color\": \"white\"}}, \"header\": {\"fill\": {\"color\": \"#C8D4E3\"}, \"line\": {\"color\": \"white\"}}, \"type\": \"table\"}]}, \"layout\": {\"annotationdefaults\": {\"arrowcolor\": \"#2a3f5f\", \"arrowhead\": 0, \"arrowwidth\": 1}, \"autotypenumbers\": \"strict\", \"coloraxis\": {\"colorbar\": {\"outlinewidth\": 0, \"ticks\": \"\"}}, \"colorscale\": {\"diverging\": [[0, \"#8e0152\"], [0.1, \"#c51b7d\"], [0.2, \"#de77ae\"], [0.3, \"#f1b6da\"], [0.4, \"#fde0ef\"], [0.5, \"#f7f7f7\"], [0.6, \"#e6f5d0\"], [0.7, \"#b8e186\"], [0.8, \"#7fbc41\"], [0.9, \"#4d9221\"], [1, \"#276419\"]], \"sequential\": [[0.0, \"#0d0887\"], [0.1111111111111111, \"#46039f\"], [0.2222222222222222, \"#7201a8\"], [0.3333333333333333, \"#9c179e\"], [0.4444444444444444, \"#bd3786\"], [0.5555555555555556, \"#d8576b\"], [0.6666666666666666, \"#ed7953\"], [0.7777777777777778, \"#fb9f3a\"], [0.8888888888888888, \"#fdca26\"], [1.0, \"#f0f921\"]], \"sequentialminus\": [[0.0, \"#0d0887\"], [0.1111111111111111, \"#46039f\"], [0.2222222222222222, \"#7201a8\"], [0.3333333333333333, \"#9c179e\"], [0.4444444444444444, \"#bd3786\"], [0.5555555555555556, \"#d8576b\"], [0.6666666666666666, \"#ed7953\"], [0.7777777777777778, \"#fb9f3a\"], [0.8888888888888888, \"#fdca26\"], [1.0, \"#f0f921\"]]}, \"colorway\": [\"#636efa\", \"#EF553B\", \"#00cc96\", \"#ab63fa\", \"#FFA15A\", \"#19d3f3\", \"#FF6692\", \"#B6E880\", \"#FF97FF\", \"#FECB52\"], \"font\": {\"color\": \"#2a3f5f\"}, \"geo\": {\"bgcolor\": \"white\", \"lakecolor\": \"white\", \"landcolor\": \"#E5ECF6\", \"showlakes\": true, \"showland\": true, \"subunitcolor\": \"white\"}, \"hoverlabel\": {\"align\": \"left\"}, \"hovermode\": \"closest\", \"mapbox\": {\"style\": \"light\"}, \"paper_bgcolor\": \"white\", \"plot_bgcolor\": \"#E5ECF6\", \"polar\": {\"angularaxis\": {\"gridcolor\": \"white\", \"linecolor\": \"white\", \"ticks\": \"\"}, \"bgcolor\": \"#E5ECF6\", \"radialaxis\": {\"gridcolor\": \"white\", \"linecolor\": \"white\", \"ticks\": \"\"}}, \"scene\": {\"xaxis\": {\"backgroundcolor\": \"#E5ECF6\", \"gridcolor\": \"white\", \"gridwidth\": 2, \"linecolor\": \"white\", \"showbackground\": true, \"ticks\": \"\", \"zerolinecolor\": \"white\"}, \"yaxis\": {\"backgroundcolor\": \"#E5ECF6\", \"gridcolor\": \"white\", \"gridwidth\": 2, \"linecolor\": \"white\", \"showbackground\": true, \"ticks\": \"\", \"zerolinecolor\": \"white\"}, \"zaxis\": {\"backgroundcolor\": \"#E5ECF6\", \"gridcolor\": \"white\", \"gridwidth\": 2, \"linecolor\": \"white\", \"showbackground\": true, \"ticks\": \"\", \"zerolinecolor\": \"white\"}}, \"shapedefaults\": {\"line\": {\"color\": \"#2a3f5f\"}}, \"ternary\": {\"aaxis\": {\"gridcolor\": \"white\", \"linecolor\": \"white\", \"ticks\": \"\"}, \"baxis\": {\"gridcolor\": \"white\", \"linecolor\": \"white\", \"ticks\": \"\"}, \"bgcolor\": \"#E5ECF6\", \"caxis\": {\"gridcolor\": \"white\", \"linecolor\": \"white\", \"ticks\": \"\"}}, \"title\": {\"x\": 0.05}, \"xaxis\": {\"automargin\": true, \"gridcolor\": \"white\", \"linecolor\": \"white\", \"ticks\": \"\", \"title\": {\"standoff\": 15}, \"zerolinecolor\": \"white\", \"zerolinewidth\": 2}, \"yaxis\": {\"automargin\": true, \"gridcolor\": \"white\", \"linecolor\": \"white\", \"ticks\": \"\", \"title\": {\"standoff\": 15}, \"zerolinecolor\": \"white\", \"zerolinewidth\": 2}}}, \"title\": {\"text\": \"Scatter Plot of Growth Rate in Import and Export from 2010 to 2018\"}, \"xaxis\": {\"title\": {\"text\": \"Year\"}}, \"yaxis\": {\"title\": {\"text\": \"Rate\"}}},                        {\"responsive\": true}                    ).then(function(){\n",
       "                            \n",
       "var gd = document.getElementById('230dd6e5-9eaf-45bb-8312-9a60db9cd6ff');\n",
       "var x = new MutationObserver(function (mutations, observer) {{\n",
       "        var display = window.getComputedStyle(gd).display;\n",
       "        if (!display || display === 'none') {{\n",
       "            console.log([gd, 'removed!']);\n",
       "            Plotly.purge(gd);\n",
       "            observer.disconnect();\n",
       "        }}\n",
       "}});\n",
       "\n",
       "// Listen for the removal of the full notebook cells\n",
       "var notebookContainer = gd.closest('#notebook-container');\n",
       "if (notebookContainer) {{\n",
       "    x.observe(notebookContainer, {childList: true});\n",
       "}}\n",
       "\n",
       "// Listen for the clearing of the current output cell\n",
       "var outputEl = gd.closest('.output');\n",
       "if (outputEl) {{\n",
       "    x.observe(outputEl, {childList: true});\n",
       "}}\n",
       "\n",
       "                        })                };                });            </script>        </div>"
      ]
     },
     "metadata": {},
     "output_type": "display_data"
    }
   ],
   "source": [
    "fig=go.Figure(data=([go.Scatter(x=df.year,y=df['Growth in Import'],name='Import',marker={\"color\":\"#99CB00\"}),go.Scatter(x=df.year,y=df['Growth in Export'],marker={\"color\":\"#F3B524\"},name=\"Export\")]))\n",
    "fig.update_layout(title=\"Scatter Plot of Growth Rate in Import and Export from 2010 to 2018\",xaxis_title=\"Year\",yaxis_title=\"Rate\")\n",
    "fig.show()"
   ]
  },
  {
   "cell_type": "code",
   "execution_count": 13,
   "id": "boolean-coaching",
   "metadata": {
    "execution": {
     "iopub.execute_input": "2021-08-02T08:02:16.575886Z",
     "iopub.status.busy": "2021-08-02T08:02:16.574896Z",
     "iopub.status.idle": "2021-08-02T08:02:16.581098Z",
     "shell.execute_reply": "2021-08-02T08:02:16.580474Z",
     "shell.execute_reply.started": "2021-06-27T06:16:02.652491Z"
    },
    "papermill": {
     "duration": 0.049798,
     "end_time": "2021-08-02T08:02:16.581256",
     "exception": false,
     "start_time": "2021-08-02T08:02:16.531458",
     "status": "completed"
    },
    "tags": []
   },
   "outputs": [
    {
     "data": {
      "text/html": [
       "<div>                            <div id=\"b14e4718-1dd5-4b0d-a191-66bd09d13132\" class=\"plotly-graph-div\" style=\"height:525px; width:100%;\"></div>            <script type=\"text/javascript\">                require([\"plotly\"], function(Plotly) {                    window.PLOTLYENV=window.PLOTLYENV || {};                                    if (document.getElementById(\"b14e4718-1dd5-4b0d-a191-66bd09d13132\")) {                    Plotly.newPlot(                        \"b14e4718-1dd5-4b0d-a191-66bd09d13132\",                        [{\"marker\": {\"color\": \"#FF38FF\"}, \"name\": \"Deficit\", \"type\": \"scatter\", \"x\": [2010, 2011, 2012, 2013, 2014, 2015, 2016, 2017, 2018], \"y\": [-119961.0700000026, -183363.53000000346, -190345.7500000046, -135804.38000000286, -137705.61000000226, -150263.23000000417, -108515.02000000165, -162066.17000000592, -184012.69000000687]}],                        {\"template\": {\"data\": {\"bar\": [{\"error_x\": {\"color\": \"#2a3f5f\"}, \"error_y\": {\"color\": \"#2a3f5f\"}, \"marker\": {\"line\": {\"color\": \"#E5ECF6\", \"width\": 0.5}}, \"type\": \"bar\"}], \"barpolar\": [{\"marker\": {\"line\": {\"color\": \"#E5ECF6\", \"width\": 0.5}}, \"type\": \"barpolar\"}], \"carpet\": [{\"aaxis\": {\"endlinecolor\": \"#2a3f5f\", \"gridcolor\": \"white\", \"linecolor\": \"white\", \"minorgridcolor\": \"white\", \"startlinecolor\": \"#2a3f5f\"}, \"baxis\": {\"endlinecolor\": \"#2a3f5f\", \"gridcolor\": \"white\", \"linecolor\": \"white\", \"minorgridcolor\": \"white\", \"startlinecolor\": \"#2a3f5f\"}, \"type\": \"carpet\"}], \"choropleth\": [{\"colorbar\": {\"outlinewidth\": 0, \"ticks\": \"\"}, \"type\": \"choropleth\"}], \"contour\": [{\"colorbar\": {\"outlinewidth\": 0, \"ticks\": \"\"}, \"colorscale\": [[0.0, \"#0d0887\"], [0.1111111111111111, \"#46039f\"], [0.2222222222222222, \"#7201a8\"], [0.3333333333333333, \"#9c179e\"], [0.4444444444444444, \"#bd3786\"], [0.5555555555555556, \"#d8576b\"], [0.6666666666666666, \"#ed7953\"], [0.7777777777777778, \"#fb9f3a\"], [0.8888888888888888, \"#fdca26\"], [1.0, \"#f0f921\"]], \"type\": \"contour\"}], \"contourcarpet\": [{\"colorbar\": {\"outlinewidth\": 0, \"ticks\": \"\"}, \"type\": \"contourcarpet\"}], \"heatmap\": [{\"colorbar\": {\"outlinewidth\": 0, \"ticks\": \"\"}, \"colorscale\": [[0.0, \"#0d0887\"], [0.1111111111111111, \"#46039f\"], [0.2222222222222222, \"#7201a8\"], [0.3333333333333333, \"#9c179e\"], [0.4444444444444444, \"#bd3786\"], [0.5555555555555556, \"#d8576b\"], [0.6666666666666666, \"#ed7953\"], [0.7777777777777778, \"#fb9f3a\"], [0.8888888888888888, \"#fdca26\"], [1.0, \"#f0f921\"]], \"type\": \"heatmap\"}], \"heatmapgl\": [{\"colorbar\": {\"outlinewidth\": 0, \"ticks\": \"\"}, \"colorscale\": [[0.0, \"#0d0887\"], [0.1111111111111111, \"#46039f\"], [0.2222222222222222, \"#7201a8\"], [0.3333333333333333, \"#9c179e\"], [0.4444444444444444, \"#bd3786\"], [0.5555555555555556, \"#d8576b\"], [0.6666666666666666, \"#ed7953\"], [0.7777777777777778, \"#fb9f3a\"], [0.8888888888888888, \"#fdca26\"], [1.0, \"#f0f921\"]], \"type\": \"heatmapgl\"}], \"histogram\": [{\"marker\": {\"colorbar\": {\"outlinewidth\": 0, \"ticks\": \"\"}}, \"type\": \"histogram\"}], \"histogram2d\": [{\"colorbar\": {\"outlinewidth\": 0, \"ticks\": \"\"}, \"colorscale\": [[0.0, \"#0d0887\"], [0.1111111111111111, \"#46039f\"], [0.2222222222222222, \"#7201a8\"], [0.3333333333333333, \"#9c179e\"], [0.4444444444444444, \"#bd3786\"], [0.5555555555555556, \"#d8576b\"], [0.6666666666666666, \"#ed7953\"], [0.7777777777777778, \"#fb9f3a\"], [0.8888888888888888, \"#fdca26\"], [1.0, \"#f0f921\"]], \"type\": \"histogram2d\"}], \"histogram2dcontour\": [{\"colorbar\": {\"outlinewidth\": 0, \"ticks\": \"\"}, \"colorscale\": [[0.0, \"#0d0887\"], [0.1111111111111111, \"#46039f\"], [0.2222222222222222, \"#7201a8\"], [0.3333333333333333, \"#9c179e\"], [0.4444444444444444, \"#bd3786\"], [0.5555555555555556, \"#d8576b\"], [0.6666666666666666, \"#ed7953\"], [0.7777777777777778, \"#fb9f3a\"], [0.8888888888888888, \"#fdca26\"], [1.0, \"#f0f921\"]], \"type\": \"histogram2dcontour\"}], \"mesh3d\": [{\"colorbar\": {\"outlinewidth\": 0, \"ticks\": \"\"}, \"type\": \"mesh3d\"}], \"parcoords\": [{\"line\": {\"colorbar\": {\"outlinewidth\": 0, \"ticks\": \"\"}}, \"type\": \"parcoords\"}], \"pie\": [{\"automargin\": true, \"type\": \"pie\"}], \"scatter\": [{\"marker\": {\"colorbar\": {\"outlinewidth\": 0, \"ticks\": \"\"}}, \"type\": \"scatter\"}], \"scatter3d\": [{\"line\": {\"colorbar\": {\"outlinewidth\": 0, \"ticks\": \"\"}}, \"marker\": {\"colorbar\": {\"outlinewidth\": 0, \"ticks\": \"\"}}, \"type\": \"scatter3d\"}], \"scattercarpet\": [{\"marker\": {\"colorbar\": {\"outlinewidth\": 0, \"ticks\": \"\"}}, \"type\": \"scattercarpet\"}], \"scattergeo\": [{\"marker\": {\"colorbar\": {\"outlinewidth\": 0, \"ticks\": \"\"}}, \"type\": \"scattergeo\"}], \"scattergl\": [{\"marker\": {\"colorbar\": {\"outlinewidth\": 0, \"ticks\": \"\"}}, \"type\": \"scattergl\"}], \"scattermapbox\": [{\"marker\": {\"colorbar\": {\"outlinewidth\": 0, \"ticks\": \"\"}}, \"type\": \"scattermapbox\"}], \"scatterpolar\": [{\"marker\": {\"colorbar\": {\"outlinewidth\": 0, \"ticks\": \"\"}}, \"type\": \"scatterpolar\"}], \"scatterpolargl\": [{\"marker\": {\"colorbar\": {\"outlinewidth\": 0, \"ticks\": \"\"}}, \"type\": \"scatterpolargl\"}], \"scatterternary\": [{\"marker\": {\"colorbar\": {\"outlinewidth\": 0, \"ticks\": \"\"}}, \"type\": \"scatterternary\"}], \"surface\": [{\"colorbar\": {\"outlinewidth\": 0, \"ticks\": \"\"}, \"colorscale\": [[0.0, \"#0d0887\"], [0.1111111111111111, \"#46039f\"], [0.2222222222222222, \"#7201a8\"], [0.3333333333333333, \"#9c179e\"], [0.4444444444444444, \"#bd3786\"], [0.5555555555555556, \"#d8576b\"], [0.6666666666666666, \"#ed7953\"], [0.7777777777777778, \"#fb9f3a\"], [0.8888888888888888, \"#fdca26\"], [1.0, \"#f0f921\"]], \"type\": \"surface\"}], \"table\": [{\"cells\": {\"fill\": {\"color\": \"#EBF0F8\"}, \"line\": {\"color\": \"white\"}}, \"header\": {\"fill\": {\"color\": \"#C8D4E3\"}, \"line\": {\"color\": \"white\"}}, \"type\": \"table\"}]}, \"layout\": {\"annotationdefaults\": {\"arrowcolor\": \"#2a3f5f\", \"arrowhead\": 0, \"arrowwidth\": 1}, \"autotypenumbers\": \"strict\", \"coloraxis\": {\"colorbar\": {\"outlinewidth\": 0, \"ticks\": \"\"}}, \"colorscale\": {\"diverging\": [[0, \"#8e0152\"], [0.1, \"#c51b7d\"], [0.2, \"#de77ae\"], [0.3, \"#f1b6da\"], [0.4, \"#fde0ef\"], [0.5, \"#f7f7f7\"], [0.6, \"#e6f5d0\"], [0.7, \"#b8e186\"], [0.8, \"#7fbc41\"], [0.9, \"#4d9221\"], [1, \"#276419\"]], \"sequential\": [[0.0, \"#0d0887\"], [0.1111111111111111, \"#46039f\"], [0.2222222222222222, \"#7201a8\"], [0.3333333333333333, \"#9c179e\"], [0.4444444444444444, \"#bd3786\"], [0.5555555555555556, \"#d8576b\"], [0.6666666666666666, \"#ed7953\"], [0.7777777777777778, \"#fb9f3a\"], [0.8888888888888888, \"#fdca26\"], [1.0, \"#f0f921\"]], \"sequentialminus\": [[0.0, \"#0d0887\"], [0.1111111111111111, \"#46039f\"], [0.2222222222222222, \"#7201a8\"], [0.3333333333333333, \"#9c179e\"], [0.4444444444444444, \"#bd3786\"], [0.5555555555555556, \"#d8576b\"], [0.6666666666666666, \"#ed7953\"], [0.7777777777777778, \"#fb9f3a\"], [0.8888888888888888, \"#fdca26\"], [1.0, \"#f0f921\"]]}, \"colorway\": [\"#636efa\", \"#EF553B\", \"#00cc96\", \"#ab63fa\", \"#FFA15A\", \"#19d3f3\", \"#FF6692\", \"#B6E880\", \"#FF97FF\", \"#FECB52\"], \"font\": {\"color\": \"#2a3f5f\"}, \"geo\": {\"bgcolor\": \"white\", \"lakecolor\": \"white\", \"landcolor\": \"#E5ECF6\", \"showlakes\": true, \"showland\": true, \"subunitcolor\": \"white\"}, \"hoverlabel\": {\"align\": \"left\"}, \"hovermode\": \"closest\", \"mapbox\": {\"style\": \"light\"}, \"paper_bgcolor\": \"white\", \"plot_bgcolor\": \"#E5ECF6\", \"polar\": {\"angularaxis\": {\"gridcolor\": \"white\", \"linecolor\": \"white\", \"ticks\": \"\"}, \"bgcolor\": \"#E5ECF6\", \"radialaxis\": {\"gridcolor\": \"white\", \"linecolor\": \"white\", \"ticks\": \"\"}}, \"scene\": {\"xaxis\": {\"backgroundcolor\": \"#E5ECF6\", \"gridcolor\": \"white\", \"gridwidth\": 2, \"linecolor\": \"white\", \"showbackground\": true, \"ticks\": \"\", \"zerolinecolor\": \"white\"}, \"yaxis\": {\"backgroundcolor\": \"#E5ECF6\", \"gridcolor\": \"white\", \"gridwidth\": 2, \"linecolor\": \"white\", \"showbackground\": true, \"ticks\": \"\", \"zerolinecolor\": \"white\"}, \"zaxis\": {\"backgroundcolor\": \"#E5ECF6\", \"gridcolor\": \"white\", \"gridwidth\": 2, \"linecolor\": \"white\", \"showbackground\": true, \"ticks\": \"\", \"zerolinecolor\": \"white\"}}, \"shapedefaults\": {\"line\": {\"color\": \"#2a3f5f\"}}, \"ternary\": {\"aaxis\": {\"gridcolor\": \"white\", \"linecolor\": \"white\", \"ticks\": \"\"}, \"baxis\": {\"gridcolor\": \"white\", \"linecolor\": \"white\", \"ticks\": \"\"}, \"bgcolor\": \"#E5ECF6\", \"caxis\": {\"gridcolor\": \"white\", \"linecolor\": \"white\", \"ticks\": \"\"}}, \"title\": {\"x\": 0.05}, \"xaxis\": {\"automargin\": true, \"gridcolor\": \"white\", \"linecolor\": \"white\", \"ticks\": \"\", \"title\": {\"standoff\": 15}, \"zerolinecolor\": \"white\", \"zerolinewidth\": 2}, \"yaxis\": {\"automargin\": true, \"gridcolor\": \"white\", \"linecolor\": \"white\", \"ticks\": \"\", \"title\": {\"standoff\": 15}, \"zerolinecolor\": \"white\", \"zerolinewidth\": 2}}}, \"title\": {\"text\": \"Scatter  Plot of Deficit from 2010 to 2018\"}, \"xaxis\": {\"title\": {\"text\": \"Year\"}}, \"yaxis\": {\"title\": {\"text\": \"Deficit\"}}},                        {\"responsive\": true}                    ).then(function(){\n",
       "                            \n",
       "var gd = document.getElementById('b14e4718-1dd5-4b0d-a191-66bd09d13132');\n",
       "var x = new MutationObserver(function (mutations, observer) {{\n",
       "        var display = window.getComputedStyle(gd).display;\n",
       "        if (!display || display === 'none') {{\n",
       "            console.log([gd, 'removed!']);\n",
       "            Plotly.purge(gd);\n",
       "            observer.disconnect();\n",
       "        }}\n",
       "}});\n",
       "\n",
       "// Listen for the removal of the full notebook cells\n",
       "var notebookContainer = gd.closest('#notebook-container');\n",
       "if (notebookContainer) {{\n",
       "    x.observe(notebookContainer, {childList: true});\n",
       "}}\n",
       "\n",
       "// Listen for the clearing of the current output cell\n",
       "var outputEl = gd.closest('.output');\n",
       "if (outputEl) {{\n",
       "    x.observe(outputEl, {childList: true});\n",
       "}}\n",
       "\n",
       "                        })                };                });            </script>        </div>"
      ]
     },
     "metadata": {},
     "output_type": "display_data"
    }
   ],
   "source": [
    "fig=go.Figure(data=([go.Scatter(x=df.year,y=df['Deficit'],name='Deficit',marker={\"color\":\"#FF38FF\"},)]))\n",
    "fig.update_layout(title=\"Scatter  Plot of Deficit from 2010 to 2018\",xaxis_title=\"Year\",yaxis_title=\"Deficit\")\n",
    "fig.show()"
   ]
  },
  {
   "cell_type": "markdown",
   "id": "northern-cherry",
   "metadata": {
    "papermill": {
     "duration": 0.030581,
     "end_time": "2021-08-02T08:02:16.643413",
     "exception": false,
     "start_time": "2021-08-02T08:02:16.612832",
     "status": "completed"
    },
    "tags": []
   },
   "source": [
    "Reasons for more import and less export may be.\n",
    "\n",
    "1.Policy failure - after independence we were a closed economy and self sustaining mindset was present. Trade with other countries was very less. India was basically a agricultural economy and manufacturing sector was not developed so much , means we had not much to export. Early leadership was more socialistic in nature than capitalistic so rapid development of manufacturing sector was not present along with that the purchasing power of people was very less so it was difficult to sustain an industry so how could it think of exports. There was no competition as well so quality and technological advancement was not present.\n",
    "\n",
    "2.LPG reforms - India opened its market for foreign companies , it signed trade agreements with other countries . It reduced tariffs on imports also asked other countries to reduce their tariffs as well. India became member of WTO. Still due to poor manufacturing base it not able to reap the benefits of globalisation. But the service sector got boom after it. Exports of service increased after that and we became a IT superpower.\n",
    "\n",
    "3.Lack of support to MSME- 40 % of exports is done by MSME sector in India but the condition and the facilities provided to them is very poor."
   ]
  },
  {
   "cell_type": "code",
   "execution_count": 14,
   "id": "super-darkness",
   "metadata": {
    "execution": {
     "iopub.execute_input": "2021-08-02T08:02:16.719429Z",
     "iopub.status.busy": "2021-08-02T08:02:16.714137Z",
     "iopub.status.idle": "2021-08-02T08:02:16.757714Z",
     "shell.execute_reply": "2021-08-02T08:02:16.757136Z",
     "shell.execute_reply.started": "2021-06-27T06:16:02.669214Z"
    },
    "papermill": {
     "duration": 0.083311,
     "end_time": "2021-08-02T08:02:16.757854",
     "exception": false,
     "start_time": "2021-08-02T08:02:16.674543",
     "status": "completed"
    },
    "tags": []
   },
   "outputs": [],
   "source": [
    "top_commodities=import_data.groupby(['year','Commodity'],as_index=False).agg({'value':'sum'})\n",
    "top_2010=top_commodities[top_commodities.year==2010].sort_values('value',ascending=False).head(5)\n",
    "top_2011=top_commodities[top_commodities.year==2011].sort_values('value',ascending=False).head(5)\n",
    "top_2012=top_commodities[top_commodities.year==2012].sort_values('value',ascending=False).head(5)\n",
    "top_2013=top_commodities[top_commodities.year==2013].sort_values('value',ascending=False).head(5)\n",
    "top_2014=top_commodities[top_commodities.year==2014].sort_values('value',ascending=False).head(5)\n",
    "top_2015=top_commodities[top_commodities.year==2015].sort_values('value',ascending=False).head(5)\n",
    "top_2016=top_commodities[top_commodities.year==2016].sort_values('value',ascending=False).head(5)\n",
    "top_2017=top_commodities[top_commodities.year==2017].sort_values('value',ascending=False).head(5)\n",
    "top_2018=top_commodities[top_commodities.year==2018].sort_values('value',ascending=False).head(5)\n",
    "top_commodities=pd.concat([top_2010,top_2011,top_2012,top_2013,top_2014,top_2015,top_2016,top_2017,top_2018])\n",
    "d={\"ORGANIC CHEMICALS\":'Organic','MINERAL FUELS, MINERAL OILS AND PRODUCTS OF THEIR DISTILLATION; BITUMINOUS SUBSTANCES; MINERAL WAXES.':'Mineral','NATURAL OR CULTURED PEARLS,PRECIOUS OR SEMIPRECIOUS STONES,PRE.METALS,CLAD WITH PRE.METAL AND ARTCLS THEREOF;IMIT.JEWLRY;COIN.':'Natural','NUCLEAR REACTORS, BOILERS, MACHINERY AND MECHANICAL APPLIANCES; PARTS THEREOF.':'Nuclear','ELECTRICAL MACHINERY AND EQUIPMENT AND PARTS THEREOF; SOUND RECORDERS AND REPRODUCERS, TELEVISION IMAGE AND SOUND RECORDERS AND REPRODUCERS,AND PARTS.':'Electrical'}\n",
    "top_commodities['Commodity_Name']=top_commodities['Commodity'].map(d)\n",
    "colors={'Organic':'#FF800C','Mineral':'#4255FF','Nuclear':'#FFF312','Natural':'#A2F312','Electrical':'#FF075B'}\n",
    "top_commodities['Color']=top_commodities['Commodity_Name'].map(colors)"
   ]
  },
  {
   "cell_type": "code",
   "execution_count": 15,
   "id": "broke-differential",
   "metadata": {
    "execution": {
     "iopub.execute_input": "2021-08-02T08:02:16.825248Z",
     "iopub.status.busy": "2021-08-02T08:02:16.824472Z",
     "iopub.status.idle": "2021-08-02T08:02:18.195215Z",
     "shell.execute_reply": "2021-08-02T08:02:18.195811Z",
     "shell.execute_reply.started": "2021-06-27T06:16:02.719672Z"
    },
    "papermill": {
     "duration": 1.407411,
     "end_time": "2021-08-02T08:02:18.195990",
     "exception": false,
     "start_time": "2021-08-02T08:02:16.788579",
     "status": "completed"
    },
    "tags": []
   },
   "outputs": [
    {
     "data": {
      "text/html": [
       "<div>                            <div id=\"1aa41318-7577-4c8a-8295-a00f689af943\" class=\"plotly-graph-div\" style=\"height:525px; width:100%;\"></div>            <script type=\"text/javascript\">                require([\"plotly\"], function(Plotly) {                    window.PLOTLYENV=window.PLOTLYENV || {};                                    if (document.getElementById(\"1aa41318-7577-4c8a-8295-a00f689af943\")) {                    Plotly.newPlot(                        \"1aa41318-7577-4c8a-8295-a00f689af943\",                        [{\"alignmentgroup\": \"True\", \"hovertemplate\": \"<b>%{hovertext}</b><br><br>Color=#4255FF<br>year=2010<br>Commodity_Name=%{x}<br>value=%{y}<extra></extra>\", \"hovertext\": [\"MINERAL FUELS, MINERAL OILS AND PRODUCTS OF THEIR DISTILLATION; BITUMINOUS SUBSTANCES; MINERAL WAXES.\"], \"legendgroup\": \"#4255FF\", \"marker\": {\"color\": \"#636efa\"}, \"name\": \"#4255FF\", \"offsetgroup\": \"#4255FF\", \"orientation\": \"v\", \"showlegend\": true, \"textposition\": \"auto\", \"type\": \"bar\", \"x\": [\"Mineral\"], \"xaxis\": \"x\", \"y\": [115929.09999999995], \"yaxis\": \"y\"}, {\"alignmentgroup\": \"True\", \"hovertemplate\": \"<b>%{hovertext}</b><br><br>Color=#A2F312<br>year=2010<br>Commodity_Name=%{x}<br>value=%{y}<extra></extra>\", \"hovertext\": [\"NATURAL OR CULTURED PEARLS,PRECIOUS OR SEMIPRECIOUS STONES,PRE.METALS,CLAD WITH PRE.METAL AND ARTCLS THEREOF;IMIT.JEWLRY;COIN.\"], \"legendgroup\": \"#A2F312\", \"marker\": {\"color\": \"#EF553B\"}, \"name\": \"#A2F312\", \"offsetgroup\": \"#A2F312\", \"orientation\": \"v\", \"showlegend\": true, \"textposition\": \"auto\", \"type\": \"bar\", \"x\": [\"Natural\"], \"xaxis\": \"x\", \"y\": [77054.43000000001], \"yaxis\": \"y\"}, {\"alignmentgroup\": \"True\", \"hovertemplate\": \"<b>%{hovertext}</b><br><br>Color=#FFF312<br>year=2010<br>Commodity_Name=%{x}<br>value=%{y}<extra></extra>\", \"hovertext\": [\"NUCLEAR REACTORS, BOILERS, MACHINERY AND MECHANICAL APPLIANCES; PARTS THEREOF.\"], \"legendgroup\": \"#FFF312\", \"marker\": {\"color\": \"#00cc96\"}, \"name\": \"#FFF312\", \"offsetgroup\": \"#FFF312\", \"orientation\": \"v\", \"showlegend\": true, \"textposition\": \"auto\", \"type\": \"bar\", \"x\": [\"Nuclear\"], \"xaxis\": \"x\", \"y\": [29006.239999999998], \"yaxis\": \"y\"}, {\"alignmentgroup\": \"True\", \"hovertemplate\": \"<b>%{hovertext}</b><br><br>Color=#FF075B<br>year=2010<br>Commodity_Name=%{x}<br>value=%{y}<extra></extra>\", \"hovertext\": [\"ELECTRICAL MACHINERY AND EQUIPMENT AND PARTS THEREOF; SOUND RECORDERS AND REPRODUCERS, TELEVISION IMAGE AND SOUND RECORDERS AND REPRODUCERS,AND PARTS.\"], \"legendgroup\": \"#FF075B\", \"marker\": {\"color\": \"#ab63fa\"}, \"name\": \"#FF075B\", \"offsetgroup\": \"#FF075B\", \"orientation\": \"v\", \"showlegend\": true, \"textposition\": \"auto\", \"type\": \"bar\", \"x\": [\"Electrical\"], \"xaxis\": \"x\", \"y\": [27210.339999999967], \"yaxis\": \"y\"}, {\"alignmentgroup\": \"True\", \"hovertemplate\": \"<b>%{hovertext}</b><br><br>Color=#FF800C<br>year=2010<br>Commodity_Name=%{x}<br>value=%{y}<extra></extra>\", \"hovertext\": [\"ORGANIC CHEMICALS\"], \"legendgroup\": \"#FF800C\", \"marker\": {\"color\": \"#FFA15A\"}, \"name\": \"#FF800C\", \"offsetgroup\": \"#FF800C\", \"orientation\": \"v\", \"showlegend\": true, \"textposition\": \"auto\", \"type\": \"bar\", \"x\": [\"Organic\"], \"xaxis\": \"x\", \"y\": [12639.289999999999], \"yaxis\": \"y\"}],                        {\"barmode\": \"relative\", \"legend\": {\"title\": {\"text\": \"Color\"}, \"tracegroupgap\": 0}, \"sliders\": [{\"active\": 0, \"currentvalue\": {\"prefix\": \"year=\"}, \"len\": 0.9, \"pad\": {\"b\": 10, \"t\": 60}, \"steps\": [{\"args\": [[\"2010\"], {\"frame\": {\"duration\": 0, \"redraw\": true}, \"fromcurrent\": true, \"mode\": \"immediate\", \"transition\": {\"duration\": 0, \"easing\": \"linear\"}}], \"label\": \"2010\", \"method\": \"animate\"}, {\"args\": [[\"2011\"], {\"frame\": {\"duration\": 0, \"redraw\": true}, \"fromcurrent\": true, \"mode\": \"immediate\", \"transition\": {\"duration\": 0, \"easing\": \"linear\"}}], \"label\": \"2011\", \"method\": \"animate\"}, {\"args\": [[\"2012\"], {\"frame\": {\"duration\": 0, \"redraw\": true}, \"fromcurrent\": true, \"mode\": \"immediate\", \"transition\": {\"duration\": 0, \"easing\": \"linear\"}}], \"label\": \"2012\", \"method\": \"animate\"}, {\"args\": [[\"2013\"], {\"frame\": {\"duration\": 0, \"redraw\": true}, \"fromcurrent\": true, \"mode\": \"immediate\", \"transition\": {\"duration\": 0, \"easing\": \"linear\"}}], \"label\": \"2013\", \"method\": \"animate\"}, {\"args\": [[\"2014\"], {\"frame\": {\"duration\": 0, \"redraw\": true}, \"fromcurrent\": true, \"mode\": \"immediate\", \"transition\": {\"duration\": 0, \"easing\": \"linear\"}}], \"label\": \"2014\", \"method\": \"animate\"}, {\"args\": [[\"2015\"], {\"frame\": {\"duration\": 0, \"redraw\": true}, \"fromcurrent\": true, \"mode\": \"immediate\", \"transition\": {\"duration\": 0, \"easing\": \"linear\"}}], \"label\": \"2015\", \"method\": \"animate\"}, {\"args\": [[\"2016\"], {\"frame\": {\"duration\": 0, \"redraw\": true}, \"fromcurrent\": true, \"mode\": \"immediate\", \"transition\": {\"duration\": 0, \"easing\": \"linear\"}}], \"label\": \"2016\", \"method\": \"animate\"}, {\"args\": [[\"2017\"], {\"frame\": {\"duration\": 0, \"redraw\": true}, \"fromcurrent\": true, \"mode\": \"immediate\", \"transition\": {\"duration\": 0, \"easing\": \"linear\"}}], \"label\": \"2017\", \"method\": \"animate\"}, {\"args\": [[\"2018\"], {\"frame\": {\"duration\": 0, \"redraw\": true}, \"fromcurrent\": true, \"mode\": \"immediate\", \"transition\": {\"duration\": 0, \"easing\": \"linear\"}}], \"label\": \"2018\", \"method\": \"animate\"}], \"x\": 0.1, \"xanchor\": \"left\", \"y\": 0, \"yanchor\": \"top\"}], \"template\": {\"data\": {\"bar\": [{\"error_x\": {\"color\": \"#2a3f5f\"}, \"error_y\": {\"color\": \"#2a3f5f\"}, \"marker\": {\"line\": {\"color\": \"#E5ECF6\", \"width\": 0.5}}, \"type\": \"bar\"}], \"barpolar\": [{\"marker\": {\"line\": {\"color\": \"#E5ECF6\", \"width\": 0.5}}, \"type\": \"barpolar\"}], \"carpet\": [{\"aaxis\": {\"endlinecolor\": \"#2a3f5f\", \"gridcolor\": \"white\", \"linecolor\": \"white\", \"minorgridcolor\": \"white\", \"startlinecolor\": \"#2a3f5f\"}, \"baxis\": {\"endlinecolor\": \"#2a3f5f\", \"gridcolor\": \"white\", \"linecolor\": \"white\", \"minorgridcolor\": \"white\", \"startlinecolor\": \"#2a3f5f\"}, \"type\": \"carpet\"}], \"choropleth\": [{\"colorbar\": {\"outlinewidth\": 0, \"ticks\": \"\"}, \"type\": \"choropleth\"}], \"contour\": [{\"colorbar\": {\"outlinewidth\": 0, \"ticks\": \"\"}, \"colorscale\": [[0.0, \"#0d0887\"], [0.1111111111111111, \"#46039f\"], [0.2222222222222222, \"#7201a8\"], [0.3333333333333333, \"#9c179e\"], [0.4444444444444444, \"#bd3786\"], [0.5555555555555556, \"#d8576b\"], [0.6666666666666666, \"#ed7953\"], [0.7777777777777778, \"#fb9f3a\"], [0.8888888888888888, \"#fdca26\"], [1.0, \"#f0f921\"]], \"type\": \"contour\"}], \"contourcarpet\": [{\"colorbar\": {\"outlinewidth\": 0, \"ticks\": \"\"}, \"type\": \"contourcarpet\"}], \"heatmap\": [{\"colorbar\": {\"outlinewidth\": 0, \"ticks\": \"\"}, \"colorscale\": [[0.0, \"#0d0887\"], [0.1111111111111111, \"#46039f\"], [0.2222222222222222, \"#7201a8\"], [0.3333333333333333, \"#9c179e\"], [0.4444444444444444, \"#bd3786\"], [0.5555555555555556, \"#d8576b\"], [0.6666666666666666, \"#ed7953\"], [0.7777777777777778, \"#fb9f3a\"], [0.8888888888888888, \"#fdca26\"], [1.0, \"#f0f921\"]], \"type\": \"heatmap\"}], \"heatmapgl\": [{\"colorbar\": {\"outlinewidth\": 0, \"ticks\": \"\"}, \"colorscale\": [[0.0, \"#0d0887\"], [0.1111111111111111, \"#46039f\"], [0.2222222222222222, \"#7201a8\"], [0.3333333333333333, \"#9c179e\"], [0.4444444444444444, \"#bd3786\"], [0.5555555555555556, \"#d8576b\"], [0.6666666666666666, \"#ed7953\"], [0.7777777777777778, \"#fb9f3a\"], [0.8888888888888888, \"#fdca26\"], [1.0, \"#f0f921\"]], \"type\": \"heatmapgl\"}], \"histogram\": [{\"marker\": {\"colorbar\": {\"outlinewidth\": 0, \"ticks\": \"\"}}, \"type\": \"histogram\"}], \"histogram2d\": [{\"colorbar\": {\"outlinewidth\": 0, \"ticks\": \"\"}, \"colorscale\": [[0.0, \"#0d0887\"], [0.1111111111111111, \"#46039f\"], [0.2222222222222222, \"#7201a8\"], [0.3333333333333333, \"#9c179e\"], [0.4444444444444444, \"#bd3786\"], [0.5555555555555556, \"#d8576b\"], [0.6666666666666666, \"#ed7953\"], [0.7777777777777778, \"#fb9f3a\"], [0.8888888888888888, \"#fdca26\"], [1.0, \"#f0f921\"]], \"type\": \"histogram2d\"}], \"histogram2dcontour\": [{\"colorbar\": {\"outlinewidth\": 0, \"ticks\": \"\"}, \"colorscale\": [[0.0, \"#0d0887\"], [0.1111111111111111, \"#46039f\"], [0.2222222222222222, \"#7201a8\"], [0.3333333333333333, \"#9c179e\"], [0.4444444444444444, \"#bd3786\"], [0.5555555555555556, \"#d8576b\"], [0.6666666666666666, \"#ed7953\"], [0.7777777777777778, \"#fb9f3a\"], [0.8888888888888888, \"#fdca26\"], [1.0, \"#f0f921\"]], \"type\": \"histogram2dcontour\"}], \"mesh3d\": [{\"colorbar\": {\"outlinewidth\": 0, \"ticks\": \"\"}, \"type\": \"mesh3d\"}], \"parcoords\": [{\"line\": {\"colorbar\": {\"outlinewidth\": 0, \"ticks\": \"\"}}, \"type\": \"parcoords\"}], \"pie\": [{\"automargin\": true, \"type\": \"pie\"}], \"scatter\": [{\"marker\": {\"colorbar\": {\"outlinewidth\": 0, \"ticks\": \"\"}}, \"type\": \"scatter\"}], \"scatter3d\": [{\"line\": {\"colorbar\": {\"outlinewidth\": 0, \"ticks\": \"\"}}, \"marker\": {\"colorbar\": {\"outlinewidth\": 0, \"ticks\": \"\"}}, \"type\": \"scatter3d\"}], \"scattercarpet\": [{\"marker\": {\"colorbar\": {\"outlinewidth\": 0, \"ticks\": \"\"}}, \"type\": \"scattercarpet\"}], \"scattergeo\": [{\"marker\": {\"colorbar\": {\"outlinewidth\": 0, \"ticks\": \"\"}}, \"type\": \"scattergeo\"}], \"scattergl\": [{\"marker\": {\"colorbar\": {\"outlinewidth\": 0, \"ticks\": \"\"}}, \"type\": \"scattergl\"}], \"scattermapbox\": [{\"marker\": {\"colorbar\": {\"outlinewidth\": 0, \"ticks\": \"\"}}, \"type\": \"scattermapbox\"}], \"scatterpolar\": [{\"marker\": {\"colorbar\": {\"outlinewidth\": 0, \"ticks\": \"\"}}, \"type\": \"scatterpolar\"}], \"scatterpolargl\": [{\"marker\": {\"colorbar\": {\"outlinewidth\": 0, \"ticks\": \"\"}}, \"type\": \"scatterpolargl\"}], \"scatterternary\": [{\"marker\": {\"colorbar\": {\"outlinewidth\": 0, \"ticks\": \"\"}}, \"type\": \"scatterternary\"}], \"surface\": [{\"colorbar\": {\"outlinewidth\": 0, \"ticks\": \"\"}, \"colorscale\": [[0.0, \"#0d0887\"], [0.1111111111111111, \"#46039f\"], [0.2222222222222222, \"#7201a8\"], [0.3333333333333333, \"#9c179e\"], [0.4444444444444444, \"#bd3786\"], [0.5555555555555556, \"#d8576b\"], [0.6666666666666666, \"#ed7953\"], [0.7777777777777778, \"#fb9f3a\"], [0.8888888888888888, \"#fdca26\"], [1.0, \"#f0f921\"]], \"type\": \"surface\"}], \"table\": [{\"cells\": {\"fill\": {\"color\": \"#EBF0F8\"}, \"line\": {\"color\": \"white\"}}, \"header\": {\"fill\": {\"color\": \"#C8D4E3\"}, \"line\": {\"color\": \"white\"}}, \"type\": \"table\"}]}, \"layout\": {\"annotationdefaults\": {\"arrowcolor\": \"#2a3f5f\", \"arrowhead\": 0, \"arrowwidth\": 1}, \"autotypenumbers\": \"strict\", \"coloraxis\": {\"colorbar\": {\"outlinewidth\": 0, \"ticks\": \"\"}}, \"colorscale\": {\"diverging\": [[0, \"#8e0152\"], [0.1, \"#c51b7d\"], [0.2, \"#de77ae\"], [0.3, \"#f1b6da\"], [0.4, \"#fde0ef\"], [0.5, \"#f7f7f7\"], [0.6, \"#e6f5d0\"], [0.7, \"#b8e186\"], [0.8, \"#7fbc41\"], [0.9, \"#4d9221\"], [1, \"#276419\"]], \"sequential\": [[0.0, \"#0d0887\"], [0.1111111111111111, \"#46039f\"], [0.2222222222222222, \"#7201a8\"], [0.3333333333333333, \"#9c179e\"], [0.4444444444444444, \"#bd3786\"], [0.5555555555555556, \"#d8576b\"], [0.6666666666666666, \"#ed7953\"], [0.7777777777777778, \"#fb9f3a\"], [0.8888888888888888, \"#fdca26\"], [1.0, \"#f0f921\"]], \"sequentialminus\": [[0.0, \"#0d0887\"], [0.1111111111111111, \"#46039f\"], [0.2222222222222222, \"#7201a8\"], [0.3333333333333333, \"#9c179e\"], [0.4444444444444444, \"#bd3786\"], [0.5555555555555556, \"#d8576b\"], [0.6666666666666666, \"#ed7953\"], [0.7777777777777778, \"#fb9f3a\"], [0.8888888888888888, \"#fdca26\"], [1.0, \"#f0f921\"]]}, \"colorway\": [\"#636efa\", \"#EF553B\", \"#00cc96\", \"#ab63fa\", \"#FFA15A\", \"#19d3f3\", \"#FF6692\", \"#B6E880\", \"#FF97FF\", \"#FECB52\"], \"font\": {\"color\": \"#2a3f5f\"}, \"geo\": {\"bgcolor\": \"white\", \"lakecolor\": \"white\", \"landcolor\": \"#E5ECF6\", \"showlakes\": true, \"showland\": true, \"subunitcolor\": \"white\"}, \"hoverlabel\": {\"align\": \"left\"}, \"hovermode\": \"closest\", \"mapbox\": {\"style\": \"light\"}, \"paper_bgcolor\": \"white\", \"plot_bgcolor\": \"#E5ECF6\", \"polar\": {\"angularaxis\": {\"gridcolor\": \"white\", \"linecolor\": \"white\", \"ticks\": \"\"}, \"bgcolor\": \"#E5ECF6\", \"radialaxis\": {\"gridcolor\": \"white\", \"linecolor\": \"white\", \"ticks\": \"\"}}, \"scene\": {\"xaxis\": {\"backgroundcolor\": \"#E5ECF6\", \"gridcolor\": \"white\", \"gridwidth\": 2, \"linecolor\": \"white\", \"showbackground\": true, \"ticks\": \"\", \"zerolinecolor\": \"white\"}, \"yaxis\": {\"backgroundcolor\": \"#E5ECF6\", \"gridcolor\": \"white\", \"gridwidth\": 2, \"linecolor\": \"white\", \"showbackground\": true, \"ticks\": \"\", \"zerolinecolor\": \"white\"}, \"zaxis\": {\"backgroundcolor\": \"#E5ECF6\", \"gridcolor\": \"white\", \"gridwidth\": 2, \"linecolor\": \"white\", \"showbackground\": true, \"ticks\": \"\", \"zerolinecolor\": \"white\"}}, \"shapedefaults\": {\"line\": {\"color\": \"#2a3f5f\"}}, \"ternary\": {\"aaxis\": {\"gridcolor\": \"white\", \"linecolor\": \"white\", \"ticks\": \"\"}, \"baxis\": {\"gridcolor\": \"white\", \"linecolor\": \"white\", \"ticks\": \"\"}, \"bgcolor\": \"#E5ECF6\", \"caxis\": {\"gridcolor\": \"white\", \"linecolor\": \"white\", \"ticks\": \"\"}}, \"title\": {\"x\": 0.05}, \"xaxis\": {\"automargin\": true, \"gridcolor\": \"white\", \"linecolor\": \"white\", \"ticks\": \"\", \"title\": {\"standoff\": 15}, \"zerolinecolor\": \"white\", \"zerolinewidth\": 2}, \"yaxis\": {\"automargin\": true, \"gridcolor\": \"white\", \"linecolor\": \"white\", \"ticks\": \"\", \"title\": {\"standoff\": 15}, \"zerolinecolor\": \"white\", \"zerolinewidth\": 2}}}, \"title\": {\"text\": \"Interactive Bar Plot of Top 5 Import Commodities with year as slider\"}, \"updatemenus\": [{\"buttons\": [{\"args\": [null, {\"frame\": {\"duration\": 500, \"redraw\": true}, \"fromcurrent\": true, \"mode\": \"immediate\", \"transition\": {\"duration\": 500, \"easing\": \"linear\"}}], \"label\": \"&#9654;\", \"method\": \"animate\"}, {\"args\": [[null], {\"frame\": {\"duration\": 0, \"redraw\": true}, \"fromcurrent\": true, \"mode\": \"immediate\", \"transition\": {\"duration\": 0, \"easing\": \"linear\"}}], \"label\": \"&#9724;\", \"method\": \"animate\"}], \"direction\": \"left\", \"pad\": {\"r\": 10, \"t\": 70}, \"showactive\": false, \"type\": \"buttons\", \"x\": 0.1, \"xanchor\": \"right\", \"y\": 0, \"yanchor\": \"top\"}], \"xaxis\": {\"anchor\": \"y\", \"domain\": [0.0, 1.0], \"title\": {\"text\": \"Commodity_Name\"}}, \"yaxis\": {\"anchor\": \"x\", \"domain\": [0.0, 1.0], \"title\": {\"text\": \"value\"}}},                        {\"responsive\": true}                    ).then(function(){\n",
       "                            Plotly.addFrames('1aa41318-7577-4c8a-8295-a00f689af943', [{\"data\": [{\"alignmentgroup\": \"True\", \"hovertemplate\": \"<b>%{hovertext}</b><br><br>Color=#4255FF<br>year=2010<br>Commodity_Name=%{x}<br>value=%{y}<extra></extra>\", \"hovertext\": [\"MINERAL FUELS, MINERAL OILS AND PRODUCTS OF THEIR DISTILLATION; BITUMINOUS SUBSTANCES; MINERAL WAXES.\"], \"legendgroup\": \"#4255FF\", \"marker\": {\"color\": \"#636efa\"}, \"name\": \"#4255FF\", \"offsetgroup\": \"#4255FF\", \"orientation\": \"v\", \"showlegend\": true, \"textposition\": \"auto\", \"x\": [\"Mineral\"], \"xaxis\": \"x\", \"y\": [115929.09999999995], \"yaxis\": \"y\", \"type\": \"bar\"}, {\"alignmentgroup\": \"True\", \"hovertemplate\": \"<b>%{hovertext}</b><br><br>Color=#A2F312<br>year=2010<br>Commodity_Name=%{x}<br>value=%{y}<extra></extra>\", \"hovertext\": [\"NATURAL OR CULTURED PEARLS,PRECIOUS OR SEMIPRECIOUS STONES,PRE.METALS,CLAD WITH PRE.METAL AND ARTCLS THEREOF;IMIT.JEWLRY;COIN.\"], \"legendgroup\": \"#A2F312\", \"marker\": {\"color\": \"#EF553B\"}, \"name\": \"#A2F312\", \"offsetgroup\": \"#A2F312\", \"orientation\": \"v\", \"showlegend\": true, \"textposition\": \"auto\", \"x\": [\"Natural\"], \"xaxis\": \"x\", \"y\": [77054.43000000001], \"yaxis\": \"y\", \"type\": \"bar\"}, {\"alignmentgroup\": \"True\", \"hovertemplate\": \"<b>%{hovertext}</b><br><br>Color=#FFF312<br>year=2010<br>Commodity_Name=%{x}<br>value=%{y}<extra></extra>\", \"hovertext\": [\"NUCLEAR REACTORS, BOILERS, MACHINERY AND MECHANICAL APPLIANCES; PARTS THEREOF.\"], \"legendgroup\": \"#FFF312\", \"marker\": {\"color\": \"#00cc96\"}, \"name\": \"#FFF312\", \"offsetgroup\": \"#FFF312\", \"orientation\": \"v\", \"showlegend\": true, \"textposition\": \"auto\", \"x\": [\"Nuclear\"], \"xaxis\": \"x\", \"y\": [29006.239999999998], \"yaxis\": \"y\", \"type\": \"bar\"}, {\"alignmentgroup\": \"True\", \"hovertemplate\": \"<b>%{hovertext}</b><br><br>Color=#FF075B<br>year=2010<br>Commodity_Name=%{x}<br>value=%{y}<extra></extra>\", \"hovertext\": [\"ELECTRICAL MACHINERY AND EQUIPMENT AND PARTS THEREOF; SOUND RECORDERS AND REPRODUCERS, TELEVISION IMAGE AND SOUND RECORDERS AND REPRODUCERS,AND PARTS.\"], \"legendgroup\": \"#FF075B\", \"marker\": {\"color\": \"#ab63fa\"}, \"name\": \"#FF075B\", \"offsetgroup\": \"#FF075B\", \"orientation\": \"v\", \"showlegend\": true, \"textposition\": \"auto\", \"x\": [\"Electrical\"], \"xaxis\": \"x\", \"y\": [27210.339999999967], \"yaxis\": \"y\", \"type\": \"bar\"}, {\"alignmentgroup\": \"True\", \"hovertemplate\": \"<b>%{hovertext}</b><br><br>Color=#FF800C<br>year=2010<br>Commodity_Name=%{x}<br>value=%{y}<extra></extra>\", \"hovertext\": [\"ORGANIC CHEMICALS\"], \"legendgroup\": \"#FF800C\", \"marker\": {\"color\": \"#FFA15A\"}, \"name\": \"#FF800C\", \"offsetgroup\": \"#FF800C\", \"orientation\": \"v\", \"showlegend\": true, \"textposition\": \"auto\", \"x\": [\"Organic\"], \"xaxis\": \"x\", \"y\": [12639.289999999999], \"yaxis\": \"y\", \"type\": \"bar\"}], \"name\": \"2010\"}, {\"data\": [{\"alignmentgroup\": \"True\", \"hovertemplate\": \"<b>%{hovertext}</b><br><br>Color=#4255FF<br>year=2011<br>Commodity_Name=%{x}<br>value=%{y}<extra></extra>\", \"hovertext\": [\"MINERAL FUELS, MINERAL OILS AND PRODUCTS OF THEIR DISTILLATION; BITUMINOUS SUBSTANCES; MINERAL WAXES.\"], \"legendgroup\": \"#4255FF\", \"marker\": {\"color\": \"#636efa\"}, \"name\": \"#4255FF\", \"offsetgroup\": \"#4255FF\", \"orientation\": \"v\", \"showlegend\": true, \"textposition\": \"auto\", \"x\": [\"Mineral\"], \"xaxis\": \"x\", \"y\": [172753.87000000002], \"yaxis\": \"y\", \"type\": \"bar\"}, {\"alignmentgroup\": \"True\", \"hovertemplate\": \"<b>%{hovertext}</b><br><br>Color=#A2F312<br>year=2011<br>Commodity_Name=%{x}<br>value=%{y}<extra></extra>\", \"hovertext\": [\"NATURAL OR CULTURED PEARLS,PRECIOUS OR SEMIPRECIOUS STONES,PRE.METALS,CLAD WITH PRE.METAL AND ARTCLS THEREOF;IMIT.JEWLRY;COIN.\"], \"legendgroup\": \"#A2F312\", \"marker\": {\"color\": \"#EF553B\"}, \"name\": \"#A2F312\", \"offsetgroup\": \"#A2F312\", \"orientation\": \"v\", \"showlegend\": true, \"textposition\": \"auto\", \"x\": [\"Natural\"], \"xaxis\": \"x\", \"y\": [91074.92], \"yaxis\": \"y\", \"type\": \"bar\"}, {\"alignmentgroup\": \"True\", \"hovertemplate\": \"<b>%{hovertext}</b><br><br>Color=#FFF312<br>year=2011<br>Commodity_Name=%{x}<br>value=%{y}<extra></extra>\", \"hovertext\": [\"NUCLEAR REACTORS, BOILERS, MACHINERY AND MECHANICAL APPLIANCES; PARTS THEREOF.\"], \"legendgroup\": \"#FFF312\", \"marker\": {\"color\": \"#00cc96\"}, \"name\": \"#FFF312\", \"offsetgroup\": \"#FFF312\", \"orientation\": \"v\", \"showlegend\": true, \"textposition\": \"auto\", \"x\": [\"Nuclear\"], \"xaxis\": \"x\", \"y\": [37551.30000000001], \"yaxis\": \"y\", \"type\": \"bar\"}, {\"alignmentgroup\": \"True\", \"hovertemplate\": \"<b>%{hovertext}</b><br><br>Color=#FF075B<br>year=2011<br>Commodity_Name=%{x}<br>value=%{y}<extra></extra>\", \"hovertext\": [\"ELECTRICAL MACHINERY AND EQUIPMENT AND PARTS THEREOF; SOUND RECORDERS AND REPRODUCERS, TELEVISION IMAGE AND SOUND RECORDERS AND REPRODUCERS,AND PARTS.\"], \"legendgroup\": \"#FF075B\", \"marker\": {\"color\": \"#ab63fa\"}, \"name\": \"#FF075B\", \"offsetgroup\": \"#FF075B\", \"orientation\": \"v\", \"showlegend\": true, \"textposition\": \"auto\", \"x\": [\"Electrical\"], \"xaxis\": \"x\", \"y\": [32864.619999999995], \"yaxis\": \"y\", \"type\": \"bar\"}, {\"alignmentgroup\": \"True\", \"hovertemplate\": \"<b>%{hovertext}</b><br><br>Color=#FF800C<br>year=2011<br>Commodity_Name=%{x}<br>value=%{y}<extra></extra>\", \"hovertext\": [\"ORGANIC CHEMICALS\"], \"legendgroup\": \"#FF800C\", \"marker\": {\"color\": \"#FFA15A\"}, \"name\": \"#FF800C\", \"offsetgroup\": \"#FF800C\", \"orientation\": \"v\", \"showlegend\": true, \"textposition\": \"auto\", \"x\": [\"Organic\"], \"xaxis\": \"x\", \"y\": [14442.700000000003], \"yaxis\": \"y\", \"type\": \"bar\"}], \"name\": \"2011\"}, {\"data\": [{\"alignmentgroup\": \"True\", \"hovertemplate\": \"<b>%{hovertext}</b><br><br>Color=#4255FF<br>year=2012<br>Commodity_Name=%{x}<br>value=%{y}<extra></extra>\", \"hovertext\": [\"MINERAL FUELS, MINERAL OILS AND PRODUCTS OF THEIR DISTILLATION; BITUMINOUS SUBSTANCES; MINERAL WAXES.\"], \"legendgroup\": \"#4255FF\", \"marker\": {\"color\": \"#636efa\"}, \"name\": \"#4255FF\", \"offsetgroup\": \"#4255FF\", \"orientation\": \"v\", \"showlegend\": true, \"textposition\": \"auto\", \"x\": [\"Mineral\"], \"xaxis\": \"x\", \"y\": [181344.64], \"yaxis\": \"y\", \"type\": \"bar\"}, {\"alignmentgroup\": \"True\", \"hovertemplate\": \"<b>%{hovertext}</b><br><br>Color=#A2F312<br>year=2012<br>Commodity_Name=%{x}<br>value=%{y}<extra></extra>\", \"hovertext\": [\"NATURAL OR CULTURED PEARLS,PRECIOUS OR SEMIPRECIOUS STONES,PRE.METALS,CLAD WITH PRE.METAL AND ARTCLS THEREOF;IMIT.JEWLRY;COIN.\"], \"legendgroup\": \"#A2F312\", \"marker\": {\"color\": \"#EF553B\"}, \"name\": \"#A2F312\", \"offsetgroup\": \"#A2F312\", \"orientation\": \"v\", \"showlegend\": true, \"textposition\": \"auto\", \"x\": [\"Natural\"], \"xaxis\": \"x\", \"y\": [83896.37999999998], \"yaxis\": \"y\", \"type\": \"bar\"}, {\"alignmentgroup\": \"True\", \"hovertemplate\": \"<b>%{hovertext}</b><br><br>Color=#FFF312<br>year=2012<br>Commodity_Name=%{x}<br>value=%{y}<extra></extra>\", \"hovertext\": [\"NUCLEAR REACTORS, BOILERS, MACHINERY AND MECHANICAL APPLIANCES; PARTS THEREOF.\"], \"legendgroup\": \"#FFF312\", \"marker\": {\"color\": \"#00cc96\"}, \"name\": \"#FFF312\", \"offsetgroup\": \"#FFF312\", \"orientation\": \"v\", \"showlegend\": true, \"textposition\": \"auto\", \"x\": [\"Nuclear\"], \"xaxis\": \"x\", \"y\": [35234.569999999985], \"yaxis\": \"y\", \"type\": \"bar\"}, {\"alignmentgroup\": \"True\", \"hovertemplate\": \"<b>%{hovertext}</b><br><br>Color=#FF075B<br>year=2012<br>Commodity_Name=%{x}<br>value=%{y}<extra></extra>\", \"hovertext\": [\"ELECTRICAL MACHINERY AND EQUIPMENT AND PARTS THEREOF; SOUND RECORDERS AND REPRODUCERS, TELEVISION IMAGE AND SOUND RECORDERS AND REPRODUCERS,AND PARTS.\"], \"legendgroup\": \"#FF075B\", \"marker\": {\"color\": \"#ab63fa\"}, \"name\": \"#FF075B\", \"offsetgroup\": \"#FF075B\", \"orientation\": \"v\", \"showlegend\": true, \"textposition\": \"auto\", \"x\": [\"Electrical\"], \"xaxis\": \"x\", \"y\": [29818.96], \"yaxis\": \"y\", \"type\": \"bar\"}, {\"alignmentgroup\": \"True\", \"hovertemplate\": \"<b>%{hovertext}</b><br><br>Color=#FF800C<br>year=2012<br>Commodity_Name=%{x}<br>value=%{y}<extra></extra>\", \"hovertext\": [\"ORGANIC CHEMICALS\"], \"legendgroup\": \"#FF800C\", \"marker\": {\"color\": \"#FFA15A\"}, \"name\": \"#FF800C\", \"offsetgroup\": \"#FF800C\", \"orientation\": \"v\", \"showlegend\": true, \"textposition\": \"auto\", \"x\": [\"Organic\"], \"xaxis\": \"x\", \"y\": [15702.200000000003], \"yaxis\": \"y\", \"type\": \"bar\"}], \"name\": \"2012\"}, {\"data\": [{\"alignmentgroup\": \"True\", \"hovertemplate\": \"<b>%{hovertext}</b><br><br>Color=#4255FF<br>year=2013<br>Commodity_Name=%{x}<br>value=%{y}<extra></extra>\", \"hovertext\": [\"MINERAL FUELS, MINERAL OILS AND PRODUCTS OF THEIR DISTILLATION; BITUMINOUS SUBSTANCES; MINERAL WAXES.\"], \"legendgroup\": \"#4255FF\", \"marker\": {\"color\": \"#636efa\"}, \"name\": \"#4255FF\", \"offsetgroup\": \"#4255FF\", \"orientation\": \"v\", \"showlegend\": true, \"textposition\": \"auto\", \"x\": [\"Mineral\"], \"xaxis\": \"x\", \"y\": [181382.57], \"yaxis\": \"y\", \"type\": \"bar\"}, {\"alignmentgroup\": \"True\", \"hovertemplate\": \"<b>%{hovertext}</b><br><br>Color=#A2F312<br>year=2013<br>Commodity_Name=%{x}<br>value=%{y}<extra></extra>\", \"hovertext\": [\"NATURAL OR CULTURED PEARLS,PRECIOUS OR SEMIPRECIOUS STONES,PRE.METALS,CLAD WITH PRE.METAL AND ARTCLS THEREOF;IMIT.JEWLRY;COIN.\"], \"legendgroup\": \"#A2F312\", \"marker\": {\"color\": \"#EF553B\"}, \"name\": \"#A2F312\", \"offsetgroup\": \"#A2F312\", \"orientation\": \"v\", \"showlegend\": true, \"textposition\": \"auto\", \"x\": [\"Natural\"], \"xaxis\": \"x\", \"y\": [58464.740000000005], \"yaxis\": \"y\", \"type\": \"bar\"}, {\"alignmentgroup\": \"True\", \"hovertemplate\": \"<b>%{hovertext}</b><br><br>Color=#FFF312<br>year=2013<br>Commodity_Name=%{x}<br>value=%{y}<extra></extra>\", \"hovertext\": [\"NUCLEAR REACTORS, BOILERS, MACHINERY AND MECHANICAL APPLIANCES; PARTS THEREOF.\"], \"legendgroup\": \"#FFF312\", \"marker\": {\"color\": \"#00cc96\"}, \"name\": \"#FFF312\", \"offsetgroup\": \"#FFF312\", \"orientation\": \"v\", \"showlegend\": true, \"textposition\": \"auto\", \"x\": [\"Nuclear\"], \"xaxis\": \"x\", \"y\": [30668.32], \"yaxis\": \"y\", \"type\": \"bar\"}, {\"alignmentgroup\": \"True\", \"hovertemplate\": \"<b>%{hovertext}</b><br><br>Color=#FF075B<br>year=2013<br>Commodity_Name=%{x}<br>value=%{y}<extra></extra>\", \"hovertext\": [\"ELECTRICAL MACHINERY AND EQUIPMENT AND PARTS THEREOF; SOUND RECORDERS AND REPRODUCERS, TELEVISION IMAGE AND SOUND RECORDERS AND REPRODUCERS,AND PARTS.\"], \"legendgroup\": \"#FF075B\", \"marker\": {\"color\": \"#ab63fa\"}, \"name\": \"#FF075B\", \"offsetgroup\": \"#FF075B\", \"orientation\": \"v\", \"showlegend\": true, \"textposition\": \"auto\", \"x\": [\"Electrical\"], \"xaxis\": \"x\", \"y\": [29152.080000000005], \"yaxis\": \"y\", \"type\": \"bar\"}, {\"alignmentgroup\": \"True\", \"hovertemplate\": \"<b>%{hovertext}</b><br><br>Color=#FF800C<br>year=2013<br>Commodity_Name=%{x}<br>value=%{y}<extra></extra>\", \"hovertext\": [\"ORGANIC CHEMICALS\"], \"legendgroup\": \"#FF800C\", \"marker\": {\"color\": \"#FFA15A\"}, \"name\": \"#FF800C\", \"offsetgroup\": \"#FF800C\", \"orientation\": \"v\", \"showlegend\": true, \"textposition\": \"auto\", \"x\": [\"Organic\"], \"xaxis\": \"x\", \"y\": [17043.909999999996], \"yaxis\": \"y\", \"type\": \"bar\"}], \"name\": \"2013\"}, {\"data\": [{\"alignmentgroup\": \"True\", \"hovertemplate\": \"<b>%{hovertext}</b><br><br>Color=#4255FF<br>year=2014<br>Commodity_Name=%{x}<br>value=%{y}<extra></extra>\", \"hovertext\": [\"MINERAL FUELS, MINERAL OILS AND PRODUCTS OF THEIR DISTILLATION; BITUMINOUS SUBSTANCES; MINERAL WAXES.\"], \"legendgroup\": \"#4255FF\", \"marker\": {\"color\": \"#636efa\"}, \"name\": \"#4255FF\", \"offsetgroup\": \"#4255FF\", \"orientation\": \"v\", \"showlegend\": true, \"textposition\": \"auto\", \"x\": [\"Mineral\"], \"xaxis\": \"x\", \"y\": [156399.99000000002], \"yaxis\": \"y\", \"type\": \"bar\"}, {\"alignmentgroup\": \"True\", \"hovertemplate\": \"<b>%{hovertext}</b><br><br>Color=#A2F312<br>year=2014<br>Commodity_Name=%{x}<br>value=%{y}<extra></extra>\", \"hovertext\": [\"NATURAL OR CULTURED PEARLS,PRECIOUS OR SEMIPRECIOUS STONES,PRE.METALS,CLAD WITH PRE.METAL AND ARTCLS THEREOF;IMIT.JEWLRY;COIN.\"], \"legendgroup\": \"#A2F312\", \"marker\": {\"color\": \"#EF553B\"}, \"name\": \"#A2F312\", \"offsetgroup\": \"#A2F312\", \"orientation\": \"v\", \"showlegend\": true, \"textposition\": \"auto\", \"x\": [\"Natural\"], \"xaxis\": \"x\", \"y\": [62379.85], \"yaxis\": \"y\", \"type\": \"bar\"}, {\"alignmentgroup\": \"True\", \"hovertemplate\": \"<b>%{hovertext}</b><br><br>Color=#FFF312<br>year=2014<br>Commodity_Name=%{x}<br>value=%{y}<extra></extra>\", \"hovertext\": [\"NUCLEAR REACTORS, BOILERS, MACHINERY AND MECHANICAL APPLIANCES; PARTS THEREOF.\"], \"legendgroup\": \"#FFF312\", \"marker\": {\"color\": \"#00cc96\"}, \"name\": \"#FFF312\", \"offsetgroup\": \"#FFF312\", \"orientation\": \"v\", \"showlegend\": true, \"textposition\": \"auto\", \"x\": [\"Nuclear\"], \"xaxis\": \"x\", \"y\": [31729.800000000007], \"yaxis\": \"y\", \"type\": \"bar\"}, {\"alignmentgroup\": \"True\", \"hovertemplate\": \"<b>%{hovertext}</b><br><br>Color=#FF075B<br>year=2014<br>Commodity_Name=%{x}<br>value=%{y}<extra></extra>\", \"hovertext\": [\"ELECTRICAL MACHINERY AND EQUIPMENT AND PARTS THEREOF; SOUND RECORDERS AND REPRODUCERS, TELEVISION IMAGE AND SOUND RECORDERS AND REPRODUCERS,AND PARTS.\"], \"legendgroup\": \"#FF075B\", \"marker\": {\"color\": \"#ab63fa\"}, \"name\": \"#FF075B\", \"offsetgroup\": \"#FF075B\", \"orientation\": \"v\", \"showlegend\": true, \"textposition\": \"auto\", \"x\": [\"Electrical\"], \"xaxis\": \"x\", \"y\": [33148.77000000002], \"yaxis\": \"y\", \"type\": \"bar\"}, {\"alignmentgroup\": \"True\", \"hovertemplate\": \"<b>%{hovertext}</b><br><br>Color=#FF800C<br>year=2014<br>Commodity_Name=%{x}<br>value=%{y}<extra></extra>\", \"hovertext\": [\"ORGANIC CHEMICALS\"], \"legendgroup\": \"#FF800C\", \"marker\": {\"color\": \"#FFA15A\"}, \"name\": \"#FF800C\", \"offsetgroup\": \"#FF800C\", \"orientation\": \"v\", \"showlegend\": true, \"textposition\": \"auto\", \"x\": [\"Organic\"], \"xaxis\": \"x\", \"y\": [17746.13], \"yaxis\": \"y\", \"type\": \"bar\"}], \"name\": \"2014\"}, {\"data\": [{\"alignmentgroup\": \"True\", \"hovertemplate\": \"<b>%{hovertext}</b><br><br>Color=#4255FF<br>year=2015<br>Commodity_Name=%{x}<br>value=%{y}<extra></extra>\", \"hovertext\": [\"MINERAL FUELS, MINERAL OILS AND PRODUCTS OF THEIR DISTILLATION; BITUMINOUS SUBSTANCES; MINERAL WAXES.\"], \"legendgroup\": \"#4255FF\", \"marker\": {\"color\": \"#636efa\"}, \"name\": \"#4255FF\", \"offsetgroup\": \"#4255FF\", \"orientation\": \"v\", \"showlegend\": true, \"textposition\": \"auto\", \"x\": [\"Mineral\"], \"xaxis\": \"x\", \"y\": [107250.78999999996], \"yaxis\": \"y\", \"type\": \"bar\"}, {\"alignmentgroup\": \"True\", \"hovertemplate\": \"<b>%{hovertext}</b><br><br>Color=#A2F312<br>year=2015<br>Commodity_Name=%{x}<br>value=%{y}<extra></extra>\", \"hovertext\": [\"NATURAL OR CULTURED PEARLS,PRECIOUS OR SEMIPRECIOUS STONES,PRE.METALS,CLAD WITH PRE.METAL AND ARTCLS THEREOF;IMIT.JEWLRY;COIN.\"], \"legendgroup\": \"#A2F312\", \"marker\": {\"color\": \"#EF553B\"}, \"name\": \"#A2F312\", \"offsetgroup\": \"#A2F312\", \"orientation\": \"v\", \"showlegend\": true, \"textposition\": \"auto\", \"x\": [\"Natural\"], \"xaxis\": \"x\", \"y\": [65327.23000000001], \"yaxis\": \"y\", \"type\": \"bar\"}, {\"alignmentgroup\": \"True\", \"hovertemplate\": \"<b>%{hovertext}</b><br><br>Color=#FFF312<br>year=2015<br>Commodity_Name=%{x}<br>value=%{y}<extra></extra>\", \"hovertext\": [\"NUCLEAR REACTORS, BOILERS, MACHINERY AND MECHANICAL APPLIANCES; PARTS THEREOF.\"], \"legendgroup\": \"#FFF312\", \"marker\": {\"color\": \"#00cc96\"}, \"name\": \"#FFF312\", \"offsetgroup\": \"#FFF312\", \"orientation\": \"v\", \"showlegend\": true, \"textposition\": \"auto\", \"x\": [\"Nuclear\"], \"xaxis\": \"x\", \"y\": [33418.17], \"yaxis\": \"y\", \"type\": \"bar\"}, {\"alignmentgroup\": \"True\", \"hovertemplate\": \"<b>%{hovertext}</b><br><br>Color=#FF075B<br>year=2015<br>Commodity_Name=%{x}<br>value=%{y}<extra></extra>\", \"hovertext\": [\"ELECTRICAL MACHINERY AND EQUIPMENT AND PARTS THEREOF; SOUND RECORDERS AND REPRODUCERS, TELEVISION IMAGE AND SOUND RECORDERS AND REPRODUCERS,AND PARTS.\"], \"legendgroup\": \"#FF075B\", \"marker\": {\"color\": \"#ab63fa\"}, \"name\": \"#FF075B\", \"offsetgroup\": \"#FF075B\", \"orientation\": \"v\", \"showlegend\": true, \"textposition\": \"auto\", \"x\": [\"Electrical\"], \"xaxis\": \"x\", \"y\": [36172.55999999998], \"yaxis\": \"y\", \"type\": \"bar\"}, {\"alignmentgroup\": \"True\", \"hovertemplate\": \"<b>%{hovertext}</b><br><br>Color=#FF800C<br>year=2015<br>Commodity_Name=%{x}<br>value=%{y}<extra></extra>\", \"hovertext\": [\"ORGANIC CHEMICALS\"], \"legendgroup\": \"#FF800C\", \"marker\": {\"color\": \"#FFA15A\"}, \"name\": \"#FF800C\", \"offsetgroup\": \"#FF800C\", \"orientation\": \"v\", \"showlegend\": true, \"textposition\": \"auto\", \"x\": [\"Organic\"], \"xaxis\": \"x\", \"y\": [15936.120000000006], \"yaxis\": \"y\", \"type\": \"bar\"}], \"name\": \"2015\"}, {\"data\": [{\"alignmentgroup\": \"True\", \"hovertemplate\": \"<b>%{hovertext}</b><br><br>Color=#4255FF<br>year=2016<br>Commodity_Name=%{x}<br>value=%{y}<extra></extra>\", \"hovertext\": [\"MINERAL FUELS, MINERAL OILS AND PRODUCTS OF THEIR DISTILLATION; BITUMINOUS SUBSTANCES; MINERAL WAXES.\"], \"legendgroup\": \"#4255FF\", \"marker\": {\"color\": \"#636efa\"}, \"name\": \"#4255FF\", \"offsetgroup\": \"#4255FF\", \"orientation\": \"v\", \"showlegend\": true, \"textposition\": \"auto\", \"x\": [\"Mineral\"], \"xaxis\": \"x\", \"y\": [103163.12], \"yaxis\": \"y\", \"type\": \"bar\"}, {\"alignmentgroup\": \"True\", \"hovertemplate\": \"<b>%{hovertext}</b><br><br>Color=#A2F312<br>year=2016<br>Commodity_Name=%{x}<br>value=%{y}<extra></extra>\", \"hovertext\": [\"NATURAL OR CULTURED PEARLS,PRECIOUS OR SEMIPRECIOUS STONES,PRE.METALS,CLAD WITH PRE.METAL AND ARTCLS THEREOF;IMIT.JEWLRY;COIN.\"], \"legendgroup\": \"#A2F312\", \"marker\": {\"color\": \"#EF553B\"}, \"name\": \"#A2F312\", \"offsetgroup\": \"#A2F312\", \"orientation\": \"v\", \"showlegend\": true, \"textposition\": \"auto\", \"x\": [\"Natural\"], \"xaxis\": \"x\", \"y\": [53767.39999999999], \"yaxis\": \"y\", \"type\": \"bar\"}, {\"alignmentgroup\": \"True\", \"hovertemplate\": \"<b>%{hovertext}</b><br><br>Color=#FFF312<br>year=2016<br>Commodity_Name=%{x}<br>value=%{y}<extra></extra>\", \"hovertext\": [\"NUCLEAR REACTORS, BOILERS, MACHINERY AND MECHANICAL APPLIANCES; PARTS THEREOF.\"], \"legendgroup\": \"#FFF312\", \"marker\": {\"color\": \"#00cc96\"}, \"name\": \"#FFF312\", \"offsetgroup\": \"#FFF312\", \"orientation\": \"v\", \"showlegend\": true, \"textposition\": \"auto\", \"x\": [\"Nuclear\"], \"xaxis\": \"x\", \"y\": [32088.13999999999], \"yaxis\": \"y\", \"type\": \"bar\"}, {\"alignmentgroup\": \"True\", \"hovertemplate\": \"<b>%{hovertext}</b><br><br>Color=#FF075B<br>year=2016<br>Commodity_Name=%{x}<br>value=%{y}<extra></extra>\", \"hovertext\": [\"ELECTRICAL MACHINERY AND EQUIPMENT AND PARTS THEREOF; SOUND RECORDERS AND REPRODUCERS, TELEVISION IMAGE AND SOUND RECORDERS AND REPRODUCERS,AND PARTS.\"], \"legendgroup\": \"#FF075B\", \"marker\": {\"color\": \"#ab63fa\"}, \"name\": \"#FF075B\", \"offsetgroup\": \"#FF075B\", \"orientation\": \"v\", \"showlegend\": true, \"textposition\": \"auto\", \"x\": [\"Electrical\"], \"xaxis\": \"x\", \"y\": [38569.91], \"yaxis\": \"y\", \"type\": \"bar\"}, {\"alignmentgroup\": \"True\", \"hovertemplate\": \"<b>%{hovertext}</b><br><br>Color=#FF800C<br>year=2016<br>Commodity_Name=%{x}<br>value=%{y}<extra></extra>\", \"hovertext\": [\"ORGANIC CHEMICALS\"], \"legendgroup\": \"#FF800C\", \"marker\": {\"color\": \"#FFA15A\"}, \"name\": \"#FF800C\", \"offsetgroup\": \"#FF800C\", \"orientation\": \"v\", \"showlegend\": true, \"textposition\": \"auto\", \"x\": [\"Organic\"], \"xaxis\": \"x\", \"y\": [15476.890000000005], \"yaxis\": \"y\", \"type\": \"bar\"}], \"name\": \"2016\"}, {\"data\": [{\"alignmentgroup\": \"True\", \"hovertemplate\": \"<b>%{hovertext}</b><br><br>Color=#4255FF<br>year=2017<br>Commodity_Name=%{x}<br>value=%{y}<extra></extra>\", \"hovertext\": [\"MINERAL FUELS, MINERAL OILS AND PRODUCTS OF THEIR DISTILLATION; BITUMINOUS SUBSTANCES; MINERAL WAXES.\"], \"legendgroup\": \"#4255FF\", \"marker\": {\"color\": \"#636efa\"}, \"name\": \"#4255FF\", \"offsetgroup\": \"#4255FF\", \"orientation\": \"v\", \"showlegend\": true, \"textposition\": \"auto\", \"x\": [\"Mineral\"], \"xaxis\": \"x\", \"y\": [132294.51999999993], \"yaxis\": \"y\", \"type\": \"bar\"}, {\"alignmentgroup\": \"True\", \"hovertemplate\": \"<b>%{hovertext}</b><br><br>Color=#A2F312<br>year=2017<br>Commodity_Name=%{x}<br>value=%{y}<extra></extra>\", \"hovertext\": [\"NATURAL OR CULTURED PEARLS,PRECIOUS OR SEMIPRECIOUS STONES,PRE.METALS,CLAD WITH PRE.METAL AND ARTCLS THEREOF;IMIT.JEWLRY;COIN.\"], \"legendgroup\": \"#A2F312\", \"marker\": {\"color\": \"#EF553B\"}, \"name\": \"#A2F312\", \"offsetgroup\": \"#A2F312\", \"orientation\": \"v\", \"showlegend\": true, \"textposition\": \"auto\", \"x\": [\"Natural\"], \"xaxis\": \"x\", \"y\": [74710.40999999999], \"yaxis\": \"y\", \"type\": \"bar\"}, {\"alignmentgroup\": \"True\", \"hovertemplate\": \"<b>%{hovertext}</b><br><br>Color=#FFF312<br>year=2017<br>Commodity_Name=%{x}<br>value=%{y}<extra></extra>\", \"hovertext\": [\"NUCLEAR REACTORS, BOILERS, MACHINERY AND MECHANICAL APPLIANCES; PARTS THEREOF.\"], \"legendgroup\": \"#FFF312\", \"marker\": {\"color\": \"#00cc96\"}, \"name\": \"#FFF312\", \"offsetgroup\": \"#FFF312\", \"orientation\": \"v\", \"showlegend\": true, \"textposition\": \"auto\", \"x\": [\"Nuclear\"], \"xaxis\": \"x\", \"y\": [37823.24999999998], \"yaxis\": \"y\", \"type\": \"bar\"}, {\"alignmentgroup\": \"True\", \"hovertemplate\": \"<b>%{hovertext}</b><br><br>Color=#FF075B<br>year=2017<br>Commodity_Name=%{x}<br>value=%{y}<extra></extra>\", \"hovertext\": [\"ELECTRICAL MACHINERY AND EQUIPMENT AND PARTS THEREOF; SOUND RECORDERS AND REPRODUCERS, TELEVISION IMAGE AND SOUND RECORDERS AND REPRODUCERS,AND PARTS.\"], \"legendgroup\": \"#FF075B\", \"marker\": {\"color\": \"#ab63fa\"}, \"name\": \"#FF075B\", \"offsetgroup\": \"#FF075B\", \"orientation\": \"v\", \"showlegend\": true, \"textposition\": \"auto\", \"x\": [\"Electrical\"], \"xaxis\": \"x\", \"y\": [48268.44999999996], \"yaxis\": \"y\", \"type\": \"bar\"}, {\"alignmentgroup\": \"True\", \"hovertemplate\": \"<b>%{hovertext}</b><br><br>Color=#FF800C<br>year=2017<br>Commodity_Name=%{x}<br>value=%{y}<extra></extra>\", \"hovertext\": [\"ORGANIC CHEMICALS\"], \"legendgroup\": \"#FF800C\", \"marker\": {\"color\": \"#FFA15A\"}, \"name\": \"#FF800C\", \"offsetgroup\": \"#FF800C\", \"orientation\": \"v\", \"showlegend\": true, \"textposition\": \"auto\", \"x\": [\"Organic\"], \"xaxis\": \"x\", \"y\": [19200.97000000001], \"yaxis\": \"y\", \"type\": \"bar\"}], \"name\": \"2017\"}, {\"data\": [{\"alignmentgroup\": \"True\", \"hovertemplate\": \"<b>%{hovertext}</b><br><br>Color=#4255FF<br>year=2018<br>Commodity_Name=%{x}<br>value=%{y}<extra></extra>\", \"hovertext\": [\"MINERAL FUELS, MINERAL OILS AND PRODUCTS OF THEIR DISTILLATION; BITUMINOUS SUBSTANCES; MINERAL WAXES.\"], \"legendgroup\": \"#4255FF\", \"marker\": {\"color\": \"#636efa\"}, \"name\": \"#4255FF\", \"offsetgroup\": \"#4255FF\", \"orientation\": \"v\", \"showlegend\": true, \"textposition\": \"auto\", \"x\": [\"Mineral\"], \"xaxis\": \"x\", \"y\": [167871.77999999994], \"yaxis\": \"y\", \"type\": \"bar\"}, {\"alignmentgroup\": \"True\", \"hovertemplate\": \"<b>%{hovertext}</b><br><br>Color=#A2F312<br>year=2018<br>Commodity_Name=%{x}<br>value=%{y}<extra></extra>\", \"hovertext\": [\"NATURAL OR CULTURED PEARLS,PRECIOUS OR SEMIPRECIOUS STONES,PRE.METALS,CLAD WITH PRE.METAL AND ARTCLS THEREOF;IMIT.JEWLRY;COIN.\"], \"legendgroup\": \"#A2F312\", \"marker\": {\"color\": \"#EF553B\"}, \"name\": \"#A2F312\", \"offsetgroup\": \"#A2F312\", \"orientation\": \"v\", \"showlegend\": true, \"textposition\": \"auto\", \"x\": [\"Natural\"], \"xaxis\": \"x\", \"y\": [64720.19], \"yaxis\": \"y\", \"type\": \"bar\"}, {\"alignmentgroup\": \"True\", \"hovertemplate\": \"<b>%{hovertext}</b><br><br>Color=#FFF312<br>year=2018<br>Commodity_Name=%{x}<br>value=%{y}<extra></extra>\", \"hovertext\": [\"NUCLEAR REACTORS, BOILERS, MACHINERY AND MECHANICAL APPLIANCES; PARTS THEREOF.\"], \"legendgroup\": \"#FFF312\", \"marker\": {\"color\": \"#00cc96\"}, \"name\": \"#FFF312\", \"offsetgroup\": \"#FFF312\", \"orientation\": \"v\", \"showlegend\": true, \"textposition\": \"auto\", \"x\": [\"Nuclear\"], \"xaxis\": \"x\", \"y\": [43839.43], \"yaxis\": \"y\", \"type\": \"bar\"}, {\"alignmentgroup\": \"True\", \"hovertemplate\": \"<b>%{hovertext}</b><br><br>Color=#FF075B<br>year=2018<br>Commodity_Name=%{x}<br>value=%{y}<extra></extra>\", \"hovertext\": [\"ELECTRICAL MACHINERY AND EQUIPMENT AND PARTS THEREOF; SOUND RECORDERS AND REPRODUCERS, TELEVISION IMAGE AND SOUND RECORDERS AND REPRODUCERS,AND PARTS.\"], \"legendgroup\": \"#FF075B\", \"marker\": {\"color\": \"#ab63fa\"}, \"name\": \"#FF075B\", \"offsetgroup\": \"#FF075B\", \"orientation\": \"v\", \"showlegend\": true, \"textposition\": \"auto\", \"x\": [\"Electrical\"], \"xaxis\": \"x\", \"y\": [52048.259999999995], \"yaxis\": \"y\", \"type\": \"bar\"}, {\"alignmentgroup\": \"True\", \"hovertemplate\": \"<b>%{hovertext}</b><br><br>Color=#FF800C<br>year=2018<br>Commodity_Name=%{x}<br>value=%{y}<extra></extra>\", \"hovertext\": [\"ORGANIC CHEMICALS\"], \"legendgroup\": \"#FF800C\", \"marker\": {\"color\": \"#FFA15A\"}, \"name\": \"#FF800C\", \"offsetgroup\": \"#FF800C\", \"orientation\": \"v\", \"showlegend\": true, \"textposition\": \"auto\", \"x\": [\"Organic\"], \"xaxis\": \"x\", \"y\": [22389.409999999993], \"yaxis\": \"y\", \"type\": \"bar\"}], \"name\": \"2018\"}]);\n",
       "                        }).then(function(){\n",
       "                            \n",
       "var gd = document.getElementById('1aa41318-7577-4c8a-8295-a00f689af943');\n",
       "var x = new MutationObserver(function (mutations, observer) {{\n",
       "        var display = window.getComputedStyle(gd).display;\n",
       "        if (!display || display === 'none') {{\n",
       "            console.log([gd, 'removed!']);\n",
       "            Plotly.purge(gd);\n",
       "            observer.disconnect();\n",
       "        }}\n",
       "}});\n",
       "\n",
       "// Listen for the removal of the full notebook cells\n",
       "var notebookContainer = gd.closest('#notebook-container');\n",
       "if (notebookContainer) {{\n",
       "    x.observe(notebookContainer, {childList: true});\n",
       "}}\n",
       "\n",
       "// Listen for the clearing of the current output cell\n",
       "var outputEl = gd.closest('.output');\n",
       "if (outputEl) {{\n",
       "    x.observe(outputEl, {childList: true});\n",
       "}}\n",
       "\n",
       "                        })                };                });            </script>        </div>"
      ]
     },
     "metadata": {},
     "output_type": "display_data"
    }
   ],
   "source": [
    "fig=px.bar(data_frame=top_commodities,x='Commodity_Name',y='value',animation_frame='year',hover_name='Commodity',title=\"Interactive Bar Plot of Top 5 Import Commodities with year as slider\",color='Color')\n",
    "fig.show()"
   ]
  },
  {
   "cell_type": "markdown",
   "id": "monetary-lover",
   "metadata": {
    "papermill": {
     "duration": 0.032269,
     "end_time": "2021-08-02T08:02:18.260766",
     "exception": false,
     "start_time": "2021-08-02T08:02:18.228497",
     "status": "completed"
    },
    "tags": []
   },
   "source": [
    "**Exports structure of 27 - Mineral fuels, mineral oils and products of their distillation; bituminous substances; mineral waxes - to India in 2020**\n",
    "\n",
    "* 61% (64 billion US$): 2709 - Petroleum oils and oils obtained from bituminous minerals, crude.\n",
    "    \n",
    "* 15.2% (15.8 billion US$): 2701 - Coal; briquettes, ovoids and similar solid fuels manufactured from coal.\n",
    "    \n",
    "* 14.6% (15.2 billion US$): 2711 - Petroleum gases and other gaseous hydrocarbons.\n",
    "    \n",
    "* 5.63% (5.87 billion US$): 2710 - Petroleum oils and oils obtained from bituminous minerals, other than crude; preparations not elsewhere specified or included, containing by weight 70 % or more of petroleum oils or of oils obtained from bituminous minerals, these oils being the basic constituents of the preparations; waste oils.\n",
    "    \n",
    "* 1.58% (1.64 billion US$): 2713 - Petroleum coke, petroleum bitumen and other residues of petroleum oils or of oils obtained from bituminous minerals.\n",
    "    \n",
    "* 0.598% (625 million US$): 2704 - Coke and semi?coke of coal, of lignite or of peat, whether or not agglomerated; retort carbon.\n",
    "    \n",
    "* 0.366% (382 million US$): 2707 - Oils and other products of the distillation of high temperature coal tar; similar products in which the weight of the aromatic constituents exceeds that of the non-aromatic constituents.\n",
    "    \n",
    "* 0.097% (101 million US$): 2712 - Petroleum jelly; paraffin wax, micro-crystalline petroleum wax, slack wax, ozokerite, lignite wax, peat wax, other mineral waxes, and similar products obtained by synthesis or by other processes, whether or not coloured.\n",
    "    \n",
    "* 0.013% (14.1 million US$): 2708 - Pitch and pitch coke, obtained from coal tar or from other mineral tars.\n",
    "    \n",
    "* 0.002% (2.6 million US$): 2714 - Bitumen and asphalt, natural; bituminous or oil shale and tar sands; asphaltites and asphaltic rocks.*\n",
    "\n",
    "**Exports structure of 7116 - Articles of natural or cultured pearls, precious or semi-precious stones (natural, synthetic or reconstructed). - from India in 2020**\n",
    "\n",
    "* 99% (19.1 million US$): 711620 - Articles of precious/semi-precious stones (nat./synth./reconstructed)\n",
    "\n",
    "* 0.397% (76 thousand US$): 711610 - Articles of nat./cultured pearls\n",
    "\n",
    "**Exports structure of 84 - Nuclear reactors, boilers, machinery and mechanical appliances; parts thereof - from India in 2020**\n",
    "\n",
    "* 15.8% (2.85 billion US$): 8411 - Turbo-jets, turbo-propellers and other gas turbines.\n",
    "\n",
    "* 7.37% (1.32 billion US$): 8481 - Taps, cocks, valves and similar appliances for pipes, boiler shells, tanks, vats or the like, including pressure-reducing valves and thermostatically controlled valves.\n",
    "\n",
    "* 6.13% (1.1 billion US$): 8483 - Transmission shafts (including cam shafts and crank shafts) and cranks; bearing housings and plain shaft bearings; gears and gearing; ball or roller screws; gear boxes and other speed changers, including torque converters; flywheels and pulleys, including pulley blocks; clutches and shaft couplings (including universal joints).\n",
    "\n",
    "* 5.09% (916 million US$): 8409 - Parts suitable for use solely or principally with the engines of heading 84.07 or 84.08.\n",
    "\n",
    "* 4.57% (821 million US$): 8413 - Pumps for liquids, whether or not fitted with a measuring device; liquid elevators.\n",
    "\n",
    "* 4.55% (819 million US$): 8408 - Compression-ignition internal combustion piston engines (diesel or semi-diesel engines).\n",
    "\n",
    "* 4.47% (804 million US$): 8414 - Air or vacuum pumps, air or other gas compressors and fans; ventilating or recycling hoods incorporating a fan, whether or not fitted with filters.\n",
    "\n",
    "* 4.06% (730 million US$): 8479 - Machines and mechanical appliances having individual functions, not specified or included elsewhere in this Chapter.\n",
    "\n",
    "* 3.41% (614 million US$): 8421 - Centrifuges, including centrifugal dryers; filtering or purifying machinery and apparatus, for liquids or gases.\n",
    "\n",
    "* 3.27% (587 million US$): 8431 - Parts suitable for use solely or principally with the machinery of headings 84.25 to 84.30.\n",
    "\n",
    "\n",
    "**Exports structure of 8543 - Electrical machines and apparatus, having individual functions, not specified or included elsewhere in this Chapter. - from India in 2020**\n",
    "\n",
    "\n",
    "* 53% (86 million US$): 854389 - Other electrical machines & app., having individual functions, n.e.s. in Ch.85\n",
    "\n",
    "* 22% (36 million US$): 854390 - Parts of the mach. & app. of 85.43\n",
    "\n",
    "* 18.6% (30 million US$): 854381 - Proximity cards & tags\n",
    "\n",
    "* 3.65% (5.92 million US$): 854320 - Signal generators\n",
    "\n",
    "* 1.56% (2.53 million US$): 854330 - Machines & app. for electroplating/electrolysis/electrophoresis\n",
    "\n",
    "* 0.246% (400 thousand US$): 854319 - Particle accelerators other than ion implanters for doping semiconductor mats.\n",
    "\n",
    "\n",
    "\n",
    "\n",
    "\n"
   ]
  },
  {
   "cell_type": "code",
   "execution_count": 16,
   "id": "swedish-instrument",
   "metadata": {
    "execution": {
     "iopub.execute_input": "2021-08-02T08:02:18.328993Z",
     "iopub.status.busy": "2021-08-02T08:02:18.328009Z",
     "iopub.status.idle": "2021-08-02T08:02:18.389920Z",
     "shell.execute_reply": "2021-08-02T08:02:18.390412Z",
     "shell.execute_reply.started": "2021-06-27T06:16:03.922408Z"
    },
    "papermill": {
     "duration": 0.097679,
     "end_time": "2021-08-02T08:02:18.390598",
     "exception": false,
     "start_time": "2021-08-02T08:02:18.292919",
     "status": "completed"
    },
    "tags": []
   },
   "outputs": [],
   "source": [
    "top_commodities=export_data.groupby(['year','Commodity'],as_index=False).agg({'value':'sum'})\n",
    "top_2010=top_commodities[top_commodities.year==2010].sort_values('value',ascending=False).head(5)\n",
    "top_2011=top_commodities[top_commodities.year==2011].sort_values('value',ascending=False).head(5)\n",
    "top_2012=top_commodities[top_commodities.year==2012].sort_values('value',ascending=False).head(5)\n",
    "top_2013=top_commodities[top_commodities.year==2013].sort_values('value',ascending=False).head(5)\n",
    "top_2014=top_commodities[top_commodities.year==2014].sort_values('value',ascending=False).head(5)\n",
    "top_2015=top_commodities[top_commodities.year==2015].sort_values('value',ascending=False).head(5)\n",
    "top_2016=top_commodities[top_commodities.year==2016].sort_values('value',ascending=False).head(5)\n",
    "top_2017=top_commodities[top_commodities.year==2017].sort_values('value',ascending=False).head(5)\n",
    "top_2018=top_commodities[top_commodities.year==2018].sort_values('value',ascending=False).head(5)\n",
    "top_commodities=pd.concat([top_2010,top_2011,top_2012,top_2013,top_2014,top_2015,top_2016,top_2017,top_2018])\n",
    "d={'NATURAL OR CULTURED PEARLS,PRECIOUS OR SEMIPRECIOUS STONES,PRE.METALS,CLAD WITH PRE.METAL AND ARTCLS THEREOF;IMIT.JEWLRY;COIN.':'Jewelry','MINERAL FUELS, MINERAL OILS AND PRODUCTS OF THEIR DISTILLATION; BITUMINOUS SUBSTANCES; MINERAL WAXES.':'Mineral','MISCELLANEOUS GOODS.':'MISCELLANEOUS GOODS.','ELECTRICAL MACHINERY AND EQUIPMENT AND PARTS THEREOF; SOUND RECORDERS AND REPRODUCERS, TELEVISION IMAGE AND SOUND RECORDERS AND REPRODUCERS,AND PARTS.':'Electrical Machinery','VEHICLES OTHER THAN RAILWAY OR TRAMWAY ROLLING STOCK, AND PARTS AND ACCESSORIES THEREOF.':'Vehicle Parts','ORGANIC CHEMICALS':'Organic Chemicals','NUCLEAR REACTORS, BOILERS, MACHINERY AND MECHANICAL APPLIANCES; PARTS THEREOF.':'Nuclear Reactors','PHARMACEUTICAL PRODUCTS':'PHARMACEUTICAL PRODUCTS'}\n",
    "top_commodities['Commodity_Name']=top_commodities['Commodity'].map(d)\n",
    "colors={'Jewelry':'#FF800C','Mineral':'#4255FF','MISCELLANEOUS GOODS.':'#FFF312','Electrical Machinery':'#A2F312','Vehicle Parts':'#FF075B','Organic Chemicals':\"#6EC9CB\",'Nuclear Reactors':'#B95C46','PHARMACEUTICAL PRODUCTS':'#B9F846'}\n",
    "top_commodities['Color']=top_commodities['Commodity_Name'].map(colors)"
   ]
  },
  {
   "cell_type": "code",
   "execution_count": 17,
   "id": "formed-child",
   "metadata": {
    "execution": {
     "iopub.execute_input": "2021-08-02T08:02:18.459132Z",
     "iopub.status.busy": "2021-08-02T08:02:18.458162Z",
     "iopub.status.idle": "2021-08-02T08:02:18.710056Z",
     "shell.execute_reply": "2021-08-02T08:02:18.710642Z",
     "shell.execute_reply.started": "2021-06-27T06:16:03.986616Z"
    },
    "papermill": {
     "duration": 0.287927,
     "end_time": "2021-08-02T08:02:18.710836",
     "exception": false,
     "start_time": "2021-08-02T08:02:18.422909",
     "status": "completed"
    },
    "tags": []
   },
   "outputs": [
    {
     "data": {
      "text/html": [
       "<div>                            <div id=\"55b6afc4-ccad-412a-8be1-8ac0068b2c51\" class=\"plotly-graph-div\" style=\"height:525px; width:100%;\"></div>            <script type=\"text/javascript\">                require([\"plotly\"], function(Plotly) {                    window.PLOTLYENV=window.PLOTLYENV || {};                                    if (document.getElementById(\"55b6afc4-ccad-412a-8be1-8ac0068b2c51\")) {                    Plotly.newPlot(                        \"55b6afc4-ccad-412a-8be1-8ac0068b2c51\",                        [{\"alignmentgroup\": \"True\", \"hovertemplate\": \"<b>%{hovertext}</b><br><br>Color=#FF800C<br>year=2010<br>Commodity_Name=%{x}<br>value=%{y}<extra></extra>\", \"hovertext\": [\"NATURAL OR CULTURED PEARLS,PRECIOUS OR SEMIPRECIOUS STONES,PRE.METALS,CLAD WITH PRE.METAL AND ARTCLS THEREOF;IMIT.JEWLRY;COIN.\"], \"legendgroup\": \"#FF800C\", \"marker\": {\"color\": \"#636efa\"}, \"name\": \"#FF800C\", \"offsetgroup\": \"#FF800C\", \"orientation\": \"v\", \"showlegend\": true, \"textposition\": \"auto\", \"type\": \"bar\", \"x\": [\"Jewelry\"], \"xaxis\": \"x\", \"y\": [43684.890000000014], \"yaxis\": \"y\"}, {\"alignmentgroup\": \"True\", \"hovertemplate\": \"<b>%{hovertext}</b><br><br>Color=#4255FF<br>year=2010<br>Commodity_Name=%{x}<br>value=%{y}<extra></extra>\", \"hovertext\": [\"MINERAL FUELS, MINERAL OILS AND PRODUCTS OF THEIR DISTILLATION; BITUMINOUS SUBSTANCES; MINERAL WAXES.\"], \"legendgroup\": \"#4255FF\", \"marker\": {\"color\": \"#EF553B\"}, \"name\": \"#4255FF\", \"offsetgroup\": \"#4255FF\", \"orientation\": \"v\", \"showlegend\": true, \"textposition\": \"auto\", \"type\": \"bar\", \"x\": [\"Mineral\"], \"xaxis\": \"x\", \"y\": [42735.85999999998], \"yaxis\": \"y\"}, {\"alignmentgroup\": \"True\", \"hovertemplate\": \"<b>%{hovertext}</b><br><br>Color=#FFF312<br>year=2010<br>Commodity_Name=%{x}<br>value=%{y}<extra></extra>\", \"hovertext\": [\"MISCELLANEOUS GOODS.\"], \"legendgroup\": \"#FFF312\", \"marker\": {\"color\": \"#00cc96\"}, \"name\": \"#FFF312\", \"offsetgroup\": \"#FFF312\", \"orientation\": \"v\", \"showlegend\": true, \"textposition\": \"auto\", \"type\": \"bar\", \"x\": [\"MISCELLANEOUS GOODS.\"], \"xaxis\": \"x\", \"y\": [11823.749999999998], \"yaxis\": \"y\"}, {\"alignmentgroup\": \"True\", \"hovertemplate\": \"<b>%{hovertext}</b><br><br>Color=#A2F312<br>year=2010<br>Commodity_Name=%{x}<br>value=%{y}<extra></extra>\", \"hovertext\": [\"ELECTRICAL MACHINERY AND EQUIPMENT AND PARTS THEREOF; SOUND RECORDERS AND REPRODUCERS, TELEVISION IMAGE AND SOUND RECORDERS AND REPRODUCERS,AND PARTS.\"], \"legendgroup\": \"#A2F312\", \"marker\": {\"color\": \"#ab63fa\"}, \"name\": \"#A2F312\", \"offsetgroup\": \"#A2F312\", \"orientation\": \"v\", \"showlegend\": true, \"textposition\": \"auto\", \"type\": \"bar\", \"x\": [\"Electrical Machinery\"], \"xaxis\": \"x\", \"y\": [10143.95], \"yaxis\": \"y\"}, {\"alignmentgroup\": \"True\", \"hovertemplate\": \"<b>%{hovertext}</b><br><br>Color=#FF075B<br>year=2010<br>Commodity_Name=%{x}<br>value=%{y}<extra></extra>\", \"hovertext\": [\"VEHICLES OTHER THAN RAILWAY OR TRAMWAY ROLLING STOCK, AND PARTS AND ACCESSORIES THEREOF.\"], \"legendgroup\": \"#FF075B\", \"marker\": {\"color\": \"#FFA15A\"}, \"name\": \"#FF075B\", \"offsetgroup\": \"#FF075B\", \"orientation\": \"v\", \"showlegend\": true, \"textposition\": \"auto\", \"type\": \"bar\", \"x\": [\"Vehicle Parts\"], \"xaxis\": \"x\", \"y\": [9315.600000000004], \"yaxis\": \"y\"}],                        {\"barmode\": \"relative\", \"legend\": {\"title\": {\"text\": \"Color\"}, \"tracegroupgap\": 0}, \"sliders\": [{\"active\": 0, \"currentvalue\": {\"prefix\": \"year=\"}, \"len\": 0.9, \"pad\": {\"b\": 10, \"t\": 60}, \"steps\": [{\"args\": [[\"2010\"], {\"frame\": {\"duration\": 0, \"redraw\": true}, \"fromcurrent\": true, \"mode\": \"immediate\", \"transition\": {\"duration\": 0, \"easing\": \"linear\"}}], \"label\": \"2010\", \"method\": \"animate\"}, {\"args\": [[\"2011\"], {\"frame\": {\"duration\": 0, \"redraw\": true}, \"fromcurrent\": true, \"mode\": \"immediate\", \"transition\": {\"duration\": 0, \"easing\": \"linear\"}}], \"label\": \"2011\", \"method\": \"animate\"}, {\"args\": [[\"2012\"], {\"frame\": {\"duration\": 0, \"redraw\": true}, \"fromcurrent\": true, \"mode\": \"immediate\", \"transition\": {\"duration\": 0, \"easing\": \"linear\"}}], \"label\": \"2012\", \"method\": \"animate\"}, {\"args\": [[\"2013\"], {\"frame\": {\"duration\": 0, \"redraw\": true}, \"fromcurrent\": true, \"mode\": \"immediate\", \"transition\": {\"duration\": 0, \"easing\": \"linear\"}}], \"label\": \"2013\", \"method\": \"animate\"}, {\"args\": [[\"2014\"], {\"frame\": {\"duration\": 0, \"redraw\": true}, \"fromcurrent\": true, \"mode\": \"immediate\", \"transition\": {\"duration\": 0, \"easing\": \"linear\"}}], \"label\": \"2014\", \"method\": \"animate\"}, {\"args\": [[\"2015\"], {\"frame\": {\"duration\": 0, \"redraw\": true}, \"fromcurrent\": true, \"mode\": \"immediate\", \"transition\": {\"duration\": 0, \"easing\": \"linear\"}}], \"label\": \"2015\", \"method\": \"animate\"}, {\"args\": [[\"2016\"], {\"frame\": {\"duration\": 0, \"redraw\": true}, \"fromcurrent\": true, \"mode\": \"immediate\", \"transition\": {\"duration\": 0, \"easing\": \"linear\"}}], \"label\": \"2016\", \"method\": \"animate\"}, {\"args\": [[\"2017\"], {\"frame\": {\"duration\": 0, \"redraw\": true}, \"fromcurrent\": true, \"mode\": \"immediate\", \"transition\": {\"duration\": 0, \"easing\": \"linear\"}}], \"label\": \"2017\", \"method\": \"animate\"}, {\"args\": [[\"2018\"], {\"frame\": {\"duration\": 0, \"redraw\": true}, \"fromcurrent\": true, \"mode\": \"immediate\", \"transition\": {\"duration\": 0, \"easing\": \"linear\"}}], \"label\": \"2018\", \"method\": \"animate\"}], \"x\": 0.1, \"xanchor\": \"left\", \"y\": 0, \"yanchor\": \"top\"}], \"template\": {\"data\": {\"bar\": [{\"error_x\": {\"color\": \"#2a3f5f\"}, \"error_y\": {\"color\": \"#2a3f5f\"}, \"marker\": {\"line\": {\"color\": \"#E5ECF6\", \"width\": 0.5}}, \"type\": \"bar\"}], \"barpolar\": [{\"marker\": {\"line\": {\"color\": \"#E5ECF6\", \"width\": 0.5}}, \"type\": \"barpolar\"}], \"carpet\": [{\"aaxis\": {\"endlinecolor\": \"#2a3f5f\", \"gridcolor\": \"white\", \"linecolor\": \"white\", \"minorgridcolor\": \"white\", \"startlinecolor\": \"#2a3f5f\"}, \"baxis\": {\"endlinecolor\": \"#2a3f5f\", \"gridcolor\": \"white\", \"linecolor\": \"white\", \"minorgridcolor\": \"white\", \"startlinecolor\": \"#2a3f5f\"}, \"type\": \"carpet\"}], \"choropleth\": [{\"colorbar\": {\"outlinewidth\": 0, \"ticks\": \"\"}, \"type\": \"choropleth\"}], \"contour\": [{\"colorbar\": {\"outlinewidth\": 0, \"ticks\": \"\"}, \"colorscale\": [[0.0, \"#0d0887\"], [0.1111111111111111, \"#46039f\"], [0.2222222222222222, \"#7201a8\"], [0.3333333333333333, \"#9c179e\"], [0.4444444444444444, \"#bd3786\"], [0.5555555555555556, \"#d8576b\"], [0.6666666666666666, \"#ed7953\"], [0.7777777777777778, \"#fb9f3a\"], [0.8888888888888888, \"#fdca26\"], [1.0, \"#f0f921\"]], \"type\": \"contour\"}], \"contourcarpet\": [{\"colorbar\": {\"outlinewidth\": 0, \"ticks\": \"\"}, \"type\": \"contourcarpet\"}], \"heatmap\": [{\"colorbar\": {\"outlinewidth\": 0, \"ticks\": \"\"}, \"colorscale\": [[0.0, \"#0d0887\"], [0.1111111111111111, \"#46039f\"], [0.2222222222222222, \"#7201a8\"], [0.3333333333333333, \"#9c179e\"], [0.4444444444444444, \"#bd3786\"], [0.5555555555555556, \"#d8576b\"], [0.6666666666666666, \"#ed7953\"], [0.7777777777777778, \"#fb9f3a\"], [0.8888888888888888, \"#fdca26\"], [1.0, \"#f0f921\"]], \"type\": \"heatmap\"}], \"heatmapgl\": [{\"colorbar\": {\"outlinewidth\": 0, \"ticks\": \"\"}, \"colorscale\": [[0.0, \"#0d0887\"], [0.1111111111111111, \"#46039f\"], [0.2222222222222222, \"#7201a8\"], [0.3333333333333333, \"#9c179e\"], [0.4444444444444444, \"#bd3786\"], [0.5555555555555556, \"#d8576b\"], [0.6666666666666666, \"#ed7953\"], [0.7777777777777778, \"#fb9f3a\"], [0.8888888888888888, \"#fdca26\"], [1.0, \"#f0f921\"]], \"type\": \"heatmapgl\"}], \"histogram\": [{\"marker\": {\"colorbar\": {\"outlinewidth\": 0, \"ticks\": \"\"}}, \"type\": \"histogram\"}], \"histogram2d\": [{\"colorbar\": {\"outlinewidth\": 0, \"ticks\": \"\"}, \"colorscale\": [[0.0, \"#0d0887\"], [0.1111111111111111, \"#46039f\"], [0.2222222222222222, \"#7201a8\"], [0.3333333333333333, \"#9c179e\"], [0.4444444444444444, \"#bd3786\"], [0.5555555555555556, \"#d8576b\"], [0.6666666666666666, \"#ed7953\"], [0.7777777777777778, \"#fb9f3a\"], [0.8888888888888888, \"#fdca26\"], [1.0, \"#f0f921\"]], \"type\": \"histogram2d\"}], \"histogram2dcontour\": [{\"colorbar\": {\"outlinewidth\": 0, \"ticks\": \"\"}, \"colorscale\": [[0.0, \"#0d0887\"], [0.1111111111111111, \"#46039f\"], [0.2222222222222222, \"#7201a8\"], [0.3333333333333333, \"#9c179e\"], [0.4444444444444444, \"#bd3786\"], [0.5555555555555556, \"#d8576b\"], [0.6666666666666666, \"#ed7953\"], [0.7777777777777778, \"#fb9f3a\"], [0.8888888888888888, \"#fdca26\"], [1.0, \"#f0f921\"]], \"type\": \"histogram2dcontour\"}], \"mesh3d\": [{\"colorbar\": {\"outlinewidth\": 0, \"ticks\": \"\"}, \"type\": \"mesh3d\"}], \"parcoords\": [{\"line\": {\"colorbar\": {\"outlinewidth\": 0, \"ticks\": \"\"}}, \"type\": \"parcoords\"}], \"pie\": [{\"automargin\": true, \"type\": \"pie\"}], \"scatter\": [{\"marker\": {\"colorbar\": {\"outlinewidth\": 0, \"ticks\": \"\"}}, \"type\": \"scatter\"}], \"scatter3d\": [{\"line\": {\"colorbar\": {\"outlinewidth\": 0, \"ticks\": \"\"}}, \"marker\": {\"colorbar\": {\"outlinewidth\": 0, \"ticks\": \"\"}}, \"type\": \"scatter3d\"}], \"scattercarpet\": [{\"marker\": {\"colorbar\": {\"outlinewidth\": 0, \"ticks\": \"\"}}, \"type\": \"scattercarpet\"}], \"scattergeo\": [{\"marker\": {\"colorbar\": {\"outlinewidth\": 0, \"ticks\": \"\"}}, \"type\": \"scattergeo\"}], \"scattergl\": [{\"marker\": {\"colorbar\": {\"outlinewidth\": 0, \"ticks\": \"\"}}, \"type\": \"scattergl\"}], \"scattermapbox\": [{\"marker\": {\"colorbar\": {\"outlinewidth\": 0, \"ticks\": \"\"}}, \"type\": \"scattermapbox\"}], \"scatterpolar\": [{\"marker\": {\"colorbar\": {\"outlinewidth\": 0, \"ticks\": \"\"}}, \"type\": \"scatterpolar\"}], \"scatterpolargl\": [{\"marker\": {\"colorbar\": {\"outlinewidth\": 0, \"ticks\": \"\"}}, \"type\": \"scatterpolargl\"}], \"scatterternary\": [{\"marker\": {\"colorbar\": {\"outlinewidth\": 0, \"ticks\": \"\"}}, \"type\": \"scatterternary\"}], \"surface\": [{\"colorbar\": {\"outlinewidth\": 0, \"ticks\": \"\"}, \"colorscale\": [[0.0, \"#0d0887\"], [0.1111111111111111, \"#46039f\"], [0.2222222222222222, \"#7201a8\"], [0.3333333333333333, \"#9c179e\"], [0.4444444444444444, \"#bd3786\"], [0.5555555555555556, \"#d8576b\"], [0.6666666666666666, \"#ed7953\"], [0.7777777777777778, \"#fb9f3a\"], [0.8888888888888888, \"#fdca26\"], [1.0, \"#f0f921\"]], \"type\": \"surface\"}], \"table\": [{\"cells\": {\"fill\": {\"color\": \"#EBF0F8\"}, \"line\": {\"color\": \"white\"}}, \"header\": {\"fill\": {\"color\": \"#C8D4E3\"}, \"line\": {\"color\": \"white\"}}, \"type\": \"table\"}]}, \"layout\": {\"annotationdefaults\": {\"arrowcolor\": \"#2a3f5f\", \"arrowhead\": 0, \"arrowwidth\": 1}, \"autotypenumbers\": \"strict\", \"coloraxis\": {\"colorbar\": {\"outlinewidth\": 0, \"ticks\": \"\"}}, \"colorscale\": {\"diverging\": [[0, \"#8e0152\"], [0.1, \"#c51b7d\"], [0.2, \"#de77ae\"], [0.3, \"#f1b6da\"], [0.4, \"#fde0ef\"], [0.5, \"#f7f7f7\"], [0.6, \"#e6f5d0\"], [0.7, \"#b8e186\"], [0.8, \"#7fbc41\"], [0.9, \"#4d9221\"], [1, \"#276419\"]], \"sequential\": [[0.0, \"#0d0887\"], [0.1111111111111111, \"#46039f\"], [0.2222222222222222, \"#7201a8\"], [0.3333333333333333, \"#9c179e\"], [0.4444444444444444, \"#bd3786\"], [0.5555555555555556, \"#d8576b\"], [0.6666666666666666, \"#ed7953\"], [0.7777777777777778, \"#fb9f3a\"], [0.8888888888888888, \"#fdca26\"], [1.0, \"#f0f921\"]], \"sequentialminus\": [[0.0, \"#0d0887\"], [0.1111111111111111, \"#46039f\"], [0.2222222222222222, \"#7201a8\"], [0.3333333333333333, \"#9c179e\"], [0.4444444444444444, \"#bd3786\"], [0.5555555555555556, \"#d8576b\"], [0.6666666666666666, \"#ed7953\"], [0.7777777777777778, \"#fb9f3a\"], [0.8888888888888888, \"#fdca26\"], [1.0, \"#f0f921\"]]}, \"colorway\": [\"#636efa\", \"#EF553B\", \"#00cc96\", \"#ab63fa\", \"#FFA15A\", \"#19d3f3\", \"#FF6692\", \"#B6E880\", \"#FF97FF\", \"#FECB52\"], \"font\": {\"color\": \"#2a3f5f\"}, \"geo\": {\"bgcolor\": \"white\", \"lakecolor\": \"white\", \"landcolor\": \"#E5ECF6\", \"showlakes\": true, \"showland\": true, \"subunitcolor\": \"white\"}, \"hoverlabel\": {\"align\": \"left\"}, \"hovermode\": \"closest\", \"mapbox\": {\"style\": \"light\"}, \"paper_bgcolor\": \"white\", \"plot_bgcolor\": \"#E5ECF6\", \"polar\": {\"angularaxis\": {\"gridcolor\": \"white\", \"linecolor\": \"white\", \"ticks\": \"\"}, \"bgcolor\": \"#E5ECF6\", \"radialaxis\": {\"gridcolor\": \"white\", \"linecolor\": \"white\", \"ticks\": \"\"}}, \"scene\": {\"xaxis\": {\"backgroundcolor\": \"#E5ECF6\", \"gridcolor\": \"white\", \"gridwidth\": 2, \"linecolor\": \"white\", \"showbackground\": true, \"ticks\": \"\", \"zerolinecolor\": \"white\"}, \"yaxis\": {\"backgroundcolor\": \"#E5ECF6\", \"gridcolor\": \"white\", \"gridwidth\": 2, \"linecolor\": \"white\", \"showbackground\": true, \"ticks\": \"\", \"zerolinecolor\": \"white\"}, \"zaxis\": {\"backgroundcolor\": \"#E5ECF6\", \"gridcolor\": \"white\", \"gridwidth\": 2, \"linecolor\": \"white\", \"showbackground\": true, \"ticks\": \"\", \"zerolinecolor\": \"white\"}}, \"shapedefaults\": {\"line\": {\"color\": \"#2a3f5f\"}}, \"ternary\": {\"aaxis\": {\"gridcolor\": \"white\", \"linecolor\": \"white\", \"ticks\": \"\"}, \"baxis\": {\"gridcolor\": \"white\", \"linecolor\": \"white\", \"ticks\": \"\"}, \"bgcolor\": \"#E5ECF6\", \"caxis\": {\"gridcolor\": \"white\", \"linecolor\": \"white\", \"ticks\": \"\"}}, \"title\": {\"x\": 0.05}, \"xaxis\": {\"automargin\": true, \"gridcolor\": \"white\", \"linecolor\": \"white\", \"ticks\": \"\", \"title\": {\"standoff\": 15}, \"zerolinecolor\": \"white\", \"zerolinewidth\": 2}, \"yaxis\": {\"automargin\": true, \"gridcolor\": \"white\", \"linecolor\": \"white\", \"ticks\": \"\", \"title\": {\"standoff\": 15}, \"zerolinecolor\": \"white\", \"zerolinewidth\": 2}}}, \"title\": {\"text\": \"Interactive Bar Plot of Top 5 Export Commodities with year as slider\"}, \"updatemenus\": [{\"buttons\": [{\"args\": [null, {\"frame\": {\"duration\": 500, \"redraw\": true}, \"fromcurrent\": true, \"mode\": \"immediate\", \"transition\": {\"duration\": 500, \"easing\": \"linear\"}}], \"label\": \"&#9654;\", \"method\": \"animate\"}, {\"args\": [[null], {\"frame\": {\"duration\": 0, \"redraw\": true}, \"fromcurrent\": true, \"mode\": \"immediate\", \"transition\": {\"duration\": 0, \"easing\": \"linear\"}}], \"label\": \"&#9724;\", \"method\": \"animate\"}], \"direction\": \"left\", \"pad\": {\"r\": 10, \"t\": 70}, \"showactive\": false, \"type\": \"buttons\", \"x\": 0.1, \"xanchor\": \"right\", \"y\": 0, \"yanchor\": \"top\"}], \"xaxis\": {\"anchor\": \"y\", \"domain\": [0.0, 1.0], \"title\": {\"text\": \"Commodity_Name\"}}, \"yaxis\": {\"anchor\": \"x\", \"domain\": [0.0, 1.0], \"title\": {\"text\": \"value\"}}},                        {\"responsive\": true}                    ).then(function(){\n",
       "                            Plotly.addFrames('55b6afc4-ccad-412a-8be1-8ac0068b2c51', [{\"data\": [{\"alignmentgroup\": \"True\", \"hovertemplate\": \"<b>%{hovertext}</b><br><br>Color=#FF800C<br>year=2010<br>Commodity_Name=%{x}<br>value=%{y}<extra></extra>\", \"hovertext\": [\"NATURAL OR CULTURED PEARLS,PRECIOUS OR SEMIPRECIOUS STONES,PRE.METALS,CLAD WITH PRE.METAL AND ARTCLS THEREOF;IMIT.JEWLRY;COIN.\"], \"legendgroup\": \"#FF800C\", \"marker\": {\"color\": \"#636efa\"}, \"name\": \"#FF800C\", \"offsetgroup\": \"#FF800C\", \"orientation\": \"v\", \"showlegend\": true, \"textposition\": \"auto\", \"x\": [\"Jewelry\"], \"xaxis\": \"x\", \"y\": [43684.890000000014], \"yaxis\": \"y\", \"type\": \"bar\"}, {\"alignmentgroup\": \"True\", \"hovertemplate\": \"<b>%{hovertext}</b><br><br>Color=#4255FF<br>year=2010<br>Commodity_Name=%{x}<br>value=%{y}<extra></extra>\", \"hovertext\": [\"MINERAL FUELS, MINERAL OILS AND PRODUCTS OF THEIR DISTILLATION; BITUMINOUS SUBSTANCES; MINERAL WAXES.\"], \"legendgroup\": \"#4255FF\", \"marker\": {\"color\": \"#EF553B\"}, \"name\": \"#4255FF\", \"offsetgroup\": \"#4255FF\", \"orientation\": \"v\", \"showlegend\": true, \"textposition\": \"auto\", \"x\": [\"Mineral\"], \"xaxis\": \"x\", \"y\": [42735.85999999998], \"yaxis\": \"y\", \"type\": \"bar\"}, {\"alignmentgroup\": \"True\", \"hovertemplate\": \"<b>%{hovertext}</b><br><br>Color=#FFF312<br>year=2010<br>Commodity_Name=%{x}<br>value=%{y}<extra></extra>\", \"hovertext\": [\"MISCELLANEOUS GOODS.\"], \"legendgroup\": \"#FFF312\", \"marker\": {\"color\": \"#00cc96\"}, \"name\": \"#FFF312\", \"offsetgroup\": \"#FFF312\", \"orientation\": \"v\", \"showlegend\": true, \"textposition\": \"auto\", \"x\": [\"MISCELLANEOUS GOODS.\"], \"xaxis\": \"x\", \"y\": [11823.749999999998], \"yaxis\": \"y\", \"type\": \"bar\"}, {\"alignmentgroup\": \"True\", \"hovertemplate\": \"<b>%{hovertext}</b><br><br>Color=#A2F312<br>year=2010<br>Commodity_Name=%{x}<br>value=%{y}<extra></extra>\", \"hovertext\": [\"ELECTRICAL MACHINERY AND EQUIPMENT AND PARTS THEREOF; SOUND RECORDERS AND REPRODUCERS, TELEVISION IMAGE AND SOUND RECORDERS AND REPRODUCERS,AND PARTS.\"], \"legendgroup\": \"#A2F312\", \"marker\": {\"color\": \"#ab63fa\"}, \"name\": \"#A2F312\", \"offsetgroup\": \"#A2F312\", \"orientation\": \"v\", \"showlegend\": true, \"textposition\": \"auto\", \"x\": [\"Electrical Machinery\"], \"xaxis\": \"x\", \"y\": [10143.95], \"yaxis\": \"y\", \"type\": \"bar\"}, {\"alignmentgroup\": \"True\", \"hovertemplate\": \"<b>%{hovertext}</b><br><br>Color=#FF075B<br>year=2010<br>Commodity_Name=%{x}<br>value=%{y}<extra></extra>\", \"hovertext\": [\"VEHICLES OTHER THAN RAILWAY OR TRAMWAY ROLLING STOCK, AND PARTS AND ACCESSORIES THEREOF.\"], \"legendgroup\": \"#FF075B\", \"marker\": {\"color\": \"#FFA15A\"}, \"name\": \"#FF075B\", \"offsetgroup\": \"#FF075B\", \"orientation\": \"v\", \"showlegend\": true, \"textposition\": \"auto\", \"x\": [\"Vehicle Parts\"], \"xaxis\": \"x\", \"y\": [9315.600000000004], \"yaxis\": \"y\", \"type\": \"bar\"}], \"name\": \"2010\"}, {\"data\": [{\"alignmentgroup\": \"True\", \"hovertemplate\": \"<b>%{hovertext}</b><br><br>Color=#FF800C<br>year=2011<br>Commodity_Name=%{x}<br>value=%{y}<extra></extra>\", \"hovertext\": [\"NATURAL OR CULTURED PEARLS,PRECIOUS OR SEMIPRECIOUS STONES,PRE.METALS,CLAD WITH PRE.METAL AND ARTCLS THEREOF;IMIT.JEWLRY;COIN.\"], \"legendgroup\": \"#FF800C\", \"marker\": {\"color\": \"#636efa\"}, \"name\": \"#FF800C\", \"offsetgroup\": \"#FF800C\", \"orientation\": \"v\", \"showlegend\": true, \"textposition\": \"auto\", \"x\": [\"Jewelry\"], \"xaxis\": \"x\", \"y\": [47277.75999999998], \"yaxis\": \"y\", \"type\": \"bar\"}, {\"alignmentgroup\": \"True\", \"hovertemplate\": \"<b>%{hovertext}</b><br><br>Color=#4255FF<br>year=2011<br>Commodity_Name=%{x}<br>value=%{y}<extra></extra>\", \"hovertext\": [\"MINERAL FUELS, MINERAL OILS AND PRODUCTS OF THEIR DISTILLATION; BITUMINOUS SUBSTANCES; MINERAL WAXES.\"], \"legendgroup\": \"#4255FF\", \"marker\": {\"color\": \"#EF553B\"}, \"name\": \"#4255FF\", \"offsetgroup\": \"#4255FF\", \"orientation\": \"v\", \"showlegend\": true, \"textposition\": \"auto\", \"x\": [\"Mineral\"], \"xaxis\": \"x\", \"y\": [57391.79999999998], \"yaxis\": \"y\", \"type\": \"bar\"}, {\"alignmentgroup\": \"True\", \"hovertemplate\": \"<b>%{hovertext}</b><br><br>Color=#FFF312<br>year=2011<br>Commodity_Name=%{x}<br>value=%{y}<extra></extra>\", \"hovertext\": [\"MISCELLANEOUS GOODS.\"], \"legendgroup\": \"#FFF312\", \"marker\": {\"color\": \"#00cc96\"}, \"name\": \"#FFF312\", \"offsetgroup\": \"#FFF312\", \"orientation\": \"v\", \"showlegend\": true, \"textposition\": \"auto\", \"x\": [\"MISCELLANEOUS GOODS.\"], \"xaxis\": \"x\", \"y\": [11818.970000000001], \"yaxis\": \"y\", \"type\": \"bar\"}, {\"alignmentgroup\": \"True\", \"hovertemplate\": \"<b>%{hovertext}</b><br><br>Color=#A2F312<br>year=2011<br>Commodity_Name=%{x}<br>value=%{y}<extra></extra>\", \"hovertext\": [\"ELECTRICAL MACHINERY AND EQUIPMENT AND PARTS THEREOF; SOUND RECORDERS AND REPRODUCERS, TELEVISION IMAGE AND SOUND RECORDERS AND REPRODUCERS,AND PARTS.\"], \"legendgroup\": \"#A2F312\", \"marker\": {\"color\": \"#ab63fa\"}, \"name\": \"#A2F312\", \"offsetgroup\": \"#A2F312\", \"orientation\": \"v\", \"showlegend\": true, \"textposition\": \"auto\", \"x\": [\"Electrical Machinery\"], \"xaxis\": \"x\", \"y\": [11527.130000000008], \"yaxis\": \"y\", \"type\": \"bar\"}, {\"alignmentgroup\": \"True\", \"hovertemplate\": \"<b>%{hovertext}</b><br><br>Color=#6EC9CB<br>year=2011<br>Commodity_Name=%{x}<br>value=%{y}<extra></extra>\", \"hovertext\": [\"ORGANIC CHEMICALS\"], \"legendgroup\": \"#6EC9CB\", \"marker\": {\"color\": \"#19d3f3\"}, \"name\": \"#6EC9CB\", \"offsetgroup\": \"#6EC9CB\", \"orientation\": \"v\", \"showlegend\": true, \"textposition\": \"auto\", \"x\": [\"Organic Chemicals\"], \"xaxis\": \"x\", \"y\": [11692.640000000003], \"yaxis\": \"y\", \"type\": \"bar\"}], \"name\": \"2011\"}, {\"data\": [{\"alignmentgroup\": \"True\", \"hovertemplate\": \"<b>%{hovertext}</b><br><br>Color=#FF800C<br>year=2012<br>Commodity_Name=%{x}<br>value=%{y}<extra></extra>\", \"hovertext\": [\"NATURAL OR CULTURED PEARLS,PRECIOUS OR SEMIPRECIOUS STONES,PRE.METALS,CLAD WITH PRE.METAL AND ARTCLS THEREOF;IMIT.JEWLRY;COIN.\"], \"legendgroup\": \"#FF800C\", \"marker\": {\"color\": \"#636efa\"}, \"name\": \"#FF800C\", \"offsetgroup\": \"#FF800C\", \"orientation\": \"v\", \"showlegend\": true, \"textposition\": \"auto\", \"x\": [\"Jewelry\"], \"xaxis\": \"x\", \"y\": [43768.29000000001], \"yaxis\": \"y\", \"type\": \"bar\"}, {\"alignmentgroup\": \"True\", \"hovertemplate\": \"<b>%{hovertext}</b><br><br>Color=#4255FF<br>year=2012<br>Commodity_Name=%{x}<br>value=%{y}<extra></extra>\", \"hovertext\": [\"MINERAL FUELS, MINERAL OILS AND PRODUCTS OF THEIR DISTILLATION; BITUMINOUS SUBSTANCES; MINERAL WAXES.\"], \"legendgroup\": \"#4255FF\", \"marker\": {\"color\": \"#EF553B\"}, \"name\": \"#4255FF\", \"offsetgroup\": \"#4255FF\", \"orientation\": \"v\", \"showlegend\": true, \"textposition\": \"auto\", \"x\": [\"Mineral\"], \"xaxis\": \"x\", \"y\": [62105.380000000005], \"yaxis\": \"y\", \"type\": \"bar\"}, {\"alignmentgroup\": \"True\", \"hovertemplate\": \"<b>%{hovertext}</b><br><br>Color=#FF075B<br>year=2012<br>Commodity_Name=%{x}<br>value=%{y}<extra></extra>\", \"hovertext\": [\"VEHICLES OTHER THAN RAILWAY OR TRAMWAY ROLLING STOCK, AND PARTS AND ACCESSORIES THEREOF.\"], \"legendgroup\": \"#FF075B\", \"marker\": {\"color\": \"#FFA15A\"}, \"name\": \"#FF075B\", \"offsetgroup\": \"#FF075B\", \"orientation\": \"v\", \"showlegend\": true, \"textposition\": \"auto\", \"x\": [\"Vehicle Parts\"], \"xaxis\": \"x\", \"y\": [12193.080000000005], \"yaxis\": \"y\", \"type\": \"bar\"}, {\"alignmentgroup\": \"True\", \"hovertemplate\": \"<b>%{hovertext}</b><br><br>Color=#6EC9CB<br>year=2012<br>Commodity_Name=%{x}<br>value=%{y}<extra></extra>\", \"hovertext\": [\"ORGANIC CHEMICALS\"], \"legendgroup\": \"#6EC9CB\", \"marker\": {\"color\": \"#19d3f3\"}, \"name\": \"#6EC9CB\", \"offsetgroup\": \"#6EC9CB\", \"orientation\": \"v\", \"showlegend\": true, \"textposition\": \"auto\", \"x\": [\"Organic Chemicals\"], \"xaxis\": \"x\", \"y\": [12106.480000000001], \"yaxis\": \"y\", \"type\": \"bar\"}, {\"alignmentgroup\": \"True\", \"hovertemplate\": \"<b>%{hovertext}</b><br><br>Color=#B95C46<br>year=2012<br>Commodity_Name=%{x}<br>value=%{y}<extra></extra>\", \"hovertext\": [\"NUCLEAR REACTORS, BOILERS, MACHINERY AND MECHANICAL APPLIANCES; PARTS THEREOF.\"], \"legendgroup\": \"#B95C46\", \"marker\": {\"color\": \"#FF6692\"}, \"name\": \"#B95C46\", \"offsetgroup\": \"#B95C46\", \"orientation\": \"v\", \"showlegend\": true, \"textposition\": \"auto\", \"x\": [\"Nuclear Reactors\"], \"xaxis\": \"x\", \"y\": [11547.87], \"yaxis\": \"y\", \"type\": \"bar\"}], \"name\": \"2012\"}, {\"data\": [{\"alignmentgroup\": \"True\", \"hovertemplate\": \"<b>%{hovertext}</b><br><br>Color=#FF800C<br>year=2013<br>Commodity_Name=%{x}<br>value=%{y}<extra></extra>\", \"hovertext\": [\"NATURAL OR CULTURED PEARLS,PRECIOUS OR SEMIPRECIOUS STONES,PRE.METALS,CLAD WITH PRE.METAL AND ARTCLS THEREOF;IMIT.JEWLRY;COIN.\"], \"legendgroup\": \"#FF800C\", \"marker\": {\"color\": \"#636efa\"}, \"name\": \"#FF800C\", \"offsetgroup\": \"#FF800C\", \"orientation\": \"v\", \"showlegend\": true, \"textposition\": \"auto\", \"x\": [\"Jewelry\"], \"xaxis\": \"x\", \"y\": [41692.099999999984], \"yaxis\": \"y\", \"type\": \"bar\"}, {\"alignmentgroup\": \"True\", \"hovertemplate\": \"<b>%{hovertext}</b><br><br>Color=#4255FF<br>year=2013<br>Commodity_Name=%{x}<br>value=%{y}<extra></extra>\", \"hovertext\": [\"MINERAL FUELS, MINERAL OILS AND PRODUCTS OF THEIR DISTILLATION; BITUMINOUS SUBSTANCES; MINERAL WAXES.\"], \"legendgroup\": \"#4255FF\", \"marker\": {\"color\": \"#EF553B\"}, \"name\": \"#4255FF\", \"offsetgroup\": \"#4255FF\", \"orientation\": \"v\", \"showlegend\": true, \"textposition\": \"auto\", \"x\": [\"Mineral\"], \"xaxis\": \"x\", \"y\": [64685.280000000006], \"yaxis\": \"y\", \"type\": \"bar\"}, {\"alignmentgroup\": \"True\", \"hovertemplate\": \"<b>%{hovertext}</b><br><br>Color=#FF075B<br>year=2013<br>Commodity_Name=%{x}<br>value=%{y}<extra></extra>\", \"hovertext\": [\"VEHICLES OTHER THAN RAILWAY OR TRAMWAY ROLLING STOCK, AND PARTS AND ACCESSORIES THEREOF.\"], \"legendgroup\": \"#FF075B\", \"marker\": {\"color\": \"#FFA15A\"}, \"name\": \"#FF075B\", \"offsetgroup\": \"#FF075B\", \"orientation\": \"v\", \"showlegend\": true, \"textposition\": \"auto\", \"x\": [\"Vehicle Parts\"], \"xaxis\": \"x\", \"y\": [12932.750000000005], \"yaxis\": \"y\", \"type\": \"bar\"}, {\"alignmentgroup\": \"True\", \"hovertemplate\": \"<b>%{hovertext}</b><br><br>Color=#6EC9CB<br>year=2013<br>Commodity_Name=%{x}<br>value=%{y}<extra></extra>\", \"hovertext\": [\"ORGANIC CHEMICALS\"], \"legendgroup\": \"#6EC9CB\", \"marker\": {\"color\": \"#19d3f3\"}, \"name\": \"#6EC9CB\", \"offsetgroup\": \"#6EC9CB\", \"orientation\": \"v\", \"showlegend\": true, \"textposition\": \"auto\", \"x\": [\"Organic Chemicals\"], \"xaxis\": \"x\", \"y\": [12016.390000000001], \"yaxis\": \"y\", \"type\": \"bar\"}, {\"alignmentgroup\": \"True\", \"hovertemplate\": \"<b>%{hovertext}</b><br><br>Color=#B95C46<br>year=2013<br>Commodity_Name=%{x}<br>value=%{y}<extra></extra>\", \"hovertext\": [\"NUCLEAR REACTORS, BOILERS, MACHINERY AND MECHANICAL APPLIANCES; PARTS THEREOF.\"], \"legendgroup\": \"#B95C46\", \"marker\": {\"color\": \"#FF6692\"}, \"name\": \"#B95C46\", \"offsetgroup\": \"#B95C46\", \"orientation\": \"v\", \"showlegend\": true, \"textposition\": \"auto\", \"x\": [\"Nuclear Reactors\"], \"xaxis\": \"x\", \"y\": [12075.390000000005], \"yaxis\": \"y\", \"type\": \"bar\"}], \"name\": \"2013\"}, {\"data\": [{\"alignmentgroup\": \"True\", \"hovertemplate\": \"<b>%{hovertext}</b><br><br>Color=#FF800C<br>year=2014<br>Commodity_Name=%{x}<br>value=%{y}<extra></extra>\", \"hovertext\": [\"NATURAL OR CULTURED PEARLS,PRECIOUS OR SEMIPRECIOUS STONES,PRE.METALS,CLAD WITH PRE.METAL AND ARTCLS THEREOF;IMIT.JEWLRY;COIN.\"], \"legendgroup\": \"#FF800C\", \"marker\": {\"color\": \"#636efa\"}, \"name\": \"#FF800C\", \"offsetgroup\": \"#FF800C\", \"orientation\": \"v\", \"showlegend\": true, \"textposition\": \"auto\", \"x\": [\"Jewelry\"], \"xaxis\": \"x\", \"y\": [41549.58999999999], \"yaxis\": \"y\", \"type\": \"bar\"}, {\"alignmentgroup\": \"True\", \"hovertemplate\": \"<b>%{hovertext}</b><br><br>Color=#4255FF<br>year=2014<br>Commodity_Name=%{x}<br>value=%{y}<extra></extra>\", \"hovertext\": [\"MINERAL FUELS, MINERAL OILS AND PRODUCTS OF THEIR DISTILLATION; BITUMINOUS SUBSTANCES; MINERAL WAXES.\"], \"legendgroup\": \"#4255FF\", \"marker\": {\"color\": \"#EF553B\"}, \"name\": \"#4255FF\", \"offsetgroup\": \"#4255FF\", \"orientation\": \"v\", \"showlegend\": true, \"textposition\": \"auto\", \"x\": [\"Mineral\"], \"xaxis\": \"x\", \"y\": [57619.939999999995], \"yaxis\": \"y\", \"type\": \"bar\"}, {\"alignmentgroup\": \"True\", \"hovertemplate\": \"<b>%{hovertext}</b><br><br>Color=#FF075B<br>year=2014<br>Commodity_Name=%{x}<br>value=%{y}<extra></extra>\", \"hovertext\": [\"VEHICLES OTHER THAN RAILWAY OR TRAMWAY ROLLING STOCK, AND PARTS AND ACCESSORIES THEREOF.\"], \"legendgroup\": \"#FF075B\", \"marker\": {\"color\": \"#FFA15A\"}, \"name\": \"#FF075B\", \"offsetgroup\": \"#FF075B\", \"orientation\": \"v\", \"showlegend\": true, \"textposition\": \"auto\", \"x\": [\"Vehicle Parts\"], \"xaxis\": \"x\", \"y\": [14473.64000000001], \"yaxis\": \"y\", \"type\": \"bar\"}, {\"alignmentgroup\": \"True\", \"hovertemplate\": \"<b>%{hovertext}</b><br><br>Color=#6EC9CB<br>year=2014<br>Commodity_Name=%{x}<br>value=%{y}<extra></extra>\", \"hovertext\": [\"ORGANIC CHEMICALS\"], \"legendgroup\": \"#6EC9CB\", \"marker\": {\"color\": \"#19d3f3\"}, \"name\": \"#6EC9CB\", \"offsetgroup\": \"#6EC9CB\", \"orientation\": \"v\", \"showlegend\": true, \"textposition\": \"auto\", \"x\": [\"Organic Chemicals\"], \"xaxis\": \"x\", \"y\": [11948.050000000008], \"yaxis\": \"y\", \"type\": \"bar\"}, {\"alignmentgroup\": \"True\", \"hovertemplate\": \"<b>%{hovertext}</b><br><br>Color=#B95C46<br>year=2014<br>Commodity_Name=%{x}<br>value=%{y}<extra></extra>\", \"hovertext\": [\"NUCLEAR REACTORS, BOILERS, MACHINERY AND MECHANICAL APPLIANCES; PARTS THEREOF.\"], \"legendgroup\": \"#B95C46\", \"marker\": {\"color\": \"#FF6692\"}, \"name\": \"#B95C46\", \"offsetgroup\": \"#B95C46\", \"orientation\": \"v\", \"showlegend\": true, \"textposition\": \"auto\", \"x\": [\"Nuclear Reactors\"], \"xaxis\": \"x\", \"y\": [13801.01], \"yaxis\": \"y\", \"type\": \"bar\"}], \"name\": \"2014\"}, {\"data\": [{\"alignmentgroup\": \"True\", \"hovertemplate\": \"<b>%{hovertext}</b><br><br>Color=#FF800C<br>year=2015<br>Commodity_Name=%{x}<br>value=%{y}<extra></extra>\", \"hovertext\": [\"NATURAL OR CULTURED PEARLS,PRECIOUS OR SEMIPRECIOUS STONES,PRE.METALS,CLAD WITH PRE.METAL AND ARTCLS THEREOF;IMIT.JEWLRY;COIN.\"], \"legendgroup\": \"#FF800C\", \"marker\": {\"color\": \"#636efa\"}, \"name\": \"#FF800C\", \"offsetgroup\": \"#FF800C\", \"orientation\": \"v\", \"showlegend\": true, \"textposition\": \"auto\", \"x\": [\"Jewelry\"], \"xaxis\": \"x\", \"y\": [39553.820000000014], \"yaxis\": \"y\", \"type\": \"bar\"}, {\"alignmentgroup\": \"True\", \"hovertemplate\": \"<b>%{hovertext}</b><br><br>Color=#4255FF<br>year=2015<br>Commodity_Name=%{x}<br>value=%{y}<extra></extra>\", \"hovertext\": [\"MINERAL FUELS, MINERAL OILS AND PRODUCTS OF THEIR DISTILLATION; BITUMINOUS SUBSTANCES; MINERAL WAXES.\"], \"legendgroup\": \"#4255FF\", \"marker\": {\"color\": \"#EF553B\"}, \"name\": \"#4255FF\", \"offsetgroup\": \"#4255FF\", \"orientation\": \"v\", \"showlegend\": true, \"textposition\": \"auto\", \"x\": [\"Mineral\"], \"xaxis\": \"x\", \"y\": [31231.470000000005], \"yaxis\": \"y\", \"type\": \"bar\"}, {\"alignmentgroup\": \"True\", \"hovertemplate\": \"<b>%{hovertext}</b><br><br>Color=#FF075B<br>year=2015<br>Commodity_Name=%{x}<br>value=%{y}<extra></extra>\", \"hovertext\": [\"VEHICLES OTHER THAN RAILWAY OR TRAMWAY ROLLING STOCK, AND PARTS AND ACCESSORIES THEREOF.\"], \"legendgroup\": \"#FF075B\", \"marker\": {\"color\": \"#FFA15A\"}, \"name\": \"#FF075B\", \"offsetgroup\": \"#FF075B\", \"orientation\": \"v\", \"showlegend\": true, \"textposition\": \"auto\", \"x\": [\"Vehicle Parts\"], \"xaxis\": \"x\", \"y\": [14355.730000000005], \"yaxis\": \"y\", \"type\": \"bar\"}, {\"alignmentgroup\": \"True\", \"hovertemplate\": \"<b>%{hovertext}</b><br><br>Color=#B95C46<br>year=2015<br>Commodity_Name=%{x}<br>value=%{y}<extra></extra>\", \"hovertext\": [\"NUCLEAR REACTORS, BOILERS, MACHINERY AND MECHANICAL APPLIANCES; PARTS THEREOF.\"], \"legendgroup\": \"#B95C46\", \"marker\": {\"color\": \"#FF6692\"}, \"name\": \"#B95C46\", \"offsetgroup\": \"#B95C46\", \"orientation\": \"v\", \"showlegend\": true, \"textposition\": \"auto\", \"x\": [\"Nuclear Reactors\"], \"xaxis\": \"x\", \"y\": [13516.720000000001], \"yaxis\": \"y\", \"type\": \"bar\"}, {\"alignmentgroup\": \"True\", \"hovertemplate\": \"<b>%{hovertext}</b><br><br>Color=#B9F846<br>year=2015<br>Commodity_Name=%{x}<br>value=%{y}<extra></extra>\", \"hovertext\": [\"PHARMACEUTICAL PRODUCTS\"], \"legendgroup\": \"#B9F846\", \"marker\": {\"color\": \"#B6E880\"}, \"name\": \"#B9F846\", \"offsetgroup\": \"#B9F846\", \"orientation\": \"v\", \"showlegend\": true, \"textposition\": \"auto\", \"x\": [\"PHARMACEUTICAL PRODUCTS\"], \"xaxis\": \"x\", \"y\": [12909.470000000001], \"yaxis\": \"y\", \"type\": \"bar\"}], \"name\": \"2015\"}, {\"data\": [{\"alignmentgroup\": \"True\", \"hovertemplate\": \"<b>%{hovertext}</b><br><br>Color=#FF800C<br>year=2016<br>Commodity_Name=%{x}<br>value=%{y}<extra></extra>\", \"hovertext\": [\"NATURAL OR CULTURED PEARLS,PRECIOUS OR SEMIPRECIOUS STONES,PRE.METALS,CLAD WITH PRE.METAL AND ARTCLS THEREOF;IMIT.JEWLRY;COIN.\"], \"legendgroup\": \"#FF800C\", \"marker\": {\"color\": \"#636efa\"}, \"name\": \"#FF800C\", \"offsetgroup\": \"#FF800C\", \"orientation\": \"v\", \"showlegend\": true, \"textposition\": \"auto\", \"x\": [\"Jewelry\"], \"xaxis\": \"x\", \"y\": [43623.03], \"yaxis\": \"y\", \"type\": \"bar\"}, {\"alignmentgroup\": \"True\", \"hovertemplate\": \"<b>%{hovertext}</b><br><br>Color=#4255FF<br>year=2016<br>Commodity_Name=%{x}<br>value=%{y}<extra></extra>\", \"hovertext\": [\"MINERAL FUELS, MINERAL OILS AND PRODUCTS OF THEIR DISTILLATION; BITUMINOUS SUBSTANCES; MINERAL WAXES.\"], \"legendgroup\": \"#4255FF\", \"marker\": {\"color\": \"#EF553B\"}, \"name\": \"#4255FF\", \"offsetgroup\": \"#4255FF\", \"orientation\": \"v\", \"showlegend\": true, \"textposition\": \"auto\", \"x\": [\"Mineral\"], \"xaxis\": \"x\", \"y\": [32435.54], \"yaxis\": \"y\", \"type\": \"bar\"}, {\"alignmentgroup\": \"True\", \"hovertemplate\": \"<b>%{hovertext}</b><br><br>Color=#FF075B<br>year=2016<br>Commodity_Name=%{x}<br>value=%{y}<extra></extra>\", \"hovertext\": [\"VEHICLES OTHER THAN RAILWAY OR TRAMWAY ROLLING STOCK, AND PARTS AND ACCESSORIES THEREOF.\"], \"legendgroup\": \"#FF075B\", \"marker\": {\"color\": \"#FFA15A\"}, \"name\": \"#FF075B\", \"offsetgroup\": \"#FF075B\", \"orientation\": \"v\", \"showlegend\": true, \"textposition\": \"auto\", \"x\": [\"Vehicle Parts\"], \"xaxis\": \"x\", \"y\": [14949.79], \"yaxis\": \"y\", \"type\": \"bar\"}, {\"alignmentgroup\": \"True\", \"hovertemplate\": \"<b>%{hovertext}</b><br><br>Color=#B95C46<br>year=2016<br>Commodity_Name=%{x}<br>value=%{y}<extra></extra>\", \"hovertext\": [\"NUCLEAR REACTORS, BOILERS, MACHINERY AND MECHANICAL APPLIANCES; PARTS THEREOF.\"], \"legendgroup\": \"#B95C46\", \"marker\": {\"color\": \"#FF6692\"}, \"name\": \"#B95C46\", \"offsetgroup\": \"#B95C46\", \"orientation\": \"v\", \"showlegend\": true, \"textposition\": \"auto\", \"x\": [\"Nuclear Reactors\"], \"xaxis\": \"x\", \"y\": [14098.779999999997], \"yaxis\": \"y\", \"type\": \"bar\"}, {\"alignmentgroup\": \"True\", \"hovertemplate\": \"<b>%{hovertext}</b><br><br>Color=#B9F846<br>year=2016<br>Commodity_Name=%{x}<br>value=%{y}<extra></extra>\", \"hovertext\": [\"PHARMACEUTICAL PRODUCTS\"], \"legendgroup\": \"#B9F846\", \"marker\": {\"color\": \"#B6E880\"}, \"name\": \"#B9F846\", \"offsetgroup\": \"#B9F846\", \"orientation\": \"v\", \"showlegend\": true, \"textposition\": \"auto\", \"x\": [\"PHARMACEUTICAL PRODUCTS\"], \"xaxis\": \"x\", \"y\": [12929.919999999996], \"yaxis\": \"y\", \"type\": \"bar\"}], \"name\": \"2016\"}, {\"data\": [{\"alignmentgroup\": \"True\", \"hovertemplate\": \"<b>%{hovertext}</b><br><br>Color=#FF800C<br>year=2017<br>Commodity_Name=%{x}<br>value=%{y}<extra></extra>\", \"hovertext\": [\"NATURAL OR CULTURED PEARLS,PRECIOUS OR SEMIPRECIOUS STONES,PRE.METALS,CLAD WITH PRE.METAL AND ARTCLS THEREOF;IMIT.JEWLRY;COIN.\"], \"legendgroup\": \"#FF800C\", \"marker\": {\"color\": \"#636efa\"}, \"name\": \"#FF800C\", \"offsetgroup\": \"#FF800C\", \"orientation\": \"v\", \"showlegend\": true, \"textposition\": \"auto\", \"x\": [\"Jewelry\"], \"xaxis\": \"x\", \"y\": [41743.33], \"yaxis\": \"y\", \"type\": \"bar\"}, {\"alignmentgroup\": \"True\", \"hovertemplate\": \"<b>%{hovertext}</b><br><br>Color=#4255FF<br>year=2017<br>Commodity_Name=%{x}<br>value=%{y}<extra></extra>\", \"hovertext\": [\"MINERAL FUELS, MINERAL OILS AND PRODUCTS OF THEIR DISTILLATION; BITUMINOUS SUBSTANCES; MINERAL WAXES.\"], \"legendgroup\": \"#4255FF\", \"marker\": {\"color\": \"#EF553B\"}, \"name\": \"#4255FF\", \"offsetgroup\": \"#4255FF\", \"orientation\": \"v\", \"showlegend\": true, \"textposition\": \"auto\", \"x\": [\"Mineral\"], \"xaxis\": \"x\", \"y\": [38469.31], \"yaxis\": \"y\", \"type\": \"bar\"}, {\"alignmentgroup\": \"True\", \"hovertemplate\": \"<b>%{hovertext}</b><br><br>Color=#FF075B<br>year=2017<br>Commodity_Name=%{x}<br>value=%{y}<extra></extra>\", \"hovertext\": [\"VEHICLES OTHER THAN RAILWAY OR TRAMWAY ROLLING STOCK, AND PARTS AND ACCESSORIES THEREOF.\"], \"legendgroup\": \"#FF075B\", \"marker\": {\"color\": \"#FFA15A\"}, \"name\": \"#FF075B\", \"offsetgroup\": \"#FF075B\", \"orientation\": \"v\", \"showlegend\": true, \"textposition\": \"auto\", \"x\": [\"Vehicle Parts\"], \"xaxis\": \"x\", \"y\": [17255.079999999998], \"yaxis\": \"y\", \"type\": \"bar\"}, {\"alignmentgroup\": \"True\", \"hovertemplate\": \"<b>%{hovertext}</b><br><br>Color=#6EC9CB<br>year=2017<br>Commodity_Name=%{x}<br>value=%{y}<extra></extra>\", \"hovertext\": [\"ORGANIC CHEMICALS\"], \"legendgroup\": \"#6EC9CB\", \"marker\": {\"color\": \"#19d3f3\"}, \"name\": \"#6EC9CB\", \"offsetgroup\": \"#6EC9CB\", \"orientation\": \"v\", \"showlegend\": true, \"textposition\": \"auto\", \"x\": [\"Organic Chemicals\"], \"xaxis\": \"x\", \"y\": [14795.799999999994], \"yaxis\": \"y\", \"type\": \"bar\"}, {\"alignmentgroup\": \"True\", \"hovertemplate\": \"<b>%{hovertext}</b><br><br>Color=#B95C46<br>year=2017<br>Commodity_Name=%{x}<br>value=%{y}<extra></extra>\", \"hovertext\": [\"NUCLEAR REACTORS, BOILERS, MACHINERY AND MECHANICAL APPLIANCES; PARTS THEREOF.\"], \"legendgroup\": \"#B95C46\", \"marker\": {\"color\": \"#FF6692\"}, \"name\": \"#B95C46\", \"offsetgroup\": \"#B95C46\", \"orientation\": \"v\", \"showlegend\": true, \"textposition\": \"auto\", \"x\": [\"Nuclear Reactors\"], \"xaxis\": \"x\", \"y\": [17865.65], \"yaxis\": \"y\", \"type\": \"bar\"}], \"name\": \"2017\"}, {\"data\": [{\"alignmentgroup\": \"True\", \"hovertemplate\": \"<b>%{hovertext}</b><br><br>Color=#FF800C<br>year=2018<br>Commodity_Name=%{x}<br>value=%{y}<extra></extra>\", \"hovertext\": [\"NATURAL OR CULTURED PEARLS,PRECIOUS OR SEMIPRECIOUS STONES,PRE.METALS,CLAD WITH PRE.METAL AND ARTCLS THEREOF;IMIT.JEWLRY;COIN.\"], \"legendgroup\": \"#FF800C\", \"marker\": {\"color\": \"#636efa\"}, \"name\": \"#FF800C\", \"offsetgroup\": \"#FF800C\", \"orientation\": \"v\", \"showlegend\": true, \"textposition\": \"auto\", \"x\": [\"Jewelry\"], \"xaxis\": \"x\", \"y\": [40449.049999999996], \"yaxis\": \"y\", \"type\": \"bar\"}, {\"alignmentgroup\": \"True\", \"hovertemplate\": \"<b>%{hovertext}</b><br><br>Color=#4255FF<br>year=2018<br>Commodity_Name=%{x}<br>value=%{y}<extra></extra>\", \"hovertext\": [\"MINERAL FUELS, MINERAL OILS AND PRODUCTS OF THEIR DISTILLATION; BITUMINOUS SUBSTANCES; MINERAL WAXES.\"], \"legendgroup\": \"#4255FF\", \"marker\": {\"color\": \"#EF553B\"}, \"name\": \"#4255FF\", \"offsetgroup\": \"#4255FF\", \"orientation\": \"v\", \"showlegend\": true, \"textposition\": \"auto\", \"x\": [\"Mineral\"], \"xaxis\": \"x\", \"y\": [47920.23000000002], \"yaxis\": \"y\", \"type\": \"bar\"}, {\"alignmentgroup\": \"True\", \"hovertemplate\": \"<b>%{hovertext}</b><br><br>Color=#FF075B<br>year=2018<br>Commodity_Name=%{x}<br>value=%{y}<extra></extra>\", \"hovertext\": [\"VEHICLES OTHER THAN RAILWAY OR TRAMWAY ROLLING STOCK, AND PARTS AND ACCESSORIES THEREOF.\"], \"legendgroup\": \"#FF075B\", \"marker\": {\"color\": \"#FFA15A\"}, \"name\": \"#FF075B\", \"offsetgroup\": \"#FF075B\", \"orientation\": \"v\", \"showlegend\": true, \"textposition\": \"auto\", \"x\": [\"Vehicle Parts\"], \"xaxis\": \"x\", \"y\": [18095.999999999993], \"yaxis\": \"y\", \"type\": \"bar\"}, {\"alignmentgroup\": \"True\", \"hovertemplate\": \"<b>%{hovertext}</b><br><br>Color=#6EC9CB<br>year=2018<br>Commodity_Name=%{x}<br>value=%{y}<extra></extra>\", \"hovertext\": [\"ORGANIC CHEMICALS\"], \"legendgroup\": \"#6EC9CB\", \"marker\": {\"color\": \"#19d3f3\"}, \"name\": \"#6EC9CB\", \"offsetgroup\": \"#6EC9CB\", \"orientation\": \"v\", \"showlegend\": true, \"textposition\": \"auto\", \"x\": [\"Organic Chemicals\"], \"xaxis\": \"x\", \"y\": [18238.53], \"yaxis\": \"y\", \"type\": \"bar\"}, {\"alignmentgroup\": \"True\", \"hovertemplate\": \"<b>%{hovertext}</b><br><br>Color=#B95C46<br>year=2018<br>Commodity_Name=%{x}<br>value=%{y}<extra></extra>\", \"hovertext\": [\"NUCLEAR REACTORS, BOILERS, MACHINERY AND MECHANICAL APPLIANCES; PARTS THEREOF.\"], \"legendgroup\": \"#B95C46\", \"marker\": {\"color\": \"#FF6692\"}, \"name\": \"#B95C46\", \"offsetgroup\": \"#B95C46\", \"orientation\": \"v\", \"showlegend\": true, \"textposition\": \"auto\", \"x\": [\"Nuclear Reactors\"], \"xaxis\": \"x\", \"y\": [20963.320000000003], \"yaxis\": \"y\", \"type\": \"bar\"}], \"name\": \"2018\"}]);\n",
       "                        }).then(function(){\n",
       "                            \n",
       "var gd = document.getElementById('55b6afc4-ccad-412a-8be1-8ac0068b2c51');\n",
       "var x = new MutationObserver(function (mutations, observer) {{\n",
       "        var display = window.getComputedStyle(gd).display;\n",
       "        if (!display || display === 'none') {{\n",
       "            console.log([gd, 'removed!']);\n",
       "            Plotly.purge(gd);\n",
       "            observer.disconnect();\n",
       "        }}\n",
       "}});\n",
       "\n",
       "// Listen for the removal of the full notebook cells\n",
       "var notebookContainer = gd.closest('#notebook-container');\n",
       "if (notebookContainer) {{\n",
       "    x.observe(notebookContainer, {childList: true});\n",
       "}}\n",
       "\n",
       "// Listen for the clearing of the current output cell\n",
       "var outputEl = gd.closest('.output');\n",
       "if (outputEl) {{\n",
       "    x.observe(outputEl, {childList: true});\n",
       "}}\n",
       "\n",
       "                        })                };                });            </script>        </div>"
      ]
     },
     "metadata": {},
     "output_type": "display_data"
    }
   ],
   "source": [
    "fig=px.bar(data_frame=top_commodities,x='Commodity_Name',y='value',animation_frame='year',hover_name='Commodity',title=\"Interactive Bar Plot of Top 5 Export Commodities with year as slider\",color='Color')\n",
    "fig.show()"
   ]
  },
  {
   "cell_type": "markdown",
   "id": "least-rocket",
   "metadata": {
    "papermill": {
     "duration": 0.03353,
     "end_time": "2021-08-02T08:02:18.778920",
     "exception": false,
     "start_time": "2021-08-02T08:02:18.745390",
     "status": "completed"
    },
    "tags": []
   },
   "source": [
    "**Exports structure of 7116 - Articles of natural or cultured pearls, precious or semi-precious stones (natural, synthetic or reconstructed). - from India in 2020**\n",
    "\n",
    "* 99% (19.1 million US$): 711620 - Articles of precious/semi-precious stones.\n",
    "\n",
    "*  0.397% (76 thousand US$): 711610 - Articles of nat./cultured pearls\n",
    "\n",
    "**Exports structure of 27 - Mineral fuels, mineral oils and products of their distillation; bituminous substances; mineral waxes - from India in 2020**\n",
    "\n",
    "* 94% (26 billion US$): 2710 - Petroleum oils and oils obtained from bituminous minerals, other than crude; preparations not elsewhere specified or included, containing by weight 70 % or more of petroleum oils or of oils obtained from bituminous minerals, these oils being the basic constituents of the preparations; waste oils.\n",
    "\n",
    "* 1.77% (491 million US$): 2716 - Electrical energy. (optional heading).\n",
    "\n",
    "* 1.49% (412 million US$): 2707 - Oils and other products of the distillation of high temperature coal tar; similar products in which the weight of the aromatic constituents exceeds that of the non-aromatic constituents.\n",
    "\n",
    "* 0.868% (239 million US$): 2711 - Petroleum gases and other gaseous hydrocarbons.\n",
    "\n",
    "* 0.467% (129 million US$): 2713 - Petroleum coke, petroleum bitumen and other residues of petroleum oils or of oils obtained from bituminous minerals.\n",
    "\n",
    "* 0.257% (71 million US$): 2712 - Petroleum jelly; paraffin wax, micro-crystalline petroleum wax, slack wax, ozokerite, lignite wax, peat wax, other mineral waxes, and similar products obtained by synthesis or by other processes, whether or not coloured.\n",
    "\n",
    "* 0.249% (68 million US$): 2701 - Coal; briquettes, ovoids and similar solid fuels manufactured from coal.\n",
    "\n",
    "* 0.087% (24 million US$): 2704 - Coke and semi?coke of coal, of lignite or of peat, whether or not agglomerated; retort carbon.\n",
    "\n",
    "* 0.04% (11.1 million US$): 2708 - Pitch and pitch coke, obtained from coal tar or from other mineral tars.\n",
    "\n",
    "* 0.015% (4.18 million US$): 2702 - Lignite, whether or not agglomerated, excluding jet.\n",
    "\n",
    "\n",
    "**Exports structure of 8520 - Magnetic tape recorders and other sound recording apparatus, whether or not incorporating a sound reproducing device. - from India in 2020**\n",
    "\n",
    "* 99% (36 thousand US$): 852033 - Magnetic tape recorders incorp. sound repr. app. (excl. of 8520.10 & 8520.20), cassette-type.\n",
    "\n",
    "* 0.193% (70 US$): 852020 - Telephone answering machines\n",
    "\n",
    "\n",
    "**Exports structure of 84 - Nuclear reactors, boilers, machinery and mechanical appliances; parts thereof - from India in 2020**\n",
    "\n",
    "* 15.8% (2.85 billion US$): 8411 - Turbo-jets, turbo-propellers and other gas turbines.\n",
    "\n",
    "* 7.37% (1.32 billion US$): 8481 - Taps, cocks, valves and similar appliances for pipes, boiler shells, tanks, vats or the like, including pressure-reducing valves and thermostatically controlled valves.\n",
    "\n",
    "* 6.13% (1.1 billion US$): 8483 - Transmission shafts (including cam shafts and crank shafts) and cranks; bearing housings and plain shaft bearings; gears and gearing; ball or roller screws; gear boxes and other speed changers, including torque converters; flywheels and pulleys, including pulley blocks; clutches and shaft couplings (including universal joints).\n",
    "\n",
    "* 5.09% (916 million US$): 8409 - Parts suitable for use solely or principally with the engines of heading 84.07 or 84.08.\n",
    "\n",
    "* 4.57% (821 million US$): 8413 - Pumps for liquids, whether or not fitted with a measuring device; liquid elevators.\n",
    "\n",
    "* 4.55% (819 million US$): 8408 - Compression-ignition internal combustion piston engines (diesel or semi-diesel engines).\n",
    "\n",
    "* 4.47% (804 million US$): 8414 - Air or vacuum pumps, air or other gas compressors and fans; ventilating or recycling hoods incorporating a fan, whether or not fitted with filters.\n",
    "\n",
    "* 4.06% (730 million US$): 8479 - Machines and mechanical appliances having individual functions, not specified or included elsewhere in this Chapter.\n",
    "\n",
    "* 3.41% (614 million US$): 8421 - Centrifuges, including centrifugal dryers; filtering or purifying machinery and apparatus, for liquids or gases.\n",
    "\n",
    "* 3.27% (587 million US$): 8431 - Parts suitable for use solely or principally with the machinery of headings 84.25 to 84.30.\n",
    "\n",
    "\n",
    "\n",
    "\n",
    "\n"
   ]
  },
  {
   "cell_type": "code",
   "execution_count": 18,
   "id": "legitimate-welcome",
   "metadata": {
    "execution": {
     "iopub.execute_input": "2021-08-02T08:02:18.856484Z",
     "iopub.status.busy": "2021-08-02T08:02:18.855471Z",
     "iopub.status.idle": "2021-08-02T08:02:18.893133Z",
     "shell.execute_reply": "2021-08-02T08:02:18.891626Z",
     "shell.execute_reply.started": "2021-06-27T06:16:04.246482Z"
    },
    "papermill": {
     "duration": 0.080489,
     "end_time": "2021-08-02T08:02:18.893347",
     "exception": false,
     "start_time": "2021-08-02T08:02:18.812858",
     "status": "completed"
    },
    "tags": []
   },
   "outputs": [
    {
     "name": "stdout",
     "output_type": "stream",
     "text": [
      "Top Countries from which Commodities are imported = ['CHINA P RP', 'U ARAB EMTS', 'SAUDI ARAB', 'U S A', 'SWITZERLAND']\n"
     ]
    }
   ],
   "source": [
    "df=import_data.groupby(['year','country'],as_index=False).agg({'value':'sum'})\n",
    "top_countries=import_data.groupby('country',as_index=False).agg({'value':'sum'}).sort_values('value',ascending=False).head(5)['country'].tolist()\n",
    "print(\"Top Countries from which Commodities are imported =\",top_countries)\n",
    "china=df[df['country']==top_countries[0]]\n",
    "uae=df[df['country']==top_countries[1]]\n",
    "saudi_arab=df[df['country']==top_countries[2]]\n",
    "usa=df[df['country']==top_countries[3]]\n",
    "switzerland=df[df['country']==top_countries[4]]"
   ]
  },
  {
   "cell_type": "code",
   "execution_count": 19,
   "id": "disabled-rover",
   "metadata": {
    "execution": {
     "iopub.execute_input": "2021-08-02T08:02:18.991443Z",
     "iopub.status.busy": "2021-08-02T08:02:18.990696Z",
     "iopub.status.idle": "2021-08-02T08:02:18.995050Z",
     "shell.execute_reply": "2021-08-02T08:02:18.994503Z",
     "shell.execute_reply.started": "2021-06-27T06:16:04.285818Z"
    },
    "papermill": {
     "duration": 0.066853,
     "end_time": "2021-08-02T08:02:18.995214",
     "exception": false,
     "start_time": "2021-08-02T08:02:18.928361",
     "status": "completed"
    },
    "tags": []
   },
   "outputs": [
    {
     "data": {
      "text/html": [
       "\n",
       "<div id=\"altair-viz-b2e2e989294b45eca0a2be4f4e1ec7b1\"></div>\n",
       "<script type=\"text/javascript\">\n",
       "  (function(spec, embedOpt){\n",
       "    let outputDiv = document.currentScript.previousElementSibling;\n",
       "    if (outputDiv.id !== \"altair-viz-b2e2e989294b45eca0a2be4f4e1ec7b1\") {\n",
       "      outputDiv = document.getElementById(\"altair-viz-b2e2e989294b45eca0a2be4f4e1ec7b1\");\n",
       "    }\n",
       "    const paths = {\n",
       "      \"vega\": \"https://cdn.jsdelivr.net/npm//vega@5?noext\",\n",
       "      \"vega-lib\": \"https://cdn.jsdelivr.net/npm//vega-lib?noext\",\n",
       "      \"vega-lite\": \"https://cdn.jsdelivr.net/npm//vega-lite@4.8.1?noext\",\n",
       "      \"vega-embed\": \"https://cdn.jsdelivr.net/npm//vega-embed@6?noext\",\n",
       "    };\n",
       "\n",
       "    function loadScript(lib) {\n",
       "      return new Promise(function(resolve, reject) {\n",
       "        var s = document.createElement('script');\n",
       "        s.src = paths[lib];\n",
       "        s.async = true;\n",
       "        s.onload = () => resolve(paths[lib]);\n",
       "        s.onerror = () => reject(`Error loading script: ${paths[lib]}`);\n",
       "        document.getElementsByTagName(\"head\")[0].appendChild(s);\n",
       "      });\n",
       "    }\n",
       "\n",
       "    function showError(err) {\n",
       "      outputDiv.innerHTML = `<div class=\"error\" style=\"color:red;\">${err}</div>`;\n",
       "      throw err;\n",
       "    }\n",
       "\n",
       "    function displayChart(vegaEmbed) {\n",
       "      vegaEmbed(outputDiv, spec, embedOpt)\n",
       "        .catch(err => showError(`Javascript Error: ${err.message}<br>This usually means there's a typo in your chart specification. See the javascript console for the full traceback.`));\n",
       "    }\n",
       "\n",
       "    if(typeof define === \"function\" && define.amd) {\n",
       "      requirejs.config({paths});\n",
       "      require([\"vega-embed\"], displayChart, err => showError(`Error loading script: ${err.message}`));\n",
       "    } else if (typeof vegaEmbed === \"function\") {\n",
       "      displayChart(vegaEmbed);\n",
       "    } else {\n",
       "      loadScript(\"vega\")\n",
       "        .then(() => loadScript(\"vega-lite\"))\n",
       "        .then(() => loadScript(\"vega-embed\"))\n",
       "        .catch(showError)\n",
       "        .then(() => displayChart(vegaEmbed));\n",
       "    }\n",
       "  })({\"config\": {\"view\": {\"continuousWidth\": 400, \"continuousHeight\": 300}, \"axis\": {\"labelFontSize\": 20, \"titleFontSize\": 20}, \"title\": {\"fontSize\": 20}}, \"data\": {\"name\": \"data-0cc27d29fde0b89287009ae81736a576\"}, \"mark\": {\"type\": \"line\", \"color\": \"#FF3D46\"}, \"encoding\": {\"x\": {\"type\": \"quantitative\", \"axis\": {\"title\": \"YEAR\"}, \"field\": \"year\"}, \"y\": {\"type\": \"quantitative\", \"axis\": {\"title\": \"YEAR\"}, \"field\": \"value\"}}, \"title\": \"Import from China from 2010-2018\", \"width\": 500, \"$schema\": \"https://vega.github.io/schema/vega-lite/v4.8.1.json\", \"datasets\": {\"data-0cc27d29fde0b89287009ae81736a576\": [{\"year\": 2010, \"country\": \"CHINA P RP\", \"value\": 43479.39000000002}, {\"year\": 2011, \"country\": \"CHINA P RP\", \"value\": 55313.17}, {\"year\": 2012, \"country\": \"CHINA P RP\", \"value\": 52247.97000000001}, {\"year\": 2013, \"country\": \"CHINA P RP\", \"value\": 51034.29999999999}, {\"year\": 2014, \"country\": \"CHINA P RP\", \"value\": 60412.84}, {\"year\": 2015, \"country\": \"CHINA P RP\", \"value\": 61707.54}, {\"year\": 2016, \"country\": \"CHINA P RP\", \"value\": 61282.659999999996}, {\"year\": 2017, \"country\": \"CHINA P RP\", \"value\": 76380.34999999998}, {\"year\": 2018, \"country\": \"CHINA P RP\", \"value\": 70319.29}]}}, {\"mode\": \"vega-lite\"});\n",
       "</script>"
      ],
      "text/plain": [
       "alt.Chart(...)"
      ]
     },
     "execution_count": 19,
     "metadata": {},
     "output_type": "execute_result"
    }
   ],
   "source": [
    "alt.Chart(china,title='Import from China from 2010-2018').mark_line(color='#FF3D46').encode(x=alt.X('year',axis=alt.Axis(title='YEAR')),y=alt.Y('value',axis=alt.Axis(title='YEAR'))).properties(width=500).configure_axis(labelFontSize=20,titleFontSize=20).configure_title(fontSize=20)\n"
   ]
  },
  {
   "cell_type": "code",
   "execution_count": 20,
   "id": "primary-disorder",
   "metadata": {
    "execution": {
     "iopub.execute_input": "2021-08-02T08:02:19.087502Z",
     "iopub.status.busy": "2021-08-02T08:02:19.086752Z",
     "iopub.status.idle": "2021-08-02T08:02:19.090786Z",
     "shell.execute_reply": "2021-08-02T08:02:19.091313Z",
     "shell.execute_reply.started": "2021-06-27T06:16:30.225818Z"
    },
    "papermill": {
     "duration": 0.060822,
     "end_time": "2021-08-02T08:02:19.091535",
     "exception": false,
     "start_time": "2021-08-02T08:02:19.030713",
     "status": "completed"
    },
    "tags": []
   },
   "outputs": [
    {
     "data": {
      "text/html": [
       "\n",
       "<div id=\"altair-viz-97a91292f3fb42f5b8012c0e5a3a6b5b\"></div>\n",
       "<script type=\"text/javascript\">\n",
       "  (function(spec, embedOpt){\n",
       "    let outputDiv = document.currentScript.previousElementSibling;\n",
       "    if (outputDiv.id !== \"altair-viz-97a91292f3fb42f5b8012c0e5a3a6b5b\") {\n",
       "      outputDiv = document.getElementById(\"altair-viz-97a91292f3fb42f5b8012c0e5a3a6b5b\");\n",
       "    }\n",
       "    const paths = {\n",
       "      \"vega\": \"https://cdn.jsdelivr.net/npm//vega@5?noext\",\n",
       "      \"vega-lib\": \"https://cdn.jsdelivr.net/npm//vega-lib?noext\",\n",
       "      \"vega-lite\": \"https://cdn.jsdelivr.net/npm//vega-lite@4.8.1?noext\",\n",
       "      \"vega-embed\": \"https://cdn.jsdelivr.net/npm//vega-embed@6?noext\",\n",
       "    };\n",
       "\n",
       "    function loadScript(lib) {\n",
       "      return new Promise(function(resolve, reject) {\n",
       "        var s = document.createElement('script');\n",
       "        s.src = paths[lib];\n",
       "        s.async = true;\n",
       "        s.onload = () => resolve(paths[lib]);\n",
       "        s.onerror = () => reject(`Error loading script: ${paths[lib]}`);\n",
       "        document.getElementsByTagName(\"head\")[0].appendChild(s);\n",
       "      });\n",
       "    }\n",
       "\n",
       "    function showError(err) {\n",
       "      outputDiv.innerHTML = `<div class=\"error\" style=\"color:red;\">${err}</div>`;\n",
       "      throw err;\n",
       "    }\n",
       "\n",
       "    function displayChart(vegaEmbed) {\n",
       "      vegaEmbed(outputDiv, spec, embedOpt)\n",
       "        .catch(err => showError(`Javascript Error: ${err.message}<br>This usually means there's a typo in your chart specification. See the javascript console for the full traceback.`));\n",
       "    }\n",
       "\n",
       "    if(typeof define === \"function\" && define.amd) {\n",
       "      requirejs.config({paths});\n",
       "      require([\"vega-embed\"], displayChart, err => showError(`Error loading script: ${err.message}`));\n",
       "    } else if (typeof vegaEmbed === \"function\") {\n",
       "      displayChart(vegaEmbed);\n",
       "    } else {\n",
       "      loadScript(\"vega\")\n",
       "        .then(() => loadScript(\"vega-lite\"))\n",
       "        .then(() => loadScript(\"vega-embed\"))\n",
       "        .catch(showError)\n",
       "        .then(() => displayChart(vegaEmbed));\n",
       "    }\n",
       "  })({\"config\": {\"view\": {\"continuousWidth\": 400, \"continuousHeight\": 300}, \"axis\": {\"labelFontSize\": 20, \"titleFontSize\": 20}, \"title\": {\"fontSize\": 20}}, \"data\": {\"name\": \"data-b92ebf45128fc3c31c308e2b19910833\"}, \"mark\": {\"type\": \"line\", \"color\": \"#00FF1D\"}, \"encoding\": {\"x\": {\"type\": \"quantitative\", \"axis\": {\"title\": \"YEAR\"}, \"field\": \"year\"}, \"y\": {\"type\": \"quantitative\", \"axis\": {\"title\": \"YEAR\"}, \"field\": \"value\"}}, \"title\": \"Import from USA from 2010-2018\", \"width\": 500, \"$schema\": \"https://vega.github.io/schema/vega-lite/v4.8.1.json\", \"datasets\": {\"data-b92ebf45128fc3c31c308e2b19910833\": [{\"year\": 2010, \"country\": \"U S A\", \"value\": 20050.410000000003}, {\"year\": 2011, \"country\": \"U S A\", \"value\": 23454.639999999996}, {\"year\": 2012, \"country\": \"U S A\", \"value\": 25204.389999999996}, {\"year\": 2013, \"country\": \"U S A\", \"value\": 22504.79}, {\"year\": 2014, \"country\": \"U S A\", \"value\": 21814.270000000004}, {\"year\": 2015, \"country\": \"U S A\", \"value\": 21781.059999999994}, {\"year\": 2016, \"country\": \"U S A\", \"value\": 22307.180000000004}, {\"year\": 2017, \"country\": \"U S A\", \"value\": 26610.720000000005}, {\"year\": 2018, \"country\": \"U S A\", \"value\": 35549.2}]}}, {\"mode\": \"vega-lite\"});\n",
       "</script>"
      ],
      "text/plain": [
       "alt.Chart(...)"
      ]
     },
     "execution_count": 20,
     "metadata": {},
     "output_type": "execute_result"
    }
   ],
   "source": [
    "alt.Chart(usa,title='Import from USA from 2010-2018').mark_line(color='#00FF1D').encode(x=alt.X('year',axis=alt.Axis(title='YEAR')),y=alt.Y('value',axis=alt.Axis(title='YEAR'))).properties(width=500).configure_axis(labelFontSize=20,titleFontSize=20).configure_title(fontSize=20)"
   ]
  },
  {
   "cell_type": "code",
   "execution_count": 21,
   "id": "integral-cooperative",
   "metadata": {
    "execution": {
     "iopub.execute_input": "2021-08-02T08:02:19.189395Z",
     "iopub.status.busy": "2021-08-02T08:02:19.188478Z",
     "iopub.status.idle": "2021-08-02T08:02:19.193984Z",
     "shell.execute_reply": "2021-08-02T08:02:19.193329Z",
     "shell.execute_reply.started": "2021-06-27T06:16:41.103472Z"
    },
    "papermill": {
     "duration": 0.066391,
     "end_time": "2021-08-02T08:02:19.194140",
     "exception": false,
     "start_time": "2021-08-02T08:02:19.127749",
     "status": "completed"
    },
    "tags": []
   },
   "outputs": [
    {
     "data": {
      "text/html": [
       "\n",
       "<div id=\"altair-viz-538469e26f5c47078ec4f5694b3cb14d\"></div>\n",
       "<script type=\"text/javascript\">\n",
       "  (function(spec, embedOpt){\n",
       "    let outputDiv = document.currentScript.previousElementSibling;\n",
       "    if (outputDiv.id !== \"altair-viz-538469e26f5c47078ec4f5694b3cb14d\") {\n",
       "      outputDiv = document.getElementById(\"altair-viz-538469e26f5c47078ec4f5694b3cb14d\");\n",
       "    }\n",
       "    const paths = {\n",
       "      \"vega\": \"https://cdn.jsdelivr.net/npm//vega@5?noext\",\n",
       "      \"vega-lib\": \"https://cdn.jsdelivr.net/npm//vega-lib?noext\",\n",
       "      \"vega-lite\": \"https://cdn.jsdelivr.net/npm//vega-lite@4.8.1?noext\",\n",
       "      \"vega-embed\": \"https://cdn.jsdelivr.net/npm//vega-embed@6?noext\",\n",
       "    };\n",
       "\n",
       "    function loadScript(lib) {\n",
       "      return new Promise(function(resolve, reject) {\n",
       "        var s = document.createElement('script');\n",
       "        s.src = paths[lib];\n",
       "        s.async = true;\n",
       "        s.onload = () => resolve(paths[lib]);\n",
       "        s.onerror = () => reject(`Error loading script: ${paths[lib]}`);\n",
       "        document.getElementsByTagName(\"head\")[0].appendChild(s);\n",
       "      });\n",
       "    }\n",
       "\n",
       "    function showError(err) {\n",
       "      outputDiv.innerHTML = `<div class=\"error\" style=\"color:red;\">${err}</div>`;\n",
       "      throw err;\n",
       "    }\n",
       "\n",
       "    function displayChart(vegaEmbed) {\n",
       "      vegaEmbed(outputDiv, spec, embedOpt)\n",
       "        .catch(err => showError(`Javascript Error: ${err.message}<br>This usually means there's a typo in your chart specification. See the javascript console for the full traceback.`));\n",
       "    }\n",
       "\n",
       "    if(typeof define === \"function\" && define.amd) {\n",
       "      requirejs.config({paths});\n",
       "      require([\"vega-embed\"], displayChart, err => showError(`Error loading script: ${err.message}`));\n",
       "    } else if (typeof vegaEmbed === \"function\") {\n",
       "      displayChart(vegaEmbed);\n",
       "    } else {\n",
       "      loadScript(\"vega\")\n",
       "        .then(() => loadScript(\"vega-lite\"))\n",
       "        .then(() => loadScript(\"vega-embed\"))\n",
       "        .catch(showError)\n",
       "        .then(() => displayChart(vegaEmbed));\n",
       "    }\n",
       "  })({\"config\": {\"view\": {\"continuousWidth\": 400, \"continuousHeight\": 300}, \"axis\": {\"labelFontSize\": 20, \"titleFontSize\": 20}, \"title\": {\"fontSize\": 20}}, \"data\": {\"name\": \"data-1c8a51406b816197fca8a97a8c4cf85d\"}, \"mark\": {\"type\": \"line\", \"color\": \"#00B4FF\"}, \"encoding\": {\"x\": {\"type\": \"quantitative\", \"axis\": {\"title\": \"YEAR\"}, \"field\": \"year\"}, \"y\": {\"type\": \"quantitative\", \"axis\": {\"title\": \"YEAR\"}, \"field\": \"value\"}}, \"title\": \"Import from Switzerland from 2010-2018\", \"width\": 500, \"$schema\": \"https://vega.github.io/schema/vega-lite/v4.8.1.json\", \"datasets\": {\"data-1c8a51406b816197fca8a97a8c4cf85d\": [{\"year\": 2010, \"country\": \"SWITZERLAND\", \"value\": 24801.839999999993}, {\"year\": 2011, \"country\": \"SWITZERLAND\", \"value\": 34758.81000000001}, {\"year\": 2012, \"country\": \"SWITZERLAND\", \"value\": 32166.369999999995}, {\"year\": 2013, \"country\": \"SWITZERLAND\", \"value\": 19310.850000000002}, {\"year\": 2014, \"country\": \"SWITZERLAND\", \"value\": 22133.01}, {\"year\": 2015, \"country\": \"SWITZERLAND\", \"value\": 19299.309999999998}, {\"year\": 2016, \"country\": \"SWITZERLAND\", \"value\": 17248.539999999997}, {\"year\": 2017, \"country\": \"SWITZERLAND\", \"value\": 18922.88}, {\"year\": 2018, \"country\": \"SWITZERLAND\", \"value\": 18087.420000000006}]}}, {\"mode\": \"vega-lite\"});\n",
       "</script>"
      ],
      "text/plain": [
       "alt.Chart(...)"
      ]
     },
     "execution_count": 21,
     "metadata": {},
     "output_type": "execute_result"
    }
   ],
   "source": [
    "alt.Chart(switzerland,title='Import from Switzerland from 2010-2018').mark_line(color='#00B4FF').encode(x=alt.X('year',axis=alt.Axis(title='YEAR')),y=alt.Y('value',axis=alt.Axis(title='YEAR'))).properties(width=500).configure_axis(labelFontSize=20,titleFontSize=20).configure_title(fontSize=20)"
   ]
  },
  {
   "cell_type": "code",
   "execution_count": 22,
   "id": "compliant-oxford",
   "metadata": {
    "execution": {
     "iopub.execute_input": "2021-08-02T08:02:19.276457Z",
     "iopub.status.busy": "2021-08-02T08:02:19.275692Z",
     "iopub.status.idle": "2021-08-02T08:02:19.321765Z",
     "shell.execute_reply": "2021-08-02T08:02:19.322560Z",
     "shell.execute_reply.started": "2021-06-27T06:16:47.500894Z"
    },
    "papermill": {
     "duration": 0.092135,
     "end_time": "2021-08-02T08:02:19.322830",
     "exception": false,
     "start_time": "2021-08-02T08:02:19.230695",
     "status": "completed"
    },
    "tags": []
   },
   "outputs": [
    {
     "name": "stdout",
     "output_type": "stream",
     "text": [
      "Top Countries from which Commodities are imported = ['U S A', 'U ARAB EMTS', 'CHINA P RP', 'HONG KONG', 'SINGAPORE']\n"
     ]
    }
   ],
   "source": [
    "df=export_data.groupby(['year','country'],as_index=False).agg({'value':'sum'})\n",
    "top_countries=export_data.groupby('country',as_index=False).agg({'value':'sum'}).sort_values('value',ascending=False).head(5)['country'].tolist()\n",
    "print(\"Top Countries from which Commodities are imported =\",top_countries)\n",
    "usa=df[df['country']==top_countries[0]]\n",
    "uae=df[df['country']==top_countries[1]]\n",
    "china=df[df['country']==top_countries[2]]\n",
    "hongkong=df[df['country']==top_countries[3]]\n",
    "singapore=df[df['country']==top_countries[4]]"
   ]
  },
  {
   "cell_type": "code",
   "execution_count": 23,
   "id": "taken-timer",
   "metadata": {
    "execution": {
     "iopub.execute_input": "2021-08-02T08:02:19.418802Z",
     "iopub.status.busy": "2021-08-02T08:02:19.417925Z",
     "iopub.status.idle": "2021-08-02T08:02:19.421886Z",
     "shell.execute_reply": "2021-08-02T08:02:19.422388Z",
     "shell.execute_reply.started": "2021-06-27T06:16:59.878099Z"
    },
    "papermill": {
     "duration": 0.062451,
     "end_time": "2021-08-02T08:02:19.422563",
     "exception": false,
     "start_time": "2021-08-02T08:02:19.360112",
     "status": "completed"
    },
    "tags": []
   },
   "outputs": [
    {
     "data": {
      "text/html": [
       "\n",
       "<div id=\"altair-viz-ab3832283e644b29b1ee9e083fabd6b5\"></div>\n",
       "<script type=\"text/javascript\">\n",
       "  (function(spec, embedOpt){\n",
       "    let outputDiv = document.currentScript.previousElementSibling;\n",
       "    if (outputDiv.id !== \"altair-viz-ab3832283e644b29b1ee9e083fabd6b5\") {\n",
       "      outputDiv = document.getElementById(\"altair-viz-ab3832283e644b29b1ee9e083fabd6b5\");\n",
       "    }\n",
       "    const paths = {\n",
       "      \"vega\": \"https://cdn.jsdelivr.net/npm//vega@5?noext\",\n",
       "      \"vega-lib\": \"https://cdn.jsdelivr.net/npm//vega-lib?noext\",\n",
       "      \"vega-lite\": \"https://cdn.jsdelivr.net/npm//vega-lite@4.8.1?noext\",\n",
       "      \"vega-embed\": \"https://cdn.jsdelivr.net/npm//vega-embed@6?noext\",\n",
       "    };\n",
       "\n",
       "    function loadScript(lib) {\n",
       "      return new Promise(function(resolve, reject) {\n",
       "        var s = document.createElement('script');\n",
       "        s.src = paths[lib];\n",
       "        s.async = true;\n",
       "        s.onload = () => resolve(paths[lib]);\n",
       "        s.onerror = () => reject(`Error loading script: ${paths[lib]}`);\n",
       "        document.getElementsByTagName(\"head\")[0].appendChild(s);\n",
       "      });\n",
       "    }\n",
       "\n",
       "    function showError(err) {\n",
       "      outputDiv.innerHTML = `<div class=\"error\" style=\"color:red;\">${err}</div>`;\n",
       "      throw err;\n",
       "    }\n",
       "\n",
       "    function displayChart(vegaEmbed) {\n",
       "      vegaEmbed(outputDiv, spec, embedOpt)\n",
       "        .catch(err => showError(`Javascript Error: ${err.message}<br>This usually means there's a typo in your chart specification. See the javascript console for the full traceback.`));\n",
       "    }\n",
       "\n",
       "    if(typeof define === \"function\" && define.amd) {\n",
       "      requirejs.config({paths});\n",
       "      require([\"vega-embed\"], displayChart, err => showError(`Error loading script: ${err.message}`));\n",
       "    } else if (typeof vegaEmbed === \"function\") {\n",
       "      displayChart(vegaEmbed);\n",
       "    } else {\n",
       "      loadScript(\"vega\")\n",
       "        .then(() => loadScript(\"vega-lite\"))\n",
       "        .then(() => loadScript(\"vega-embed\"))\n",
       "        .catch(showError)\n",
       "        .then(() => displayChart(vegaEmbed));\n",
       "    }\n",
       "  })({\"config\": {\"view\": {\"continuousWidth\": 400, \"continuousHeight\": 300}, \"axis\": {\"labelFontSize\": 20, \"titleFontSize\": 20}, \"title\": {\"fontSize\": 20}}, \"data\": {\"name\": \"data-cdb75a234a47d60b43291b6f615aaf97\"}, \"mark\": {\"type\": \"line\", \"color\": \"#842600\"}, \"encoding\": {\"x\": {\"type\": \"quantitative\", \"axis\": {\"title\": \"YEAR\"}, \"field\": \"year\"}, \"y\": {\"type\": \"quantitative\", \"axis\": {\"title\": \"YEAR\"}, \"field\": \"value\"}}, \"title\": \"Export to USA from 2010-2018\", \"width\": 500, \"$schema\": \"https://vega.github.io/schema/vega-lite/v4.8.1.json\", \"datasets\": {\"data-cdb75a234a47d60b43291b6f615aaf97\": [{\"year\": 2010, \"country\": \"U S A\", \"value\": 25291.56}, {\"year\": 2011, \"country\": \"U S A\", \"value\": 34741.33}, {\"year\": 2012, \"country\": \"U S A\", \"value\": 36154.88}, {\"year\": 2013, \"country\": \"U S A\", \"value\": 39141.810000000005}, {\"year\": 2014, \"country\": \"U S A\", \"value\": 42448.299999999996}, {\"year\": 2015, \"country\": \"U S A\", \"value\": 40335.680000000015}, {\"year\": 2016, \"country\": \"U S A\", \"value\": 42211.96000000001}, {\"year\": 2017, \"country\": \"U S A\", \"value\": 47878.170000000006}, {\"year\": 2018, \"country\": \"U S A\", \"value\": 52405.88000000002}]}}, {\"mode\": \"vega-lite\"});\n",
       "</script>"
      ],
      "text/plain": [
       "alt.Chart(...)"
      ]
     },
     "execution_count": 23,
     "metadata": {},
     "output_type": "execute_result"
    }
   ],
   "source": [
    "alt.Chart(usa,title='Export to USA from 2010-2018').mark_line(color='#842600').encode(x=alt.X('year',axis=alt.Axis(title='YEAR')),y=alt.Y('value',axis=alt.Axis(title='YEAR'))).properties(width=500).configure_axis(labelFontSize=20,titleFontSize=20).configure_title(fontSize=20)"
   ]
  },
  {
   "cell_type": "code",
   "execution_count": 24,
   "id": "improved-defensive",
   "metadata": {
    "execution": {
     "iopub.execute_input": "2021-08-02T08:02:19.500966Z",
     "iopub.status.busy": "2021-08-02T08:02:19.500306Z",
     "iopub.status.idle": "2021-08-02T08:02:19.519413Z",
     "shell.execute_reply": "2021-08-02T08:02:19.519867Z",
     "shell.execute_reply.started": "2021-06-27T06:17:43.62967Z"
    },
    "papermill": {
     "duration": 0.059668,
     "end_time": "2021-08-02T08:02:19.520075",
     "exception": false,
     "start_time": "2021-08-02T08:02:19.460407",
     "status": "completed"
    },
    "tags": []
   },
   "outputs": [
    {
     "data": {
      "text/html": [
       "\n",
       "<div id=\"altair-viz-ce201da5a1ab45d2ac1f96f249b4ae9d\"></div>\n",
       "<script type=\"text/javascript\">\n",
       "  (function(spec, embedOpt){\n",
       "    let outputDiv = document.currentScript.previousElementSibling;\n",
       "    if (outputDiv.id !== \"altair-viz-ce201da5a1ab45d2ac1f96f249b4ae9d\") {\n",
       "      outputDiv = document.getElementById(\"altair-viz-ce201da5a1ab45d2ac1f96f249b4ae9d\");\n",
       "    }\n",
       "    const paths = {\n",
       "      \"vega\": \"https://cdn.jsdelivr.net/npm//vega@5?noext\",\n",
       "      \"vega-lib\": \"https://cdn.jsdelivr.net/npm//vega-lib?noext\",\n",
       "      \"vega-lite\": \"https://cdn.jsdelivr.net/npm//vega-lite@4.8.1?noext\",\n",
       "      \"vega-embed\": \"https://cdn.jsdelivr.net/npm//vega-embed@6?noext\",\n",
       "    };\n",
       "\n",
       "    function loadScript(lib) {\n",
       "      return new Promise(function(resolve, reject) {\n",
       "        var s = document.createElement('script');\n",
       "        s.src = paths[lib];\n",
       "        s.async = true;\n",
       "        s.onload = () => resolve(paths[lib]);\n",
       "        s.onerror = () => reject(`Error loading script: ${paths[lib]}`);\n",
       "        document.getElementsByTagName(\"head\")[0].appendChild(s);\n",
       "      });\n",
       "    }\n",
       "\n",
       "    function showError(err) {\n",
       "      outputDiv.innerHTML = `<div class=\"error\" style=\"color:red;\">${err}</div>`;\n",
       "      throw err;\n",
       "    }\n",
       "\n",
       "    function displayChart(vegaEmbed) {\n",
       "      vegaEmbed(outputDiv, spec, embedOpt)\n",
       "        .catch(err => showError(`Javascript Error: ${err.message}<br>This usually means there's a typo in your chart specification. See the javascript console for the full traceback.`));\n",
       "    }\n",
       "\n",
       "    if(typeof define === \"function\" && define.amd) {\n",
       "      requirejs.config({paths});\n",
       "      require([\"vega-embed\"], displayChart, err => showError(`Error loading script: ${err.message}`));\n",
       "    } else if (typeof vegaEmbed === \"function\") {\n",
       "      displayChart(vegaEmbed);\n",
       "    } else {\n",
       "      loadScript(\"vega\")\n",
       "        .then(() => loadScript(\"vega-lite\"))\n",
       "        .then(() => loadScript(\"vega-embed\"))\n",
       "        .catch(showError)\n",
       "        .then(() => displayChart(vegaEmbed));\n",
       "    }\n",
       "  })({\"config\": {\"view\": {\"continuousWidth\": 400, \"continuousHeight\": 300}, \"axis\": {\"labelFontSize\": 20, \"titleFontSize\": 20}, \"title\": {\"fontSize\": 20}}, \"data\": {\"name\": \"data-eb4942e90845e6c48981298116d1a7cb\"}, \"mark\": {\"type\": \"line\", \"color\": \"#FECE00\"}, \"encoding\": {\"x\": {\"type\": \"quantitative\", \"axis\": {\"title\": \"YEAR\"}, \"field\": \"year\"}, \"y\": {\"type\": \"quantitative\", \"axis\": {\"title\": \"YEAR\"}, \"field\": \"value\"}}, \"title\": \"Export to UAE from 2010-2018\", \"width\": 500, \"$schema\": \"https://vega.github.io/schema/vega-lite/v4.8.1.json\", \"datasets\": {\"data-eb4942e90845e6c48981298116d1a7cb\": [{\"year\": 2010, \"country\": \"U ARAB EMTS\", \"value\": 33822.08000000001}, {\"year\": 2011, \"country\": \"U ARAB EMTS\", \"value\": 35925.22999999999}, {\"year\": 2012, \"country\": \"U ARAB EMTS\", \"value\": 36316.29}, {\"year\": 2013, \"country\": \"U ARAB EMTS\", \"value\": 30520.079999999994}, {\"year\": 2014, \"country\": \"U ARAB EMTS\", \"value\": 33027.73000000001}, {\"year\": 2015, \"country\": \"U ARAB EMTS\", \"value\": 30316.16}, {\"year\": 2016, \"country\": \"U ARAB EMTS\", \"value\": 31175.16}, {\"year\": 2017, \"country\": \"U ARAB EMTS\", \"value\": 28145.77}, {\"year\": 2018, \"country\": \"U ARAB EMTS\", \"value\": 30126.379999999983}]}}, {\"mode\": \"vega-lite\"});\n",
       "</script>"
      ],
      "text/plain": [
       "alt.Chart(...)"
      ]
     },
     "execution_count": 24,
     "metadata": {},
     "output_type": "execute_result"
    }
   ],
   "source": [
    "alt.Chart(uae,title='Export to UAE from 2010-2018').mark_line(color='#FECE00').encode(x=alt.X('year',axis=alt.Axis(title='YEAR')),y=alt.Y('value',axis=alt.Axis(title='YEAR'))).properties(width=500).configure_axis(labelFontSize=20,titleFontSize=20).configure_title(fontSize=20)"
   ]
  },
  {
   "cell_type": "code",
   "execution_count": 25,
   "id": "banned-republican",
   "metadata": {
    "execution": {
     "iopub.execute_input": "2021-08-02T08:02:19.598299Z",
     "iopub.status.busy": "2021-08-02T08:02:19.597577Z",
     "iopub.status.idle": "2021-08-02T08:02:19.619448Z",
     "shell.execute_reply": "2021-08-02T08:02:19.618719Z",
     "shell.execute_reply.started": "2021-06-27T06:17:54.612297Z"
    },
    "papermill": {
     "duration": 0.062283,
     "end_time": "2021-08-02T08:02:19.619617",
     "exception": false,
     "start_time": "2021-08-02T08:02:19.557334",
     "status": "completed"
    },
    "tags": []
   },
   "outputs": [
    {
     "data": {
      "text/html": [
       "\n",
       "<div id=\"altair-viz-8fba32acef394f099e64f794fafb0959\"></div>\n",
       "<script type=\"text/javascript\">\n",
       "  (function(spec, embedOpt){\n",
       "    let outputDiv = document.currentScript.previousElementSibling;\n",
       "    if (outputDiv.id !== \"altair-viz-8fba32acef394f099e64f794fafb0959\") {\n",
       "      outputDiv = document.getElementById(\"altair-viz-8fba32acef394f099e64f794fafb0959\");\n",
       "    }\n",
       "    const paths = {\n",
       "      \"vega\": \"https://cdn.jsdelivr.net/npm//vega@5?noext\",\n",
       "      \"vega-lib\": \"https://cdn.jsdelivr.net/npm//vega-lib?noext\",\n",
       "      \"vega-lite\": \"https://cdn.jsdelivr.net/npm//vega-lite@4.8.1?noext\",\n",
       "      \"vega-embed\": \"https://cdn.jsdelivr.net/npm//vega-embed@6?noext\",\n",
       "    };\n",
       "\n",
       "    function loadScript(lib) {\n",
       "      return new Promise(function(resolve, reject) {\n",
       "        var s = document.createElement('script');\n",
       "        s.src = paths[lib];\n",
       "        s.async = true;\n",
       "        s.onload = () => resolve(paths[lib]);\n",
       "        s.onerror = () => reject(`Error loading script: ${paths[lib]}`);\n",
       "        document.getElementsByTagName(\"head\")[0].appendChild(s);\n",
       "      });\n",
       "    }\n",
       "\n",
       "    function showError(err) {\n",
       "      outputDiv.innerHTML = `<div class=\"error\" style=\"color:red;\">${err}</div>`;\n",
       "      throw err;\n",
       "    }\n",
       "\n",
       "    function displayChart(vegaEmbed) {\n",
       "      vegaEmbed(outputDiv, spec, embedOpt)\n",
       "        .catch(err => showError(`Javascript Error: ${err.message}<br>This usually means there's a typo in your chart specification. See the javascript console for the full traceback.`));\n",
       "    }\n",
       "\n",
       "    if(typeof define === \"function\" && define.amd) {\n",
       "      requirejs.config({paths});\n",
       "      require([\"vega-embed\"], displayChart, err => showError(`Error loading script: ${err.message}`));\n",
       "    } else if (typeof vegaEmbed === \"function\") {\n",
       "      displayChart(vegaEmbed);\n",
       "    } else {\n",
       "      loadScript(\"vega\")\n",
       "        .then(() => loadScript(\"vega-lite\"))\n",
       "        .then(() => loadScript(\"vega-embed\"))\n",
       "        .catch(showError)\n",
       "        .then(() => displayChart(vegaEmbed));\n",
       "    }\n",
       "  })({\"config\": {\"view\": {\"continuousWidth\": 400, \"continuousHeight\": 300}, \"axis\": {\"labelFontSize\": 20, \"titleFontSize\": 20}, \"title\": {\"fontSize\": 20}}, \"data\": {\"name\": \"data-7fe50e69bfc6ad935a6761a6fa02fbdc\"}, \"mark\": {\"type\": \"line\", \"color\": \"#00A407\"}, \"encoding\": {\"x\": {\"type\": \"quantitative\", \"axis\": {\"title\": \"YEAR\"}, \"field\": \"year\"}, \"y\": {\"type\": \"quantitative\", \"axis\": {\"title\": \"VALUE\"}, \"field\": \"value\"}}, \"title\": \"Export to Singapore from 2010-2018\", \"width\": 500, \"$schema\": \"https://vega.github.io/schema/vega-lite/v4.8.1.json\", \"datasets\": {\"data-7fe50e69bfc6ad935a6761a6fa02fbdc\": [{\"year\": 2010, \"country\": \"SINGAPORE\", \"value\": 9825.250000000004}, {\"year\": 2011, \"country\": \"SINGAPORE\", \"value\": 16857.449999999997}, {\"year\": 2012, \"country\": \"SINGAPORE\", \"value\": 13618.999999999998}, {\"year\": 2013, \"country\": \"SINGAPORE\", \"value\": 12510.310000000001}, {\"year\": 2014, \"country\": \"SINGAPORE\", \"value\": 9809.170000000002}, {\"year\": 2015, \"country\": \"SINGAPORE\", \"value\": 7719.589999999998}, {\"year\": 2016, \"country\": \"SINGAPORE\", \"value\": 9564.320000000002}, {\"year\": 2017, \"country\": \"SINGAPORE\", \"value\": 10202.57}, {\"year\": 2018, \"country\": \"SINGAPORE\", \"value\": 11572.04}]}}, {\"mode\": \"vega-lite\"});\n",
       "</script>"
      ],
      "text/plain": [
       "alt.Chart(...)"
      ]
     },
     "execution_count": 25,
     "metadata": {},
     "output_type": "execute_result"
    }
   ],
   "source": [
    "alt.Chart(singapore,title='Export to Singapore from 2010-2018',).mark_line(color='#00A407').encode(x=alt.X('year',axis=alt.Axis(title='YEAR')),y=alt.Y('value',axis=alt.Axis(title='VALUE'))).properties(width=500).configure_axis(labelFontSize=20,titleFontSize=20).configure_title(fontSize=20)"
   ]
  },
  {
   "cell_type": "markdown",
   "id": "colored-award",
   "metadata": {
    "papermill": {
     "duration": 0.037713,
     "end_time": "2021-08-02T08:02:19.695637",
     "exception": false,
     "start_time": "2021-08-02T08:02:19.657924",
     "status": "completed"
    },
    "tags": []
   },
   "source": [
    "**UAE**\n",
    "* India's exports to the UAE are well diversified with a large basket. India's major export items to the UAE are: Petroleum Products, Precious Metals, Stones, Gems & Jewellery, Minerals, Food Items (Cereals, Sugar, Fruits & Vegetables, Tea, Meat, and Seafood), Textiles (Garments, Apparel, Synthetic fibre, Cotton, Yarn) and Engineering & Machinery Products and Chemicals. \n",
    "\n",
    "* India's major import items from the UAE are:  Petroleum and Petroleum Products, Precious Metals, Stones, Gems & Jewellery, Minerals, Chemicals, Wood & Wood Products.   India also imported 21.83 MMT (US$ 10,927.52 Million) of crude oil from UAE in 2019-20.\n",
    "\n",
    "**USA**\n",
    "\n",
    "* India's Major export items to USA are:-Medical Appliances,Leather Goods,Textile Goods,Rice,Spices,Pulses,Jewelry,Oils,Machinery.\n",
    "\n",
    "* India's Major import items to USA are:- Cashew Nuts,Chemical Fertilizers,Edible Oils,Food Grains, Iron and Steel,Medicines.\n",
    "\n",
    "\n",
    "**China**\n",
    "\n",
    "* India's Major export items to China are:- Cotton yarn,Iron core, Organic Chemicals,Mineral Fuels,Fish,Salts.\n",
    "\n",
    "* India's Major import items from china are:- Electronics,Heavy-Machinery,Medicines,Consumer products"
   ]
  },
  {
   "cell_type": "code",
   "execution_count": 26,
   "id": "aware-scratch",
   "metadata": {
    "execution": {
     "iopub.execute_input": "2021-08-02T08:02:19.783556Z",
     "iopub.status.busy": "2021-08-02T08:02:19.782785Z",
     "iopub.status.idle": "2021-08-02T08:02:19.905931Z",
     "shell.execute_reply": "2021-08-02T08:02:19.906457Z",
     "shell.execute_reply.started": "2021-06-24T02:37:01.037241Z"
    },
    "papermill": {
     "duration": 0.172905,
     "end_time": "2021-08-02T08:02:19.906674",
     "exception": false,
     "start_time": "2021-08-02T08:02:19.733769",
     "status": "completed"
    },
    "tags": []
   },
   "outputs": [
    {
     "data": {
      "text/html": [
       "<div>                            <div id=\"7bb15439-9395-4c23-bc59-ebdcbbc05403\" class=\"plotly-graph-div\" style=\"height:525px; width:100%;\"></div>            <script type=\"text/javascript\">                require([\"plotly\"], function(Plotly) {                    window.PLOTLYENV=window.PLOTLYENV || {};                                    if (document.getElementById(\"7bb15439-9395-4c23-bc59-ebdcbbc05403\")) {                    Plotly.newPlot(                        \"7bb15439-9395-4c23-bc59-ebdcbbc05403\",                        [{\"coloraxis\": \"coloraxis\", \"geo\": \"geo\", \"hovertemplate\": \"country=%{location}<br>value=%{z}<extra></extra>\", \"locationmode\": \"country names\", \"locations\": [\"AFGHANISTAN TIS\", \"ALBANIA\", \"ALGERIA\", \"AMERI SAMOA\", \"ANDORRA\", \"ANGOLA\", \"ANGUILLA\", \"ANTARTICA\", \"ANTIGUA\", \"ARGENTINA\", \"ARMENIA\", \"ARUBA\", \"AUSTRALIA\", \"AUSTRIA\", \"AZERBAIJAN\", \"BAHAMAS\", \"BAHARAIN IS\", \"BANGLADESH PR\", \"BARBADOS\", \"BELARUS\", \"BELGIUM\", \"BELIZE\", \"BENIN\", \"BERMUDA\", \"BHUTAN\", \"BOLIVIA\", \"BOSNIA-HRZGOVIN\", \"BOTSWANA\", \"BR VIRGN IS\", \"BRAZIL\", \"BRUNEI\", \"BULGARIA\", \"BURKINA FASO\", \"BURUNDI\", \"C AFRI REP\", \"CAMBODIA\", \"CAMEROON\", \"CANADA\", \"CAPE VERDE IS\", \"CAYMAN IS\", \"CHAD\", \"CHILE\", \"CHINA P RP\", \"CHRISTMAS IS.\", \"COCOS IS\", \"COLOMBIA\", \"COMOROS\", \"CONGO D. REP.\", \"CONGO P REP\", \"COOK IS\", \"COSTA RICA\", \"COTE D' IVOIRE\", \"CROATIA\", \"CUBA\", \"CYPRUS\", \"CZECH REPUBLIC\", \"DENMARK\", \"DJIBOUTI\", \"DOMINIC REP\", \"DOMINICA\", \"ECUADOR\", \"EGYPT A RP\", \"EL SALVADOR\", \"EQUTL GUINEA\", \"ERITREA\", \"ESTONIA\", \"ETHIOPIA\", \"FALKLAND IS\", \"FAROE IS.\", \"FIJI IS\", \"FINLAND\", \"FR GUIANA\", \"FR POLYNESIA\", \"FR S ANT TR\", \"FRANCE\", \"GABON\", \"GAMBIA\", \"GEORGIA\", \"GERMANY\", \"GHANA\", \"GIBRALTAR\", \"GREECE\", \"GREENLAND\", \"GRENADA\", \"GUADELOUPE\", \"GUAM\", \"GUATEMALA\", \"GUERNSEY\", \"GUINEA\", \"GUINEA BISSAU\", \"GUYANA\", \"HAITI\", \"HEARD MACDONALD\", \"HONDURAS\", \"HONG KONG\", \"HUNGARY\", \"ICELAND\", \"INDONESIA\", \"IRAN\", \"IRAQ\", \"IRELAND\", \"ISRAEL\", \"ITALY\", \"JAMAICA\", \"JAPAN\", \"JERSEY         \", \"JORDAN\", \"KAZAKHSTAN\", \"KENYA\", \"KIRIBATI REP\", \"KOREA DP RP\", \"KOREA RP\", \"KUWAIT\", \"KYRGHYZSTAN\", \"LAO PD RP\", \"LATVIA\", \"LEBANON\", \"LESOTHO\", \"LIBERIA\", \"LIBYA\", \"LIECHTENSTEIN\", \"LITHUANIA\", \"LUXEMBOURG\", \"MACAO\", \"MACEDONIA\", \"MADAGASCAR\", \"MALAWI\", \"MALAYSIA\", \"MALDIVES\", \"MALI\", \"MALTA\", \"MARSHALL ISLAND\", \"MARTINIQUE\", \"MAURITANIA\", \"MAURITIUS\", \"MAYOTTE\", \"MEXICO\", \"MICRONESIA\", \"MOLDOVA\", \"MONACO\", \"MONGOLIA\", \"MONTENEGRO\", \"MONTSERRAT\", \"MOROCCO\", \"MOZAMBIQUE\", \"MYANMAR\", \"N. MARIANA IS.\", \"NAMIBIA\", \"NAURU RP\", \"NEPAL\", \"NETHERLAND\", \"NETHERLANDANTIL\", \"NEW CALEDONIA\", \"NEW ZEALAND\", \"NICARAGUA\", \"NIGER\", \"NIGERIA\", \"NIUE IS\", \"NORFOLK IS\", \"NORWAY\", \"OMAN\", \"PACIFIC IS\", \"PAKISTAN IR\", \"PALAU\", \"PANAMA C Z\", \"PANAMA REPUBLIC\", \"PAPUA N GNA\", \"PARAGUAY\", \"PERU\", \"PHILIPPINES\", \"PITCAIRN IS.\", \"POLAND\", \"PORTUGAL\", \"PUERTO RICO\", \"QATAR\", \"REUNION\", \"ROMANIA\", \"RUSSIA\", \"RWANDA\", \"SAMOA\", \"SAN MARINO\", \"SAO TOME\", \"SAUDI ARAB\", \"SENEGAL\", \"SERBIA\", \"SEYCHELLES\", \"SIERRA LEONE\", \"SINGAPORE\", \"SLOVAK REP\", \"SLOVENIA\", \"SOLOMON IS\", \"SOMALIA\", \"SOUTH AFRICA\", \"SOUTH SUDAN \", \"SPAIN\", \"SRI LANKA DSR\", \"ST HELENA\", \"ST KITT N A\", \"ST LUCIA\", \"ST PIERRE\", \"ST VINCENT\", \"STATE OF PALEST\", \"SUDAN\", \"SURINAME\", \"SWAZILAND\", \"SWEDEN\", \"SWITZERLAND\", \"SYRIA\", \"TAIWAN\", \"TAJIKISTAN\", \"TANZANIA REP\", \"THAILAND\", \"TIMOR LESTE\", \"TOGO\", \"TOKELAU IS\", \"TONGA\", \"TRINIDAD\", \"TUNISIA\", \"TURKEY\", \"TURKMENISTAN\", \"TURKS C IS\", \"TUVALU\", \"U ARAB EMTS\", \"U K\", \"U S A\", \"UGANDA\", \"UKRAINE\", \"UNION OF SERBIA & MONTENEGRO\", \"UNSPECIFIED\", \"URUGUAY\", \"US MINOR OUTLYING ISLANDS               \", \"UZBEKISTAN\", \"VANUATU REP\", \"VATICAN CITY\", \"VENEZUELA\", \"VIETNAM SOC REP\", \"VIRGIN IS US\", \"WALLIS F IS\", \"YEMEN REPUBLC\", \"ZAMBIA\", \"ZIMBABWE\"], \"name\": \"\", \"type\": \"choropleth\", \"z\": [2686.620000000005, 524.18, 10185.730000000001, 5.819999999999999, 5.449999999999999, 45986.070000000014, 0.5800000000000001, 8.549999999999999, 16.62, 18285.39000000001, 47.83, 8.209999999999997, 115598.9799999999, 8723.360000000019, 4091.6000000000017, 1097.9599999999994, 5196.290000000007, 6663.560000000006, 3.729999999999996, 1872.2599999999975, 90213.85999999987, 6.829999999999992, 2407.6700000000014, 7.839999999999999, 2489.3199999999993, 2197.630000000002, 86.58000000000004, 6536.179999999999, 30.750000000000014, 43866.709999999985, 6020.29, 1083.0799999999988, 2449.84, 24.34, 20.2, 246.75000000000026, 3590.7900000000013, 31255.059999999943, 25.420000000000005, 6.76, 1388.49, 18780.830000000016, 532177.5100000001, 0.9600000000000002, 48.9, 13923.920000000016, 147.82999999999996, 612.5199999999999, 2673.190000000001, 0.14, 1117.2799999999993, 4004.880000000004, 240.71000000000006, 21.500000000000007, 634.2699999999986, 5050.56000000001, 4543.010000000004, 40.74000000000001, 2702.1300000000047, 3.8399999999999994, 3740.0200000000045, 16396.640000000018, 65.74, 4427.080000000001, 456.62999999999994, 1143.0899999999995, 403.6599999999997, 11.780000000000001, 7.550000000000001, 12.839999999999998, 11373.780000000015, 117.17999999999998, 0.19, 0.09, 43423.72999999993, 3959.3300000000027, 328.74999999999994, 301.61999999999995, 119664.64000000009, 13799.750000000015, 11.89, 1026.0999999999988, 0.4, 0.8300000000000001, 3.1999999999999993, 0.06, 151.91000000000014, 0.34, 3395.46, 1497.1899999999998, 86.37, 36.01999999999999, 0.16, 144.46999999999994, 83542.73999999999, 2476.1299999999974, 47.76999999999998, 128164.39999999976, 96997.18999999983, 142476.32, 4553.810000000008, 19938.94, 40441.599999999984, 19.540000000000017, 96004.66, 0.05, 8495.220000000012, 4318.580000000006, 1028.7699999999993, 0.76, 932.8199999999987, 121143.57999999994, 97905.35999999999, 42.37000000000003, 909.8099999999997, 865.45, 286.87000000000006, 131.84, 350.21000000000004, 3626.9400000000005, 10.519999999999987, 1427.1899999999982, 635.5099999999995, 38.17, 169.52000000000007, 1058.0899999999983, 282.6399999999998, 84142.17999999998, 104.32, 662.9600000000002, 292.1800000000001, 29.050000000000004, 1.07, 119.01, 256.22, 0.19, 29580.629999999972, 0.1, 21.750000000000004, 15.149999999999995, 49.22999999999998, 1.41, 0.060000000000000005, 9599.170000000015, 4053.360000000002, 9651.240000000007, 0.66, 280.0699999999999, 61.14999999999999, 4638.390000000005, 23122.040000000026, 205.86000000000016, 178.46, 5676.660000000013, 21.739999999999984, 175.4600000000001, 103406.97999999997, 0.060000000000000005, 1.8200000000000007, 6863.980000000007, 24049.349999999995, 0.01, 4074.9100000000094, 7.719999999999999, 124.71000000000001, 887.3299999999998, 1429.3099999999993, 573.8699999999999, 9090.620000000017, 4571.190000000006, 0.36, 5952.050000000014, 1818.439999999998, 347.4899999999999, 101540.83000000009, 188.39000000000013, 3029.400000000004, 45290.259999999995, 16.400000000000002, 13.399999999999997, 2.7099999999999995, 0.21, 241554.9900000004, 2455.5900000000006, 122.03000000000002, 24.629999999999992, 111.61000000000001, 75043.08999999995, 715.0799999999992, 1139.8699999999978, 304.22, 165.00000000000003, 64705.619999999995, 226.94, 15918.900000000032, 6793.420000000017, 0.61, 0.63, 3.4200000000000004, 0.03, 0.02, 1.19, 3766.8200000000006, 514.0699999999998, 471.24999999999943, 14105.570000000018, 206729.02999999994, 511.90999999999974, 35819.64000000001, 136.3, 6939.0600000000095, 51615.11, 25.32, 1602.81, 0.46, 0.43, 870.3200000000002, 1498.0299999999988, 12605.030000000013, 179.67999999999998, 0.32999999999999996, 1.5699999999999998, 256286.08000000037, 51111.499999999956, 219276.65999999995, 323.79999999999967, 19512.560000000012, 42.35999999999999, 44278.38000000001, 212.97, 2.8799999999999994, 497.0699999999997, 5.739999999999999, 0.49, 76003.71000000002, 28791.109999999993, 10.299999999999995, 1.36, 5172.860000000002, 3876.9900000000043, 249.14]}],                        {\"coloraxis\": {\"colorbar\": {\"title\": {\"text\": \"value\"}}, \"colorscale\": [[0.0, \"#0d0887\"], [0.1111111111111111, \"#46039f\"], [0.2222222222222222, \"#7201a8\"], [0.3333333333333333, \"#9c179e\"], [0.4444444444444444, \"#bd3786\"], [0.5555555555555556, \"#d8576b\"], [0.6666666666666666, \"#ed7953\"], [0.7777777777777778, \"#fb9f3a\"], [0.8888888888888888, \"#fdca26\"], [1.0, \"#f0f921\"]]}, \"geo\": {\"center\": {}, \"domain\": {\"x\": [0.0, 1.0], \"y\": [0.0, 1.0]}}, \"legend\": {\"tracegroupgap\": 0}, \"margin\": {\"t\": 60}, \"template\": {\"data\": {\"bar\": [{\"error_x\": {\"color\": \"#2a3f5f\"}, \"error_y\": {\"color\": \"#2a3f5f\"}, \"marker\": {\"line\": {\"color\": \"#E5ECF6\", \"width\": 0.5}}, \"type\": \"bar\"}], \"barpolar\": [{\"marker\": {\"line\": {\"color\": \"#E5ECF6\", \"width\": 0.5}}, \"type\": \"barpolar\"}], \"carpet\": [{\"aaxis\": {\"endlinecolor\": \"#2a3f5f\", \"gridcolor\": \"white\", \"linecolor\": \"white\", \"minorgridcolor\": \"white\", \"startlinecolor\": \"#2a3f5f\"}, \"baxis\": {\"endlinecolor\": \"#2a3f5f\", \"gridcolor\": \"white\", \"linecolor\": \"white\", \"minorgridcolor\": \"white\", \"startlinecolor\": \"#2a3f5f\"}, \"type\": \"carpet\"}], \"choropleth\": [{\"colorbar\": {\"outlinewidth\": 0, \"ticks\": \"\"}, \"type\": \"choropleth\"}], \"contour\": [{\"colorbar\": {\"outlinewidth\": 0, \"ticks\": \"\"}, \"colorscale\": [[0.0, \"#0d0887\"], [0.1111111111111111, \"#46039f\"], [0.2222222222222222, \"#7201a8\"], [0.3333333333333333, \"#9c179e\"], [0.4444444444444444, \"#bd3786\"], [0.5555555555555556, \"#d8576b\"], [0.6666666666666666, \"#ed7953\"], [0.7777777777777778, \"#fb9f3a\"], [0.8888888888888888, \"#fdca26\"], [1.0, \"#f0f921\"]], \"type\": \"contour\"}], \"contourcarpet\": [{\"colorbar\": {\"outlinewidth\": 0, \"ticks\": \"\"}, \"type\": \"contourcarpet\"}], \"heatmap\": [{\"colorbar\": {\"outlinewidth\": 0, \"ticks\": \"\"}, \"colorscale\": [[0.0, \"#0d0887\"], [0.1111111111111111, \"#46039f\"], [0.2222222222222222, \"#7201a8\"], [0.3333333333333333, \"#9c179e\"], [0.4444444444444444, \"#bd3786\"], [0.5555555555555556, \"#d8576b\"], [0.6666666666666666, \"#ed7953\"], [0.7777777777777778, \"#fb9f3a\"], [0.8888888888888888, \"#fdca26\"], [1.0, \"#f0f921\"]], \"type\": \"heatmap\"}], \"heatmapgl\": [{\"colorbar\": {\"outlinewidth\": 0, \"ticks\": \"\"}, \"colorscale\": [[0.0, \"#0d0887\"], [0.1111111111111111, \"#46039f\"], [0.2222222222222222, \"#7201a8\"], [0.3333333333333333, \"#9c179e\"], [0.4444444444444444, \"#bd3786\"], [0.5555555555555556, \"#d8576b\"], [0.6666666666666666, \"#ed7953\"], [0.7777777777777778, \"#fb9f3a\"], [0.8888888888888888, \"#fdca26\"], [1.0, \"#f0f921\"]], \"type\": \"heatmapgl\"}], \"histogram\": [{\"marker\": {\"colorbar\": {\"outlinewidth\": 0, \"ticks\": \"\"}}, \"type\": \"histogram\"}], \"histogram2d\": [{\"colorbar\": {\"outlinewidth\": 0, \"ticks\": \"\"}, \"colorscale\": [[0.0, \"#0d0887\"], [0.1111111111111111, \"#46039f\"], [0.2222222222222222, \"#7201a8\"], [0.3333333333333333, \"#9c179e\"], [0.4444444444444444, \"#bd3786\"], [0.5555555555555556, \"#d8576b\"], [0.6666666666666666, \"#ed7953\"], [0.7777777777777778, \"#fb9f3a\"], [0.8888888888888888, \"#fdca26\"], [1.0, \"#f0f921\"]], \"type\": \"histogram2d\"}], \"histogram2dcontour\": [{\"colorbar\": {\"outlinewidth\": 0, \"ticks\": \"\"}, \"colorscale\": [[0.0, \"#0d0887\"], [0.1111111111111111, \"#46039f\"], [0.2222222222222222, \"#7201a8\"], [0.3333333333333333, \"#9c179e\"], [0.4444444444444444, \"#bd3786\"], [0.5555555555555556, \"#d8576b\"], [0.6666666666666666, \"#ed7953\"], [0.7777777777777778, \"#fb9f3a\"], [0.8888888888888888, \"#fdca26\"], [1.0, \"#f0f921\"]], \"type\": \"histogram2dcontour\"}], \"mesh3d\": [{\"colorbar\": {\"outlinewidth\": 0, \"ticks\": \"\"}, \"type\": \"mesh3d\"}], \"parcoords\": [{\"line\": {\"colorbar\": {\"outlinewidth\": 0, \"ticks\": \"\"}}, \"type\": \"parcoords\"}], \"pie\": [{\"automargin\": true, \"type\": \"pie\"}], \"scatter\": [{\"marker\": {\"colorbar\": {\"outlinewidth\": 0, \"ticks\": \"\"}}, \"type\": \"scatter\"}], \"scatter3d\": [{\"line\": {\"colorbar\": {\"outlinewidth\": 0, \"ticks\": \"\"}}, \"marker\": {\"colorbar\": {\"outlinewidth\": 0, \"ticks\": \"\"}}, \"type\": \"scatter3d\"}], \"scattercarpet\": [{\"marker\": {\"colorbar\": {\"outlinewidth\": 0, \"ticks\": \"\"}}, \"type\": \"scattercarpet\"}], \"scattergeo\": [{\"marker\": {\"colorbar\": {\"outlinewidth\": 0, \"ticks\": \"\"}}, \"type\": \"scattergeo\"}], \"scattergl\": [{\"marker\": {\"colorbar\": {\"outlinewidth\": 0, \"ticks\": \"\"}}, \"type\": \"scattergl\"}], \"scattermapbox\": [{\"marker\": {\"colorbar\": {\"outlinewidth\": 0, \"ticks\": \"\"}}, \"type\": \"scattermapbox\"}], \"scatterpolar\": [{\"marker\": {\"colorbar\": {\"outlinewidth\": 0, \"ticks\": \"\"}}, \"type\": \"scatterpolar\"}], \"scatterpolargl\": [{\"marker\": {\"colorbar\": {\"outlinewidth\": 0, \"ticks\": \"\"}}, \"type\": \"scatterpolargl\"}], \"scatterternary\": [{\"marker\": {\"colorbar\": {\"outlinewidth\": 0, \"ticks\": \"\"}}, \"type\": \"scatterternary\"}], \"surface\": [{\"colorbar\": {\"outlinewidth\": 0, \"ticks\": \"\"}, \"colorscale\": [[0.0, \"#0d0887\"], [0.1111111111111111, \"#46039f\"], [0.2222222222222222, \"#7201a8\"], [0.3333333333333333, \"#9c179e\"], [0.4444444444444444, \"#bd3786\"], [0.5555555555555556, \"#d8576b\"], [0.6666666666666666, \"#ed7953\"], [0.7777777777777778, \"#fb9f3a\"], [0.8888888888888888, \"#fdca26\"], [1.0, \"#f0f921\"]], \"type\": \"surface\"}], \"table\": [{\"cells\": {\"fill\": {\"color\": \"#EBF0F8\"}, \"line\": {\"color\": \"white\"}}, \"header\": {\"fill\": {\"color\": \"#C8D4E3\"}, \"line\": {\"color\": \"white\"}}, \"type\": \"table\"}]}, \"layout\": {\"annotationdefaults\": {\"arrowcolor\": \"#2a3f5f\", \"arrowhead\": 0, \"arrowwidth\": 1}, \"autotypenumbers\": \"strict\", \"coloraxis\": {\"colorbar\": {\"outlinewidth\": 0, \"ticks\": \"\"}}, \"colorscale\": {\"diverging\": [[0, \"#8e0152\"], [0.1, \"#c51b7d\"], [0.2, \"#de77ae\"], [0.3, \"#f1b6da\"], [0.4, \"#fde0ef\"], [0.5, \"#f7f7f7\"], [0.6, \"#e6f5d0\"], [0.7, \"#b8e186\"], [0.8, \"#7fbc41\"], [0.9, \"#4d9221\"], [1, \"#276419\"]], \"sequential\": [[0.0, \"#0d0887\"], [0.1111111111111111, \"#46039f\"], [0.2222222222222222, \"#7201a8\"], [0.3333333333333333, \"#9c179e\"], [0.4444444444444444, \"#bd3786\"], [0.5555555555555556, \"#d8576b\"], [0.6666666666666666, \"#ed7953\"], [0.7777777777777778, \"#fb9f3a\"], [0.8888888888888888, \"#fdca26\"], [1.0, \"#f0f921\"]], \"sequentialminus\": [[0.0, \"#0d0887\"], [0.1111111111111111, \"#46039f\"], [0.2222222222222222, \"#7201a8\"], [0.3333333333333333, \"#9c179e\"], [0.4444444444444444, \"#bd3786\"], [0.5555555555555556, \"#d8576b\"], [0.6666666666666666, \"#ed7953\"], [0.7777777777777778, \"#fb9f3a\"], [0.8888888888888888, \"#fdca26\"], [1.0, \"#f0f921\"]]}, \"colorway\": [\"#636efa\", \"#EF553B\", \"#00cc96\", \"#ab63fa\", \"#FFA15A\", \"#19d3f3\", \"#FF6692\", \"#B6E880\", \"#FF97FF\", \"#FECB52\"], \"font\": {\"color\": \"#2a3f5f\"}, \"geo\": {\"bgcolor\": \"white\", \"lakecolor\": \"white\", \"landcolor\": \"#E5ECF6\", \"showlakes\": true, \"showland\": true, \"subunitcolor\": \"white\"}, \"hoverlabel\": {\"align\": \"left\"}, \"hovermode\": \"closest\", \"mapbox\": {\"style\": \"light\"}, \"paper_bgcolor\": \"white\", \"plot_bgcolor\": \"#E5ECF6\", \"polar\": {\"angularaxis\": {\"gridcolor\": \"white\", \"linecolor\": \"white\", \"ticks\": \"\"}, \"bgcolor\": \"#E5ECF6\", \"radialaxis\": {\"gridcolor\": \"white\", \"linecolor\": \"white\", \"ticks\": \"\"}}, \"scene\": {\"xaxis\": {\"backgroundcolor\": \"#E5ECF6\", \"gridcolor\": \"white\", \"gridwidth\": 2, \"linecolor\": \"white\", \"showbackground\": true, \"ticks\": \"\", \"zerolinecolor\": \"white\"}, \"yaxis\": {\"backgroundcolor\": \"#E5ECF6\", \"gridcolor\": \"white\", \"gridwidth\": 2, \"linecolor\": \"white\", \"showbackground\": true, \"ticks\": \"\", \"zerolinecolor\": \"white\"}, \"zaxis\": {\"backgroundcolor\": \"#E5ECF6\", \"gridcolor\": \"white\", \"gridwidth\": 2, \"linecolor\": \"white\", \"showbackground\": true, \"ticks\": \"\", \"zerolinecolor\": \"white\"}}, \"shapedefaults\": {\"line\": {\"color\": \"#2a3f5f\"}}, \"ternary\": {\"aaxis\": {\"gridcolor\": \"white\", \"linecolor\": \"white\", \"ticks\": \"\"}, \"baxis\": {\"gridcolor\": \"white\", \"linecolor\": \"white\", \"ticks\": \"\"}, \"bgcolor\": \"#E5ECF6\", \"caxis\": {\"gridcolor\": \"white\", \"linecolor\": \"white\", \"ticks\": \"\"}}, \"title\": {\"x\": 0.05}, \"xaxis\": {\"automargin\": true, \"gridcolor\": \"white\", \"linecolor\": \"white\", \"ticks\": \"\", \"title\": {\"standoff\": 15}, \"zerolinecolor\": \"white\", \"zerolinewidth\": 2}, \"yaxis\": {\"automargin\": true, \"gridcolor\": \"white\", \"linecolor\": \"white\", \"ticks\": \"\", \"title\": {\"standoff\": 15}, \"zerolinecolor\": \"white\", \"zerolinewidth\": 2}}}},                        {\"responsive\": true}                    ).then(function(){\n",
       "                            \n",
       "var gd = document.getElementById('7bb15439-9395-4c23-bc59-ebdcbbc05403');\n",
       "var x = new MutationObserver(function (mutations, observer) {{\n",
       "        var display = window.getComputedStyle(gd).display;\n",
       "        if (!display || display === 'none') {{\n",
       "            console.log([gd, 'removed!']);\n",
       "            Plotly.purge(gd);\n",
       "            observer.disconnect();\n",
       "        }}\n",
       "}});\n",
       "\n",
       "// Listen for the removal of the full notebook cells\n",
       "var notebookContainer = gd.closest('#notebook-container');\n",
       "if (notebookContainer) {{\n",
       "    x.observe(notebookContainer, {childList: true});\n",
       "}}\n",
       "\n",
       "// Listen for the clearing of the current output cell\n",
       "var outputEl = gd.closest('.output');\n",
       "if (outputEl) {{\n",
       "    x.observe(outputEl, {childList: true});\n",
       "}}\n",
       "\n",
       "                        })                };                });            </script>        </div>"
      ]
     },
     "metadata": {},
     "output_type": "display_data"
    }
   ],
   "source": [
    "import_countries=import_data.groupby('country',as_index=False).agg({'value':'sum'})\n",
    "px.choropleth(data_frame=import_countries,locations='country',color='value',locationmode='country names')"
   ]
  },
  {
   "cell_type": "code",
   "execution_count": 27,
   "id": "understood-madison",
   "metadata": {
    "execution": {
     "iopub.execute_input": "2021-08-02T08:02:19.988030Z",
     "iopub.status.busy": "2021-08-02T08:02:19.987406Z",
     "iopub.status.idle": "2021-08-02T08:02:20.076079Z",
     "shell.execute_reply": "2021-08-02T08:02:20.075528Z",
     "shell.execute_reply.started": "2021-06-24T02:37:01.532466Z"
    },
    "papermill": {
     "duration": 0.130466,
     "end_time": "2021-08-02T08:02:20.076261",
     "exception": false,
     "start_time": "2021-08-02T08:02:19.945795",
     "status": "completed"
    },
    "tags": []
   },
   "outputs": [
    {
     "data": {
      "text/html": [
       "<div>                            <div id=\"7c85dfd9-0653-4328-ab88-08b419cecb28\" class=\"plotly-graph-div\" style=\"height:525px; width:100%;\"></div>            <script type=\"text/javascript\">                require([\"plotly\"], function(Plotly) {                    window.PLOTLYENV=window.PLOTLYENV || {};                                    if (document.getElementById(\"7c85dfd9-0653-4328-ab88-08b419cecb28\")) {                    Plotly.newPlot(                        \"7c85dfd9-0653-4328-ab88-08b419cecb28\",                        [{\"coloraxis\": \"coloraxis\", \"geo\": \"geo\", \"hovertemplate\": \"country=%{location}<br>value=%{z}<extra></extra>\", \"locationmode\": \"country names\", \"locations\": [\"AFGHANISTAN TIS\", \"ALBANIA\", \"ALGERIA\", \"AMERI SAMOA\", \"ANDORRA\", \"ANGOLA\", \"ANGUILLA\", \"ANTARTICA\", \"ANTIGUA\", \"ARGENTINA\", \"ARMENIA\", \"ARUBA\", \"AUSTRALIA\", \"AUSTRIA\", \"AZERBAIJAN\", \"BAHAMAS\", \"BAHARAIN IS\", \"BANGLADESH PR\", \"BARBADOS\", \"BELARUS\", \"BELGIUM\", \"BELIZE\", \"BENIN\", \"BERMUDA\", \"BHUTAN\", \"BOLIVIA\", \"BOSNIA-HRZGOVIN\", \"BOTSWANA\", \"BR VIRGN IS\", \"BRAZIL\", \"BRUNEI\", \"BULGARIA\", \"BURKINA FASO\", \"BURUNDI\", \"C AFRI REP\", \"CAMBODIA\", \"CAMEROON\", \"CANADA\", \"CANARY IS\", \"CAPE VERDE IS\", \"CAYMAN IS\", \"CHAD\", \"CHANNEL IS\", \"CHILE\", \"CHINA P RP\", \"CHRISTMAS IS.\", \"COCOS IS\", \"COLOMBIA\", \"COMOROS\", \"CONGO D. REP.\", \"CONGO P REP\", \"COOK IS\", \"COSTA RICA\", \"COTE D' IVOIRE\", \"CROATIA\", \"CUBA\", \"CURACAO\", \"CYPRUS\", \"CZECH REPUBLIC\", \"DENMARK\", \"DJIBOUTI\", \"DOMINIC REP\", \"DOMINICA\", \"ECUADOR\", \"EGYPT A RP\", \"EL SALVADOR\", \"EQUTL GUINEA\", \"ERITREA\", \"ESTONIA\", \"ETHIOPIA\", \"FALKLAND IS\", \"FAROE IS.\", \"FIJI IS\", \"FINLAND\", \"FR GUIANA\", \"FR POLYNESIA\", \"FR S ANT TR\", \"FRANCE\", \"GABON\", \"GAMBIA\", \"GEORGIA\", \"GERMANY\", \"GHANA\", \"GIBRALTAR\", \"GREECE\", \"GREENLAND\", \"GRENADA\", \"GUADELOUPE\", \"GUAM\", \"GUATEMALA\", \"GUERNSEY\", \"GUINEA\", \"GUINEA BISSAU\", \"GUYANA\", \"HAITI\", \"HEARD MACDONALD\", \"HONDURAS\", \"HONG KONG\", \"HUNGARY\", \"ICELAND\", \"INDONESIA\", \"INSTALLATIONS IN INTERNATIONAL WATERS   \", \"IRAN\", \"IRAQ\", \"IRELAND\", \"ISRAEL\", \"ITALY\", \"JAMAICA\", \"JAPAN\", \"JERSEY         \", \"JORDAN\", \"KAZAKHSTAN\", \"KENYA\", \"KIRIBATI REP\", \"KOREA DP RP\", \"KOREA RP\", \"KUWAIT\", \"KYRGHYZSTAN\", \"LAO PD RP\", \"LATVIA\", \"LEBANON\", \"LESOTHO\", \"LIBERIA\", \"LIBYA\", \"LIECHTENSTEIN\", \"LITHUANIA\", \"LUXEMBOURG\", \"MACAO\", \"MACEDONIA\", \"MADAGASCAR\", \"MALAWI\", \"MALAYSIA\", \"MALDIVES\", \"MALI\", \"MALTA\", \"MARSHALL ISLAND\", \"MARTINIQUE\", \"MAURITANIA\", \"MAURITIUS\", \"MAYOTTE\", \"MEXICO\", \"MICRONESIA\", \"MOLDOVA\", \"MONACO\", \"MONGOLIA\", \"MONTENEGRO\", \"MONTSERRAT\", \"MOROCCO\", \"MOZAMBIQUE\", \"MYANMAR\", \"N. MARIANA IS.\", \"NAMIBIA\", \"NAURU RP\", \"NEPAL\", \"NETHERLAND\", \"NETHERLANDANTIL\", \"NEUTRAL ZONE\", \"NEW CALEDONIA\", \"NEW ZEALAND\", \"NICARAGUA\", \"NIGER\", \"NIGERIA\", \"NIUE IS\", \"NORFOLK IS\", \"NORWAY\", \"OMAN\", \"PACIFIC IS\", \"PAKISTAN IR\", \"PALAU\", \"PANAMA C Z\", \"PANAMA REPUBLIC\", \"PAPUA N GNA\", \"PARAGUAY\", \"PERU\", \"PHILIPPINES\", \"PITCAIRN IS.\", \"POLAND\", \"PORTUGAL\", \"PUERTO RICO\", \"QATAR\", \"REUNION\", \"ROMANIA\", \"RUSSIA\", \"RWANDA\", \"SAHARWI A.DM RP\", \"SAMOA\", \"SAN MARINO\", \"SAO TOME\", \"SAUDI ARAB\", \"SENEGAL\", \"SERBIA\", \"SEYCHELLES\", \"SIERRA LEONE\", \"SINGAPORE\", \"SINT MAARTEN (DUTCH PART)\", \"SLOVAK REP\", \"SLOVENIA\", \"SOLOMON IS\", \"SOMALIA\", \"SOUTH AFRICA\", \"SOUTH SUDAN \", \"SPAIN\", \"SRI LANKA DSR\", \"ST HELENA\", \"ST KITT N A\", \"ST LUCIA\", \"ST PIERRE\", \"ST VINCENT\", \"STATE OF PALEST\", \"SUDAN\", \"SURINAME\", \"SWAZILAND\", \"SWEDEN\", \"SWITZERLAND\", \"SYRIA\", \"TAIWAN\", \"TAJIKISTAN\", \"TANZANIA REP\", \"THAILAND\", \"TIMOR LESTE\", \"TOGO\", \"TOKELAU IS\", \"TONGA\", \"TRINIDAD\", \"TUNISIA\", \"TURKEY\", \"TURKMENISTAN\", \"TURKS C IS\", \"TUVALU\", \"U ARAB EMTS\", \"U K\", \"U S A\", \"UGANDA\", \"UKRAINE\", \"UNION OF SERBIA & MONTENEGRO\", \"UNSPECIFIED\", \"URUGUAY\", \"US MINOR OUTLYING ISLANDS               \", \"UZBEKISTAN\", \"VANUATU REP\", \"VATICAN CITY\", \"VENEZUELA\", \"VIETNAM SOC REP\", \"VIRGIN IS US\", \"WALLIS F IS\", \"YEMEN REPUBLC\", \"ZAMBIA\", \"ZIMBABWE\"], \"name\": \"\", \"type\": \"choropleth\", \"z\": [4760.1900000000105, 196.51000000000005, 8232.240000000003, 3.3999999999999995, 6.279999999999994, 3601.7400000000052, 1.1700000000000004, 0.56, 16.72, 4807.560000000001, 374.6799999999995, 45.01000000000001, 25372.289999999994, 3629.090000000004, 582.199999999999, 7469.870000000006, 5231.250000000014, 55472.640000000036, 83.37000000000003, 493.6399999999997, 53969.09999999993, 171.00999999999993, 4440.8300000000045, 21.53000000000002, 3509.4900000000025, 585.4599999999984, 110.36999999999998, 650.2399999999983, 15.699999999999994, 39272.08000000004, 1223.2899999999986, 1540.2399999999961, 986.0699999999988, 286.3299999999996, 109.69000000000014, 1127.5399999999986, 1788.7299999999993, 19050.239999999987, 0.16999999999999998, 13.169999999999987, 28.00000000000003, 317.4499999999996, 0.1, 6055.390000000005, 121805.99999999991, 1.25, 1.7400000000000002, 8205.01000000001, 158.28000000000011, 1640.529999999998, 1802.8299999999956, 1.2000000000000004, 941.6099999999981, 3157.0400000000077, 1220.4599999999966, 343.59, 0.01, 569.2099999999994, 3360.1700000000073, 6552.880000000015, 3403.6200000000035, 1373.859999999998, 19.70999999999999, 2060.2399999999966, 22571.669999999962, 520.9599999999998, 133.35, 131.47000000000006, 713.9999999999986, 6102.690000000013, 1.41, 14.329999999999995, 415.6399999999996, 2688.2199999999993, 110.80000000000001, 40.38999999999999, 0.08999999999999998, 44833.09999999996, 414.08999999999935, 718.5000000000001, 857.4399999999986, 68855.45000000004, 6292.800000000023, 4513.080000000007, 3804.2700000000045, 12.52, 16.819999999999997, 46.370000000000026, 7.819999999999993, 2063.799999999997, 0.03, 2337.1299999999997, 112.59, 205.20000000000002, 624.0999999999996, 0.59, 1162.7899999999968, 115693.35000000003, 3157.120000000006, 255.77000000000004, 42148.840000000004, 121.55, 28724.94999999996, 9833.610000000015, 4287.860000000008, 30725.71999999998, 44593.43000000001, 343.28999999999957, 47822.15000000001, 0.0, 7474.860000000006, 1755.799999999997, 25494.380000000012, 6.009999999999994, 1264.2999999999997, 38023.01999999993, 11801.910000000033, 277.3799999999999, 302.0499999999995, 926.1499999999983, 2206.960000000001, 252.49999999999991, 1425.8499999999951, 1380.1299999999978, 8.779999999999994, 988.67, 118.17000000000003, 26.090000000000057, 116.14000000000011, 1597.909999999996, 1592.8699999999956, 43377.700000000055, 1421.0499999999968, 954.8499999999987, 3376.840000000001, 118.43999999999998, 47.37, 561.7599999999998, 10448.700000000012, 3.0399999999999987, 22946.46999999998, 2.9400000000000004, 73.31000000000006, 10.45999999999998, 164.03000000000014, 225.86999999999995, 2.8499999999999988, 3657.000000000003, 9692.600000000013, 7320.320000000014, 1.1600000000000004, 786.2499999999985, 4.889999999999996, 39861.82999999996, 66581.17000000003, 405.0299999999994, 0.16000000000000003, 140.02999999999997, 2692.150000000004, 569.5199999999994, 732.0199999999988, 22134.41000000001, 0.09, 4.06, 2699.5300000000034, 19798.810000000012, 35.11, 17760.08, 0.54, 2.24, 1972.0299999999988, 350.84999999999974, 938.7799999999992, 5940.560000000013, 12146.830000000005, 0.46, 9646.660000000005, 5593.100000000005, 901.3399999999983, 8662.850000000022, 413.2299999999995, 3023.670000000005, 18008.309999999994, 824.4899999999977, 0.19, 21.420000000000005, 0.8200000000000002, 8.959999999999988, 65995.99, 4566.100000000003, 298.5299999999997, 381.76999999999924, 896.3599999999976, 101679.69999999998, 0.01, 1083.8699999999972, 2259.309999999997, 19.870000000000008, 2963.1600000000053, 39151.15999999997, 17.30999999999999, 29300.82, 41516.39000000003, 0.67, 14.849999999999989, 24.12000000000001, 0.13999999999999999, 6.529999999999992, 1.4800000000000002, 6980.020000000014, 157.62000000000023, 370.8799999999998, 6568.01000000001, 9992.560000000034, 2276.6899999999987, 21234.510000000046, 271.41999999999956, 17886.320000000007, 30351.260000000002, 575.3299999999999, 3942.0500000000047, 15.23, 8.96999999999999, 846.4599999999984, 2453.9299999999985, 39360.95999999998, 531.4899999999993, 3.4299999999999966, 0.42000000000000004, 289374.8799999995, 79942.60999999997, 360609.57000000065, 4452.800000000018, 3644.8300000000013, 174.43999999999994, 62259.89000000002, 1419.0799999999997, 3.129999999999999, 1096.4799999999987, 21.410000000000004, 0.35000000000000003, 1551.2499999999977, 48409.359999999964, 70.12000000000002, 0.39000000000000007, 7170.9100000000135, 2463.7299999999996, 1436.359999999999]}],                        {\"coloraxis\": {\"colorbar\": {\"title\": {\"text\": \"value\"}}, \"colorscale\": [[0.0, \"#0d0887\"], [0.1111111111111111, \"#46039f\"], [0.2222222222222222, \"#7201a8\"], [0.3333333333333333, \"#9c179e\"], [0.4444444444444444, \"#bd3786\"], [0.5555555555555556, \"#d8576b\"], [0.6666666666666666, \"#ed7953\"], [0.7777777777777778, \"#fb9f3a\"], [0.8888888888888888, \"#fdca26\"], [1.0, \"#f0f921\"]]}, \"geo\": {\"center\": {}, \"domain\": {\"x\": [0.0, 1.0], \"y\": [0.0, 1.0]}}, \"legend\": {\"tracegroupgap\": 0}, \"margin\": {\"t\": 60}, \"template\": {\"data\": {\"bar\": [{\"error_x\": {\"color\": \"#2a3f5f\"}, \"error_y\": {\"color\": \"#2a3f5f\"}, \"marker\": {\"line\": {\"color\": \"#E5ECF6\", \"width\": 0.5}}, \"type\": \"bar\"}], \"barpolar\": [{\"marker\": {\"line\": {\"color\": \"#E5ECF6\", \"width\": 0.5}}, \"type\": \"barpolar\"}], \"carpet\": [{\"aaxis\": {\"endlinecolor\": \"#2a3f5f\", \"gridcolor\": \"white\", \"linecolor\": \"white\", \"minorgridcolor\": \"white\", \"startlinecolor\": \"#2a3f5f\"}, \"baxis\": {\"endlinecolor\": \"#2a3f5f\", \"gridcolor\": \"white\", \"linecolor\": \"white\", \"minorgridcolor\": \"white\", \"startlinecolor\": \"#2a3f5f\"}, \"type\": \"carpet\"}], \"choropleth\": [{\"colorbar\": {\"outlinewidth\": 0, \"ticks\": \"\"}, \"type\": \"choropleth\"}], \"contour\": [{\"colorbar\": {\"outlinewidth\": 0, \"ticks\": \"\"}, \"colorscale\": [[0.0, \"#0d0887\"], [0.1111111111111111, \"#46039f\"], [0.2222222222222222, \"#7201a8\"], [0.3333333333333333, \"#9c179e\"], [0.4444444444444444, \"#bd3786\"], [0.5555555555555556, \"#d8576b\"], [0.6666666666666666, \"#ed7953\"], [0.7777777777777778, \"#fb9f3a\"], [0.8888888888888888, \"#fdca26\"], [1.0, \"#f0f921\"]], \"type\": \"contour\"}], \"contourcarpet\": [{\"colorbar\": {\"outlinewidth\": 0, \"ticks\": \"\"}, \"type\": \"contourcarpet\"}], \"heatmap\": [{\"colorbar\": {\"outlinewidth\": 0, \"ticks\": \"\"}, \"colorscale\": [[0.0, \"#0d0887\"], [0.1111111111111111, \"#46039f\"], [0.2222222222222222, \"#7201a8\"], [0.3333333333333333, \"#9c179e\"], [0.4444444444444444, \"#bd3786\"], [0.5555555555555556, \"#d8576b\"], [0.6666666666666666, \"#ed7953\"], [0.7777777777777778, \"#fb9f3a\"], [0.8888888888888888, \"#fdca26\"], [1.0, \"#f0f921\"]], \"type\": \"heatmap\"}], \"heatmapgl\": [{\"colorbar\": {\"outlinewidth\": 0, \"ticks\": \"\"}, \"colorscale\": [[0.0, \"#0d0887\"], [0.1111111111111111, \"#46039f\"], [0.2222222222222222, \"#7201a8\"], [0.3333333333333333, \"#9c179e\"], [0.4444444444444444, \"#bd3786\"], [0.5555555555555556, \"#d8576b\"], [0.6666666666666666, \"#ed7953\"], [0.7777777777777778, \"#fb9f3a\"], [0.8888888888888888, \"#fdca26\"], [1.0, \"#f0f921\"]], \"type\": \"heatmapgl\"}], \"histogram\": [{\"marker\": {\"colorbar\": {\"outlinewidth\": 0, \"ticks\": \"\"}}, \"type\": \"histogram\"}], \"histogram2d\": [{\"colorbar\": {\"outlinewidth\": 0, \"ticks\": \"\"}, \"colorscale\": [[0.0, \"#0d0887\"], [0.1111111111111111, \"#46039f\"], [0.2222222222222222, \"#7201a8\"], [0.3333333333333333, \"#9c179e\"], [0.4444444444444444, \"#bd3786\"], [0.5555555555555556, \"#d8576b\"], [0.6666666666666666, \"#ed7953\"], [0.7777777777777778, \"#fb9f3a\"], [0.8888888888888888, \"#fdca26\"], [1.0, \"#f0f921\"]], \"type\": \"histogram2d\"}], \"histogram2dcontour\": [{\"colorbar\": {\"outlinewidth\": 0, \"ticks\": \"\"}, \"colorscale\": [[0.0, \"#0d0887\"], [0.1111111111111111, \"#46039f\"], [0.2222222222222222, \"#7201a8\"], [0.3333333333333333, \"#9c179e\"], [0.4444444444444444, \"#bd3786\"], [0.5555555555555556, \"#d8576b\"], [0.6666666666666666, \"#ed7953\"], [0.7777777777777778, \"#fb9f3a\"], [0.8888888888888888, \"#fdca26\"], [1.0, \"#f0f921\"]], \"type\": \"histogram2dcontour\"}], \"mesh3d\": [{\"colorbar\": {\"outlinewidth\": 0, \"ticks\": \"\"}, \"type\": \"mesh3d\"}], \"parcoords\": [{\"line\": {\"colorbar\": {\"outlinewidth\": 0, \"ticks\": \"\"}}, \"type\": \"parcoords\"}], \"pie\": [{\"automargin\": true, \"type\": \"pie\"}], \"scatter\": [{\"marker\": {\"colorbar\": {\"outlinewidth\": 0, \"ticks\": \"\"}}, \"type\": \"scatter\"}], \"scatter3d\": [{\"line\": {\"colorbar\": {\"outlinewidth\": 0, \"ticks\": \"\"}}, \"marker\": {\"colorbar\": {\"outlinewidth\": 0, \"ticks\": \"\"}}, \"type\": \"scatter3d\"}], \"scattercarpet\": [{\"marker\": {\"colorbar\": {\"outlinewidth\": 0, \"ticks\": \"\"}}, \"type\": \"scattercarpet\"}], \"scattergeo\": [{\"marker\": {\"colorbar\": {\"outlinewidth\": 0, \"ticks\": \"\"}}, \"type\": \"scattergeo\"}], \"scattergl\": [{\"marker\": {\"colorbar\": {\"outlinewidth\": 0, \"ticks\": \"\"}}, \"type\": \"scattergl\"}], \"scattermapbox\": [{\"marker\": {\"colorbar\": {\"outlinewidth\": 0, \"ticks\": \"\"}}, \"type\": \"scattermapbox\"}], \"scatterpolar\": [{\"marker\": {\"colorbar\": {\"outlinewidth\": 0, \"ticks\": \"\"}}, \"type\": \"scatterpolar\"}], \"scatterpolargl\": [{\"marker\": {\"colorbar\": {\"outlinewidth\": 0, \"ticks\": \"\"}}, \"type\": \"scatterpolargl\"}], \"scatterternary\": [{\"marker\": {\"colorbar\": {\"outlinewidth\": 0, \"ticks\": \"\"}}, \"type\": \"scatterternary\"}], \"surface\": [{\"colorbar\": {\"outlinewidth\": 0, \"ticks\": \"\"}, \"colorscale\": [[0.0, \"#0d0887\"], [0.1111111111111111, \"#46039f\"], [0.2222222222222222, \"#7201a8\"], [0.3333333333333333, \"#9c179e\"], [0.4444444444444444, \"#bd3786\"], [0.5555555555555556, \"#d8576b\"], [0.6666666666666666, \"#ed7953\"], [0.7777777777777778, \"#fb9f3a\"], [0.8888888888888888, \"#fdca26\"], [1.0, \"#f0f921\"]], \"type\": \"surface\"}], \"table\": [{\"cells\": {\"fill\": {\"color\": \"#EBF0F8\"}, \"line\": {\"color\": \"white\"}}, \"header\": {\"fill\": {\"color\": \"#C8D4E3\"}, \"line\": {\"color\": \"white\"}}, \"type\": \"table\"}]}, \"layout\": {\"annotationdefaults\": {\"arrowcolor\": \"#2a3f5f\", \"arrowhead\": 0, \"arrowwidth\": 1}, \"autotypenumbers\": \"strict\", \"coloraxis\": {\"colorbar\": {\"outlinewidth\": 0, \"ticks\": \"\"}}, \"colorscale\": {\"diverging\": [[0, \"#8e0152\"], [0.1, \"#c51b7d\"], [0.2, \"#de77ae\"], [0.3, \"#f1b6da\"], [0.4, \"#fde0ef\"], [0.5, \"#f7f7f7\"], [0.6, \"#e6f5d0\"], [0.7, \"#b8e186\"], [0.8, \"#7fbc41\"], [0.9, \"#4d9221\"], [1, \"#276419\"]], \"sequential\": [[0.0, \"#0d0887\"], [0.1111111111111111, \"#46039f\"], [0.2222222222222222, \"#7201a8\"], [0.3333333333333333, \"#9c179e\"], [0.4444444444444444, \"#bd3786\"], [0.5555555555555556, \"#d8576b\"], [0.6666666666666666, \"#ed7953\"], [0.7777777777777778, \"#fb9f3a\"], [0.8888888888888888, \"#fdca26\"], [1.0, \"#f0f921\"]], \"sequentialminus\": [[0.0, \"#0d0887\"], [0.1111111111111111, \"#46039f\"], [0.2222222222222222, \"#7201a8\"], [0.3333333333333333, \"#9c179e\"], [0.4444444444444444, \"#bd3786\"], [0.5555555555555556, \"#d8576b\"], [0.6666666666666666, \"#ed7953\"], [0.7777777777777778, \"#fb9f3a\"], [0.8888888888888888, \"#fdca26\"], [1.0, \"#f0f921\"]]}, \"colorway\": [\"#636efa\", \"#EF553B\", \"#00cc96\", \"#ab63fa\", \"#FFA15A\", \"#19d3f3\", \"#FF6692\", \"#B6E880\", \"#FF97FF\", \"#FECB52\"], \"font\": {\"color\": \"#2a3f5f\"}, \"geo\": {\"bgcolor\": \"white\", \"lakecolor\": \"white\", \"landcolor\": \"#E5ECF6\", \"showlakes\": true, \"showland\": true, \"subunitcolor\": \"white\"}, \"hoverlabel\": {\"align\": \"left\"}, \"hovermode\": \"closest\", \"mapbox\": {\"style\": \"light\"}, \"paper_bgcolor\": \"white\", \"plot_bgcolor\": \"#E5ECF6\", \"polar\": {\"angularaxis\": {\"gridcolor\": \"white\", \"linecolor\": \"white\", \"ticks\": \"\"}, \"bgcolor\": \"#E5ECF6\", \"radialaxis\": {\"gridcolor\": \"white\", \"linecolor\": \"white\", \"ticks\": \"\"}}, \"scene\": {\"xaxis\": {\"backgroundcolor\": \"#E5ECF6\", \"gridcolor\": \"white\", \"gridwidth\": 2, \"linecolor\": \"white\", \"showbackground\": true, \"ticks\": \"\", \"zerolinecolor\": \"white\"}, \"yaxis\": {\"backgroundcolor\": \"#E5ECF6\", \"gridcolor\": \"white\", \"gridwidth\": 2, \"linecolor\": \"white\", \"showbackground\": true, \"ticks\": \"\", \"zerolinecolor\": \"white\"}, \"zaxis\": {\"backgroundcolor\": \"#E5ECF6\", \"gridcolor\": \"white\", \"gridwidth\": 2, \"linecolor\": \"white\", \"showbackground\": true, \"ticks\": \"\", \"zerolinecolor\": \"white\"}}, \"shapedefaults\": {\"line\": {\"color\": \"#2a3f5f\"}}, \"ternary\": {\"aaxis\": {\"gridcolor\": \"white\", \"linecolor\": \"white\", \"ticks\": \"\"}, \"baxis\": {\"gridcolor\": \"white\", \"linecolor\": \"white\", \"ticks\": \"\"}, \"bgcolor\": \"#E5ECF6\", \"caxis\": {\"gridcolor\": \"white\", \"linecolor\": \"white\", \"ticks\": \"\"}}, \"title\": {\"x\": 0.05}, \"xaxis\": {\"automargin\": true, \"gridcolor\": \"white\", \"linecolor\": \"white\", \"ticks\": \"\", \"title\": {\"standoff\": 15}, \"zerolinecolor\": \"white\", \"zerolinewidth\": 2}, \"yaxis\": {\"automargin\": true, \"gridcolor\": \"white\", \"linecolor\": \"white\", \"ticks\": \"\", \"title\": {\"standoff\": 15}, \"zerolinecolor\": \"white\", \"zerolinewidth\": 2}}}},                        {\"responsive\": true}                    ).then(function(){\n",
       "                            \n",
       "var gd = document.getElementById('7c85dfd9-0653-4328-ab88-08b419cecb28');\n",
       "var x = new MutationObserver(function (mutations, observer) {{\n",
       "        var display = window.getComputedStyle(gd).display;\n",
       "        if (!display || display === 'none') {{\n",
       "            console.log([gd, 'removed!']);\n",
       "            Plotly.purge(gd);\n",
       "            observer.disconnect();\n",
       "        }}\n",
       "}});\n",
       "\n",
       "// Listen for the removal of the full notebook cells\n",
       "var notebookContainer = gd.closest('#notebook-container');\n",
       "if (notebookContainer) {{\n",
       "    x.observe(notebookContainer, {childList: true});\n",
       "}}\n",
       "\n",
       "// Listen for the clearing of the current output cell\n",
       "var outputEl = gd.closest('.output');\n",
       "if (outputEl) {{\n",
       "    x.observe(outputEl, {childList: true});\n",
       "}}\n",
       "\n",
       "                        })                };                });            </script>        </div>"
      ]
     },
     "metadata": {},
     "output_type": "display_data"
    }
   ],
   "source": [
    "export_countries=export_data.groupby('country',as_index=False).agg({'value':'sum'})\n",
    "px.choropleth(data_frame=export_countries,locations='country',color='value',locationmode='country names')"
   ]
  }
 ],
 "metadata": {
  "kernelspec": {
   "display_name": "Python 3",
   "language": "python",
   "name": "python3"
  },
  "language_info": {
   "codemirror_mode": {
    "name": "ipython",
    "version": 3
   },
   "file_extension": ".py",
   "mimetype": "text/x-python",
   "name": "python",
   "nbconvert_exporter": "python",
   "pygments_lexer": "ipython3",
   "version": "3.7.10"
  },
  "papermill": {
   "default_parameters": {},
   "duration": 17.948746,
   "end_time": "2021-08-02T08:02:21.027782",
   "environment_variables": {},
   "exception": null,
   "input_path": "__notebook__.ipynb",
   "output_path": "__notebook__.ipynb",
   "parameters": {},
   "start_time": "2021-08-02T08:02:03.079036",
   "version": "2.3.3"
  }
 },
 "nbformat": 4,
 "nbformat_minor": 5
}
